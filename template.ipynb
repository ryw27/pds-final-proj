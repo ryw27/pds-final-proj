{
 "cells": [
  {
   "cell_type": "markdown",
   "metadata": {},
   "source": [
    "# Your Title Here\n",
    "\n",
    "**Name(s)**: Ryan Wei, Eric Teng\n",
    "\n",
    "**Website Link**: (your website link)"
   ]
  },
  {
   "cell_type": "code",
   "execution_count": 2,
   "metadata": {
    "ExecuteTime": {
     "end_time": "2019-10-31T23:36:28.652554Z",
     "start_time": "2019-10-31T23:36:27.180520Z"
    }
   },
   "outputs": [],
   "source": [
    "import pandas as pd\n",
    "import numpy as np\n",
    "import sys\n",
    "\n",
    "import plotly.express as px\n",
    "import plotly.graph_objects as go\n",
    "pd.options.plotting.backend = 'plotly'\n",
    "\n",
    "from lec_utils import * # Feel free to uncomment and use this. It'll make your plotly graphs look like ours in lecture!"
   ]
  },
  {
   "cell_type": "markdown",
   "metadata": {},
   "source": [
    "## Step 1: Introduction"
   ]
  },
  {
   "cell_type": "code",
   "execution_count": 17,
   "metadata": {},
   "outputs": [],
   "source": [
    "# TODO \n",
    "# are teams with VI or Jinx more likely to win??????????????????\n",
    "games = pd.read_csv('2022.csv')"
   ]
  },
  {
   "cell_type": "code",
   "execution_count": 4,
   "metadata": {},
   "outputs": [
    {
     "data": {
      "text/html": [
       "<div>\n",
       "<style scoped>\n",
       "    .dataframe tbody tr th:only-of-type {\n",
       "        vertical-align: middle;\n",
       "    }\n",
       "\n",
       "    .dataframe tbody tr th {\n",
       "        vertical-align: top;\n",
       "    }\n",
       "\n",
       "    .dataframe thead th {\n",
       "        text-align: right;\n",
       "    }\n",
       "</style>\n",
       "<table border=\"1\" class=\"dataframe\">\n",
       "  <thead>\n",
       "    <tr style=\"text-align: right;\">\n",
       "      <th></th>\n",
       "      <th>gameid</th>\n",
       "      <th>datacompleteness</th>\n",
       "      <th>url</th>\n",
       "      <th>league</th>\n",
       "      <th>...</th>\n",
       "      <th>deathsat25</th>\n",
       "      <th>opp_killsat25</th>\n",
       "      <th>opp_assistsat25</th>\n",
       "      <th>opp_deathsat25</th>\n",
       "    </tr>\n",
       "  </thead>\n",
       "  <tbody>\n",
       "    <tr>\n",
       "      <th>0</th>\n",
       "      <td>ESPORTSTMNT01_2690210</td>\n",
       "      <td>complete</td>\n",
       "      <td>NaN</td>\n",
       "      <td>LCKC</td>\n",
       "      <td>...</td>\n",
       "      <td>1.0</td>\n",
       "      <td>0.0</td>\n",
       "      <td>2.0</td>\n",
       "      <td>0.0</td>\n",
       "    </tr>\n",
       "    <tr>\n",
       "      <th>1</th>\n",
       "      <td>ESPORTSTMNT01_2690210</td>\n",
       "      <td>complete</td>\n",
       "      <td>NaN</td>\n",
       "      <td>LCKC</td>\n",
       "      <td>...</td>\n",
       "      <td>2.0</td>\n",
       "      <td>1.0</td>\n",
       "      <td>5.0</td>\n",
       "      <td>1.0</td>\n",
       "    </tr>\n",
       "    <tr>\n",
       "      <th>2</th>\n",
       "      <td>ESPORTSTMNT01_2690210</td>\n",
       "      <td>complete</td>\n",
       "      <td>NaN</td>\n",
       "      <td>LCKC</td>\n",
       "      <td>...</td>\n",
       "      <td>0.0</td>\n",
       "      <td>3.0</td>\n",
       "      <td>4.0</td>\n",
       "      <td>3.0</td>\n",
       "    </tr>\n",
       "    <tr>\n",
       "      <th>3</th>\n",
       "      <td>ESPORTSTMNT01_2690210</td>\n",
       "      <td>complete</td>\n",
       "      <td>NaN</td>\n",
       "      <td>LCKC</td>\n",
       "      <td>...</td>\n",
       "      <td>2.0</td>\n",
       "      <td>3.0</td>\n",
       "      <td>4.0</td>\n",
       "      <td>0.0</td>\n",
       "    </tr>\n",
       "    <tr>\n",
       "      <th>4</th>\n",
       "      <td>ESPORTSTMNT01_2690210</td>\n",
       "      <td>complete</td>\n",
       "      <td>NaN</td>\n",
       "      <td>LCKC</td>\n",
       "      <td>...</td>\n",
       "      <td>2.0</td>\n",
       "      <td>0.0</td>\n",
       "      <td>7.0</td>\n",
       "      <td>2.0</td>\n",
       "    </tr>\n",
       "  </tbody>\n",
       "</table>\n",
       "<p>5 rows × 161 columns</p>\n",
       "</div>"
      ],
      "text/plain": [
       "                  gameid datacompleteness  url league  ...  deathsat25  \\\n",
       "0  ESPORTSTMNT01_2690210         complete  NaN   LCKC  ...         1.0   \n",
       "1  ESPORTSTMNT01_2690210         complete  NaN   LCKC  ...         2.0   \n",
       "2  ESPORTSTMNT01_2690210         complete  NaN   LCKC  ...         0.0   \n",
       "3  ESPORTSTMNT01_2690210         complete  NaN   LCKC  ...         2.0   \n",
       "4  ESPORTSTMNT01_2690210         complete  NaN   LCKC  ...         2.0   \n",
       "\n",
       "  opp_killsat25  opp_assistsat25 opp_deathsat25  \n",
       "0           0.0              2.0            0.0  \n",
       "1           1.0              5.0            1.0  \n",
       "2           3.0              4.0            3.0  \n",
       "3           3.0              4.0            0.0  \n",
       "4           0.0              7.0            2.0  \n",
       "\n",
       "[5 rows x 161 columns]"
      ]
     },
     "execution_count": 4,
     "metadata": {},
     "output_type": "execute_result"
    }
   ],
   "source": [
    "games.head()"
   ]
  },
  {
   "cell_type": "markdown",
   "metadata": {},
   "source": [
    "## Step 2: Data Cleaning and Exploratory Data Analysis"
   ]
  },
  {
   "cell_type": "code",
   "execution_count": 5,
   "metadata": {
    "ExecuteTime": {
     "end_time": "2019-10-31T23:36:28.657068Z",
     "start_time": "2019-10-31T23:36:28.654650Z"
    }
   },
   "outputs": [
    {
     "data": {
      "text/plain": [
       "array([0, 1])"
      ]
     },
     "execution_count": 5,
     "metadata": {},
     "output_type": "execute_result"
    }
   ],
   "source": [
    "# TODO: Data Clean\n",
    "# for x in games.columns:\n",
    "#     print(x)\n",
    "# np.set_printoptions(threshold=sys.maxsize)\n",
    "# print(list(games.columns))\n",
    "\n",
    "\n",
    "# we need pick 1-5 and result\n",
    "games['result'].unique()"
   ]
  },
  {
   "cell_type": "code",
   "execution_count": 6,
   "metadata": {},
   "outputs": [
    {
     "data": {
      "text/html": [
       "<div>\n",
       "<style scoped>\n",
       "    .dataframe tbody tr th:only-of-type {\n",
       "        vertical-align: middle;\n",
       "    }\n",
       "\n",
       "    .dataframe tbody tr th {\n",
       "        vertical-align: top;\n",
       "    }\n",
       "\n",
       "    .dataframe thead th {\n",
       "        text-align: right;\n",
       "    }\n",
       "</style>\n",
       "<table border=\"1\" class=\"dataframe\">\n",
       "  <thead>\n",
       "    <tr style=\"text-align: right;\">\n",
       "      <th></th>\n",
       "      <th>pick1</th>\n",
       "      <th>pick2</th>\n",
       "      <th>pick3</th>\n",
       "      <th>pick4</th>\n",
       "      <th>pick5</th>\n",
       "      <th>result</th>\n",
       "    </tr>\n",
       "  </thead>\n",
       "  <tbody>\n",
       "    <tr>\n",
       "      <th>11</th>\n",
       "      <td>Jinx</td>\n",
       "      <td>&lt;NA&gt;</td>\n",
       "      <td>&lt;NA&gt;</td>\n",
       "      <td>&lt;NA&gt;</td>\n",
       "      <td>&lt;NA&gt;</td>\n",
       "      <td>1</td>\n",
       "    </tr>\n",
       "    <tr>\n",
       "      <th>34</th>\n",
       "      <td>Jinx</td>\n",
       "      <td>&lt;NA&gt;</td>\n",
       "      <td>&lt;NA&gt;</td>\n",
       "      <td>&lt;NA&gt;</td>\n",
       "      <td>&lt;NA&gt;</td>\n",
       "      <td>1</td>\n",
       "    </tr>\n",
       "    <tr>\n",
       "      <th>58</th>\n",
       "      <td>Jinx</td>\n",
       "      <td>&lt;NA&gt;</td>\n",
       "      <td>&lt;NA&gt;</td>\n",
       "      <td>&lt;NA&gt;</td>\n",
       "      <td>&lt;NA&gt;</td>\n",
       "      <td>1</td>\n",
       "    </tr>\n",
       "    <tr>\n",
       "      <th>...</th>\n",
       "      <td>...</td>\n",
       "      <td>...</td>\n",
       "      <td>...</td>\n",
       "      <td>...</td>\n",
       "      <td>...</td>\n",
       "      <td>...</td>\n",
       "    </tr>\n",
       "    <tr>\n",
       "      <th>150562</th>\n",
       "      <td>&lt;NA&gt;</td>\n",
       "      <td>Vi</td>\n",
       "      <td>&lt;NA&gt;</td>\n",
       "      <td>&lt;NA&gt;</td>\n",
       "      <td>&lt;NA&gt;</td>\n",
       "      <td>1</td>\n",
       "    </tr>\n",
       "    <tr>\n",
       "      <th>150575</th>\n",
       "      <td>&lt;NA&gt;</td>\n",
       "      <td>Vi</td>\n",
       "      <td>&lt;NA&gt;</td>\n",
       "      <td>&lt;NA&gt;</td>\n",
       "      <td>&lt;NA&gt;</td>\n",
       "      <td>0</td>\n",
       "    </tr>\n",
       "    <tr>\n",
       "      <th>150587</th>\n",
       "      <td>&lt;NA&gt;</td>\n",
       "      <td>Vi</td>\n",
       "      <td>&lt;NA&gt;</td>\n",
       "      <td>&lt;NA&gt;</td>\n",
       "      <td>&lt;NA&gt;</td>\n",
       "      <td>1</td>\n",
       "    </tr>\n",
       "  </tbody>\n",
       "</table>\n",
       "<p>3861 rows × 6 columns</p>\n",
       "</div>"
      ],
      "text/plain": [
       "       pick1 pick2 pick3 pick4 pick5  result\n",
       "11      Jinx  <NA>  <NA>  <NA>  <NA>       1\n",
       "34      Jinx  <NA>  <NA>  <NA>  <NA>       1\n",
       "58      Jinx  <NA>  <NA>  <NA>  <NA>       1\n",
       "...      ...   ...   ...   ...   ...     ...\n",
       "150562  <NA>    Vi  <NA>  <NA>  <NA>       1\n",
       "150575  <NA>    Vi  <NA>  <NA>  <NA>       0\n",
       "150587  <NA>    Vi  <NA>  <NA>  <NA>       1\n",
       "\n",
       "[3861 rows x 6 columns]"
      ]
     },
     "execution_count": 6,
     "metadata": {},
     "output_type": "execute_result"
    }
   ],
   "source": [
    "# games.loc[:, ['pick1', 'pick2','pick3','pick4','pick5','result']]\n",
    "# def func(x):\n",
    "#     columns = ['pick1', 'pick2','pick3','pick4','pick5','result']\n",
    "#     # print(x)\n",
    "#     for col in columns:\n",
    "#         if pd.isna(x[col]):\n",
    "#             return None\n",
    "#     return x totally unecessary\n",
    "\n",
    "#change non vi/jinx games to nan to remove\n",
    "games_edited = games.copy()\n",
    "games_edited['pick1'] = games_edited['pick1'].transform(lambda x : np.where((x != \"Jinx\") & (x != \"Vi\"), pd.NA, x))\n",
    "games_edited['pick2'] = games_edited['pick2'].transform(lambda x : np.where((x != \"Jinx\") & (x != \"Vi\"), pd.NA, x))\n",
    "games_edited['pick3'] = games_edited['pick3'].transform(lambda x : np.where((x != \"Jinx\") & (x != \"Vi\"), pd.NA, x))\n",
    "games_edited['pick4'] = games_edited['pick4'].transform(lambda x : np.where((x != \"Jinx\") & (x != \"Vi\"), pd.NA, x))\n",
    "games_edited['pick5'] = games_edited['pick5'].transform(lambda x : np.where((x != \"Jinx\") & (x != \"Vi\"), pd.NA, x))\n",
    "\n",
    "#remove all games with nan values or no vi/jinx\n",
    "games_edited = games_edited.dropna(how='all', subset=['pick1','pick2','pick3','pick4','pick5'])\n",
    "games_edited = games_edited.dropna(subset=['result'])\n",
    "\n",
    "\n",
    "games_edited[['pick1','pick2','pick3','pick4','pick5','result']]"
   ]
  },
  {
   "cell_type": "code",
   "execution_count": 10,
   "metadata": {},
   "outputs": [
    {
     "data": {
      "text/html": [
       "<div>\n",
       "<style scoped>\n",
       "    .dataframe tbody tr th:only-of-type {\n",
       "        vertical-align: middle;\n",
       "    }\n",
       "\n",
       "    .dataframe tbody tr th {\n",
       "        vertical-align: top;\n",
       "    }\n",
       "\n",
       "    .dataframe thead th {\n",
       "        text-align: right;\n",
       "    }\n",
       "</style>\n",
       "<table border=\"1\" class=\"dataframe\">\n",
       "  <thead>\n",
       "    <tr style=\"text-align: right;\">\n",
       "      <th></th>\n",
       "      <th>Jinx</th>\n",
       "      <th>Vi</th>\n",
       "      <th>Result</th>\n",
       "    </tr>\n",
       "  </thead>\n",
       "  <tbody>\n",
       "    <tr>\n",
       "      <th>11</th>\n",
       "      <td>True</td>\n",
       "      <td>False</td>\n",
       "      <td>1</td>\n",
       "    </tr>\n",
       "    <tr>\n",
       "      <th>34</th>\n",
       "      <td>True</td>\n",
       "      <td>False</td>\n",
       "      <td>1</td>\n",
       "    </tr>\n",
       "    <tr>\n",
       "      <th>58</th>\n",
       "      <td>True</td>\n",
       "      <td>False</td>\n",
       "      <td>1</td>\n",
       "    </tr>\n",
       "    <tr>\n",
       "      <th>...</th>\n",
       "      <td>...</td>\n",
       "      <td>...</td>\n",
       "      <td>...</td>\n",
       "    </tr>\n",
       "    <tr>\n",
       "      <th>166</th>\n",
       "      <td>True</td>\n",
       "      <td>False</td>\n",
       "      <td>1</td>\n",
       "    </tr>\n",
       "    <tr>\n",
       "      <th>191</th>\n",
       "      <td>True</td>\n",
       "      <td>False</td>\n",
       "      <td>0</td>\n",
       "    </tr>\n",
       "    <tr>\n",
       "      <th>202</th>\n",
       "      <td>True</td>\n",
       "      <td>False</td>\n",
       "      <td>0</td>\n",
       "    </tr>\n",
       "  </tbody>\n",
       "</table>\n",
       "<p>10 rows × 3 columns</p>\n",
       "</div>"
      ],
      "text/plain": [
       "     Jinx     Vi  Result\n",
       "11   True  False       1\n",
       "34   True  False       1\n",
       "58   True  False       1\n",
       "..    ...    ...     ...\n",
       "166  True  False       1\n",
       "191  True  False       0\n",
       "202  True  False       0\n",
       "\n",
       "[10 rows x 3 columns]"
      ]
     },
     "execution_count": 10,
     "metadata": {},
     "output_type": "execute_result"
    }
   ],
   "source": [
    "# Turn into one-hot encoding\n",
    "one_hot = pd.DataFrame()\n",
    "one_hot[\"Jinx\"] = games_edited.eq(\"Jinx\").any(axis=1)\n",
    "one_hot[\"Vi\"] = games_edited.eq(\"Vi\").any(axis=1)\n",
    "one_hot[\"Result\"] = games_edited[\"result\"]\n",
    "one_hot.head(10)"
   ]
  },
  {
   "cell_type": "code",
   "execution_count": 7,
   "metadata": {},
   "outputs": [
    {
     "name": "stdout",
     "output_type": "stream",
     "text": [
      "512 3292 236 1644\n"
     ]
    }
   ],
   "source": [
    "vi_only_games = one_hot[(one_hot[\"Vi\"] == True) & (one_hot[\"Jinx\"] == False)].shape[0]\n",
    "jinx_only_games = one_hot[(one_hot[\"Jinx\"] == True) & (one_hot[\"Vi\"] == False)].shape[0]\n",
    "\n",
    "vi_only_win = one_hot[(one_hot[\"Vi\"] == True) & (one_hot[\"Jinx\"] == False) & (one_hot['Result'] == 1)].shape[0]\n",
    "jinx_only_win= one_hot[(one_hot[\"Jinx\"] == True) & (one_hot[\"Vi\"] == False) & (one_hot['Result'] == 1)].shape[0]\n",
    "\n",
    "print(vi_only_games, jinx_only_games, vi_only_win, jinx_only_win)"
   ]
  },
  {
   "cell_type": "code",
   "execution_count": 14,
   "metadata": {},
   "outputs": [
    {
     "data": {
      "application/vnd.plotly.v1+json": {
       "config": {
        "plotlyServerURL": "https://plot.ly"
       },
       "data": [
        {
         "alignmentgroup": "True",
         "hovertemplate": "Type=Games without Vi or Jinx<br>Champion=%{x}<br>Count=%{y}<extra></extra>",
         "legendgroup": "Games without Vi or Jinx",
         "marker": {
          "color": "#1F77B4",
          "pattern": {
           "shape": ""
          }
         },
         "name": "Games without Vi or Jinx",
         "offsetgroup": "Games without Vi or Jinx",
         "orientation": "v",
         "showlegend": true,
         "textposition": "auto",
         "type": "bar",
         "x": [
          "Jinx",
          "Vi"
         ],
         "xaxis": "x",
         "y": [
          132549,
          146521
         ],
         "yaxis": "y"
        },
        {
         "alignmentgroup": "True",
         "hovertemplate": "Type=Games with Vi or Jinx<br>Champion=%{x}<br>Count=%{y}<extra></extra>",
         "legendgroup": "Games with Vi or Jinx",
         "marker": {
          "color": "#FF7F0E",
          "pattern": {
           "shape": ""
          }
         },
         "name": "Games with Vi or Jinx",
         "offsetgroup": "Games with Vi or Jinx",
         "orientation": "v",
         "showlegend": true,
         "textposition": "auto",
         "type": "bar",
         "x": [
          "Jinx",
          "Vi"
         ],
         "xaxis": "x",
         "y": [
          18039,
          4067
         ],
         "yaxis": "y"
        }
       ],
       "layout": {
        "barmode": "stack",
        "legend": {
         "title": {
          "text": "Type"
         },
         "tracegroupgap": 0
        },
        "template": {
         "data": {
          "bar": [
           {
            "error_x": {
             "color": "rgb(36,36,36)"
            },
            "error_y": {
             "color": "rgb(36,36,36)"
            },
            "marker": {
             "line": {
              "color": "white",
              "width": 0.5
             },
             "pattern": {
              "fillmode": "overlay",
              "size": 10,
              "solidity": 0.2
             }
            },
            "type": "bar"
           }
          ],
          "barpolar": [
           {
            "marker": {
             "line": {
              "color": "white",
              "width": 0.5
             },
             "pattern": {
              "fillmode": "overlay",
              "size": 10,
              "solidity": 0.2
             }
            },
            "type": "barpolar"
           }
          ],
          "carpet": [
           {
            "aaxis": {
             "endlinecolor": "rgb(36,36,36)",
             "gridcolor": "white",
             "linecolor": "white",
             "minorgridcolor": "white",
             "startlinecolor": "rgb(36,36,36)"
            },
            "baxis": {
             "endlinecolor": "rgb(36,36,36)",
             "gridcolor": "white",
             "linecolor": "white",
             "minorgridcolor": "white",
             "startlinecolor": "rgb(36,36,36)"
            },
            "type": "carpet"
           }
          ],
          "choropleth": [
           {
            "colorbar": {
             "outlinewidth": 1,
             "tickcolor": "rgb(36,36,36)",
             "ticks": "outside"
            },
            "type": "choropleth"
           }
          ],
          "contour": [
           {
            "colorbar": {
             "outlinewidth": 1,
             "tickcolor": "rgb(36,36,36)",
             "ticks": "outside"
            },
            "colorscale": [
             [
              0,
              "#440154"
             ],
             [
              0.1111111111111111,
              "#482878"
             ],
             [
              0.2222222222222222,
              "#3e4989"
             ],
             [
              0.3333333333333333,
              "#31688e"
             ],
             [
              0.4444444444444444,
              "#26828e"
             ],
             [
              0.5555555555555556,
              "#1f9e89"
             ],
             [
              0.6666666666666666,
              "#35b779"
             ],
             [
              0.7777777777777778,
              "#6ece58"
             ],
             [
              0.8888888888888888,
              "#b5de2b"
             ],
             [
              1,
              "#fde725"
             ]
            ],
            "type": "contour"
           }
          ],
          "contourcarpet": [
           {
            "colorbar": {
             "outlinewidth": 1,
             "tickcolor": "rgb(36,36,36)",
             "ticks": "outside"
            },
            "type": "contourcarpet"
           }
          ],
          "heatmap": [
           {
            "colorbar": {
             "outlinewidth": 1,
             "tickcolor": "rgb(36,36,36)",
             "ticks": "outside"
            },
            "colorscale": [
             [
              0,
              "#440154"
             ],
             [
              0.1111111111111111,
              "#482878"
             ],
             [
              0.2222222222222222,
              "#3e4989"
             ],
             [
              0.3333333333333333,
              "#31688e"
             ],
             [
              0.4444444444444444,
              "#26828e"
             ],
             [
              0.5555555555555556,
              "#1f9e89"
             ],
             [
              0.6666666666666666,
              "#35b779"
             ],
             [
              0.7777777777777778,
              "#6ece58"
             ],
             [
              0.8888888888888888,
              "#b5de2b"
             ],
             [
              1,
              "#fde725"
             ]
            ],
            "type": "heatmap"
           }
          ],
          "heatmapgl": [
           {
            "colorbar": {
             "outlinewidth": 1,
             "tickcolor": "rgb(36,36,36)",
             "ticks": "outside"
            },
            "colorscale": [
             [
              0,
              "#440154"
             ],
             [
              0.1111111111111111,
              "#482878"
             ],
             [
              0.2222222222222222,
              "#3e4989"
             ],
             [
              0.3333333333333333,
              "#31688e"
             ],
             [
              0.4444444444444444,
              "#26828e"
             ],
             [
              0.5555555555555556,
              "#1f9e89"
             ],
             [
              0.6666666666666666,
              "#35b779"
             ],
             [
              0.7777777777777778,
              "#6ece58"
             ],
             [
              0.8888888888888888,
              "#b5de2b"
             ],
             [
              1,
              "#fde725"
             ]
            ],
            "type": "heatmapgl"
           }
          ],
          "histogram": [
           {
            "marker": {
             "line": {
              "color": "white",
              "width": 0.6
             }
            },
            "type": "histogram"
           }
          ],
          "histogram2d": [
           {
            "colorbar": {
             "outlinewidth": 1,
             "tickcolor": "rgb(36,36,36)",
             "ticks": "outside"
            },
            "colorscale": [
             [
              0,
              "#440154"
             ],
             [
              0.1111111111111111,
              "#482878"
             ],
             [
              0.2222222222222222,
              "#3e4989"
             ],
             [
              0.3333333333333333,
              "#31688e"
             ],
             [
              0.4444444444444444,
              "#26828e"
             ],
             [
              0.5555555555555556,
              "#1f9e89"
             ],
             [
              0.6666666666666666,
              "#35b779"
             ],
             [
              0.7777777777777778,
              "#6ece58"
             ],
             [
              0.8888888888888888,
              "#b5de2b"
             ],
             [
              1,
              "#fde725"
             ]
            ],
            "type": "histogram2d"
           }
          ],
          "histogram2dcontour": [
           {
            "colorbar": {
             "outlinewidth": 1,
             "tickcolor": "rgb(36,36,36)",
             "ticks": "outside"
            },
            "colorscale": [
             [
              0,
              "#440154"
             ],
             [
              0.1111111111111111,
              "#482878"
             ],
             [
              0.2222222222222222,
              "#3e4989"
             ],
             [
              0.3333333333333333,
              "#31688e"
             ],
             [
              0.4444444444444444,
              "#26828e"
             ],
             [
              0.5555555555555556,
              "#1f9e89"
             ],
             [
              0.6666666666666666,
              "#35b779"
             ],
             [
              0.7777777777777778,
              "#6ece58"
             ],
             [
              0.8888888888888888,
              "#b5de2b"
             ],
             [
              1,
              "#fde725"
             ]
            ],
            "type": "histogram2dcontour"
           }
          ],
          "mesh3d": [
           {
            "colorbar": {
             "outlinewidth": 1,
             "tickcolor": "rgb(36,36,36)",
             "ticks": "outside"
            },
            "type": "mesh3d"
           }
          ],
          "parcoords": [
           {
            "line": {
             "colorbar": {
              "outlinewidth": 1,
              "tickcolor": "rgb(36,36,36)",
              "ticks": "outside"
             }
            },
            "type": "parcoords"
           }
          ],
          "pie": [
           {
            "automargin": true,
            "type": "pie"
           }
          ],
          "scatter": [
           {
            "fillpattern": {
             "fillmode": "overlay",
             "size": 10,
             "solidity": 0.2
            },
            "type": "scatter"
           }
          ],
          "scatter3d": [
           {
            "line": {
             "colorbar": {
              "outlinewidth": 1,
              "tickcolor": "rgb(36,36,36)",
              "ticks": "outside"
             }
            },
            "marker": {
             "colorbar": {
              "outlinewidth": 1,
              "tickcolor": "rgb(36,36,36)",
              "ticks": "outside"
             }
            },
            "type": "scatter3d"
           }
          ],
          "scattercarpet": [
           {
            "marker": {
             "colorbar": {
              "outlinewidth": 1,
              "tickcolor": "rgb(36,36,36)",
              "ticks": "outside"
             }
            },
            "type": "scattercarpet"
           }
          ],
          "scattergeo": [
           {
            "marker": {
             "colorbar": {
              "outlinewidth": 1,
              "tickcolor": "rgb(36,36,36)",
              "ticks": "outside"
             }
            },
            "type": "scattergeo"
           }
          ],
          "scattergl": [
           {
            "marker": {
             "colorbar": {
              "outlinewidth": 1,
              "tickcolor": "rgb(36,36,36)",
              "ticks": "outside"
             }
            },
            "type": "scattergl"
           }
          ],
          "scattermapbox": [
           {
            "marker": {
             "colorbar": {
              "outlinewidth": 1,
              "tickcolor": "rgb(36,36,36)",
              "ticks": "outside"
             }
            },
            "type": "scattermapbox"
           }
          ],
          "scatterpolar": [
           {
            "marker": {
             "colorbar": {
              "outlinewidth": 1,
              "tickcolor": "rgb(36,36,36)",
              "ticks": "outside"
             }
            },
            "type": "scatterpolar"
           }
          ],
          "scatterpolargl": [
           {
            "marker": {
             "colorbar": {
              "outlinewidth": 1,
              "tickcolor": "rgb(36,36,36)",
              "ticks": "outside"
             }
            },
            "type": "scatterpolargl"
           }
          ],
          "scatterternary": [
           {
            "marker": {
             "colorbar": {
              "outlinewidth": 1,
              "tickcolor": "rgb(36,36,36)",
              "ticks": "outside"
             }
            },
            "type": "scatterternary"
           }
          ],
          "surface": [
           {
            "colorbar": {
             "outlinewidth": 1,
             "tickcolor": "rgb(36,36,36)",
             "ticks": "outside"
            },
            "colorscale": [
             [
              0,
              "#440154"
             ],
             [
              0.1111111111111111,
              "#482878"
             ],
             [
              0.2222222222222222,
              "#3e4989"
             ],
             [
              0.3333333333333333,
              "#31688e"
             ],
             [
              0.4444444444444444,
              "#26828e"
             ],
             [
              0.5555555555555556,
              "#1f9e89"
             ],
             [
              0.6666666666666666,
              "#35b779"
             ],
             [
              0.7777777777777778,
              "#6ece58"
             ],
             [
              0.8888888888888888,
              "#b5de2b"
             ],
             [
              1,
              "#fde725"
             ]
            ],
            "type": "surface"
           }
          ],
          "table": [
           {
            "cells": {
             "fill": {
              "color": "rgb(237,237,237)"
             },
             "line": {
              "color": "white"
             }
            },
            "header": {
             "fill": {
              "color": "rgb(217,217,217)"
             },
             "line": {
              "color": "white"
             }
            },
            "type": "table"
           }
          ]
         },
         "layout": {
          "annotationdefaults": {
           "arrowhead": 0,
           "arrowwidth": 1
          },
          "autosize": true,
          "autotypenumbers": "strict",
          "coloraxis": {
           "colorbar": {
            "outlinewidth": 1,
            "tickcolor": "rgb(36,36,36)",
            "ticks": "outside"
           }
          },
          "colorscale": {
           "diverging": [
            [
             0,
             "rgb(103,0,31)"
            ],
            [
             0.1,
             "rgb(178,24,43)"
            ],
            [
             0.2,
             "rgb(214,96,77)"
            ],
            [
             0.3,
             "rgb(244,165,130)"
            ],
            [
             0.4,
             "rgb(253,219,199)"
            ],
            [
             0.5,
             "rgb(247,247,247)"
            ],
            [
             0.6,
             "rgb(209,229,240)"
            ],
            [
             0.7,
             "rgb(146,197,222)"
            ],
            [
             0.8,
             "rgb(67,147,195)"
            ],
            [
             0.9,
             "rgb(33,102,172)"
            ],
            [
             1,
             "rgb(5,48,97)"
            ]
           ],
           "sequential": [
            [
             0,
             "#440154"
            ],
            [
             0.1111111111111111,
             "#482878"
            ],
            [
             0.2222222222222222,
             "#3e4989"
            ],
            [
             0.3333333333333333,
             "#31688e"
            ],
            [
             0.4444444444444444,
             "#26828e"
            ],
            [
             0.5555555555555556,
             "#1f9e89"
            ],
            [
             0.6666666666666666,
             "#35b779"
            ],
            [
             0.7777777777777778,
             "#6ece58"
            ],
            [
             0.8888888888888888,
             "#b5de2b"
            ],
            [
             1,
             "#fde725"
            ]
           ],
           "sequentialminus": [
            [
             0,
             "#440154"
            ],
            [
             0.1111111111111111,
             "#482878"
            ],
            [
             0.2222222222222222,
             "#3e4989"
            ],
            [
             0.3333333333333333,
             "#31688e"
            ],
            [
             0.4444444444444444,
             "#26828e"
            ],
            [
             0.5555555555555556,
             "#1f9e89"
            ],
            [
             0.6666666666666666,
             "#35b779"
            ],
            [
             0.7777777777777778,
             "#6ece58"
            ],
            [
             0.8888888888888888,
             "#b5de2b"
            ],
            [
             1,
             "#fde725"
            ]
           ]
          },
          "colorway": [
           "#1F77B4",
           "#FF7F0E",
           "#2CA02C",
           "#D62728",
           "#9467BD",
           "#8C564B",
           "#E377C2",
           "#7F7F7F",
           "#BCBD22",
           "#17BECF"
          ],
          "font": {
           "color": "rgb(36,36,36)"
          },
          "geo": {
           "bgcolor": "white",
           "lakecolor": "white",
           "landcolor": "white",
           "showlakes": true,
           "showland": true,
           "subunitcolor": "white"
          },
          "height": 400,
          "hoverlabel": {
           "align": "left"
          },
          "hovermode": "closest",
          "mapbox": {
           "style": "light"
          },
          "margin": {
           "b": 30,
           "l": 30,
           "r": 30,
           "t": 30
          },
          "paper_bgcolor": "white",
          "plot_bgcolor": "white",
          "polar": {
           "angularaxis": {
            "gridcolor": "rgb(232,232,232)",
            "linecolor": "rgb(36,36,36)",
            "showgrid": false,
            "showline": true,
            "ticks": "outside"
           },
           "bgcolor": "white",
           "radialaxis": {
            "gridcolor": "rgb(232,232,232)",
            "linecolor": "rgb(36,36,36)",
            "showgrid": false,
            "showline": true,
            "ticks": "outside"
           }
          },
          "scene": {
           "xaxis": {
            "backgroundcolor": "white",
            "gridcolor": "rgb(232,232,232)",
            "gridwidth": 2,
            "linecolor": "rgb(36,36,36)",
            "showbackground": true,
            "showgrid": false,
            "showline": true,
            "ticks": "outside",
            "zeroline": false,
            "zerolinecolor": "rgb(36,36,36)"
           },
           "yaxis": {
            "backgroundcolor": "white",
            "gridcolor": "rgb(232,232,232)",
            "gridwidth": 2,
            "linecolor": "rgb(36,36,36)",
            "showbackground": true,
            "showgrid": false,
            "showline": true,
            "ticks": "outside",
            "zeroline": false,
            "zerolinecolor": "rgb(36,36,36)"
           },
           "zaxis": {
            "backgroundcolor": "white",
            "gridcolor": "rgb(232,232,232)",
            "gridwidth": 2,
            "linecolor": "rgb(36,36,36)",
            "showbackground": true,
            "showgrid": false,
            "showline": true,
            "ticks": "outside",
            "zeroline": false,
            "zerolinecolor": "rgb(36,36,36)"
           }
          },
          "shapedefaults": {
           "fillcolor": "black",
           "line": {
            "width": 0
           },
           "opacity": 0.3
          },
          "ternary": {
           "aaxis": {
            "gridcolor": "rgb(232,232,232)",
            "linecolor": "rgb(36,36,36)",
            "showgrid": false,
            "showline": true,
            "ticks": "outside"
           },
           "baxis": {
            "gridcolor": "rgb(232,232,232)",
            "linecolor": "rgb(36,36,36)",
            "showgrid": false,
            "showline": true,
            "ticks": "outside"
           },
           "bgcolor": "white",
           "caxis": {
            "gridcolor": "rgb(232,232,232)",
            "linecolor": "rgb(36,36,36)",
            "showgrid": false,
            "showline": true,
            "ticks": "outside"
           }
          },
          "title": {
           "x": 0.5,
           "xanchor": "center"
          },
          "width": 600,
          "xaxis": {
           "automargin": true,
           "gridcolor": "rgb(232,232,232)",
           "linecolor": "rgb(36,36,36)",
           "showgrid": true,
           "showline": true,
           "ticks": "outside",
           "title": {
            "standoff": 15
           },
           "zeroline": false,
           "zerolinecolor": "rgb(36,36,36)"
          },
          "yaxis": {
           "automargin": true,
           "gridcolor": "rgb(232,232,232)",
           "linecolor": "rgb(36,36,36)",
           "showgrid": true,
           "showline": true,
           "ticks": "outside",
           "title": {
            "standoff": 15
           },
           "zeroline": false,
           "zerolinecolor": "rgb(36,36,36)"
          }
         }
        },
        "xaxis": {
         "anchor": "y",
         "domain": [
          0,
          1
         ],
         "title": {
          "text": "Champion"
         }
        },
        "yaxis": {
         "anchor": "x",
         "domain": [
          0,
          1
         ],
         "title": {
          "text": "Count"
         }
        }
       }
      },
      "text/html": [
       "<div>                            <div id=\"44eaa5fb-2ba0-4684-9432-1aa111679e49\" class=\"plotly-graph-div\" style=\"height:400px; width:600px;\"></div>            <script type=\"text/javascript\">                require([\"plotly\"], function(Plotly) {                    window.PLOTLYENV=window.PLOTLYENV || {};                                    if (document.getElementById(\"44eaa5fb-2ba0-4684-9432-1aa111679e49\")) {                    Plotly.newPlot(                        \"44eaa5fb-2ba0-4684-9432-1aa111679e49\",                        [{\"alignmentgroup\":\"True\",\"hovertemplate\":\"Type=Games without Vi or Jinx\\u003cbr\\u003eChampion=%{x}\\u003cbr\\u003eCount=%{y}\\u003cextra\\u003e\\u003c\\u002fextra\\u003e\",\"legendgroup\":\"Games without Vi or Jinx\",\"marker\":{\"color\":\"#1F77B4\",\"pattern\":{\"shape\":\"\"}},\"name\":\"Games without Vi or Jinx\",\"offsetgroup\":\"Games without Vi or Jinx\",\"orientation\":\"v\",\"showlegend\":true,\"textposition\":\"auto\",\"x\":[\"Jinx\",\"Vi\"],\"xaxis\":\"x\",\"y\":[132549,146521],\"yaxis\":\"y\",\"type\":\"bar\"},{\"alignmentgroup\":\"True\",\"hovertemplate\":\"Type=Games with Vi or Jinx\\u003cbr\\u003eChampion=%{x}\\u003cbr\\u003eCount=%{y}\\u003cextra\\u003e\\u003c\\u002fextra\\u003e\",\"legendgroup\":\"Games with Vi or Jinx\",\"marker\":{\"color\":\"#FF7F0E\",\"pattern\":{\"shape\":\"\"}},\"name\":\"Games with Vi or Jinx\",\"offsetgroup\":\"Games with Vi or Jinx\",\"orientation\":\"v\",\"showlegend\":true,\"textposition\":\"auto\",\"x\":[\"Jinx\",\"Vi\"],\"xaxis\":\"x\",\"y\":[18039,4067],\"yaxis\":\"y\",\"type\":\"bar\"}],                        {\"template\":{\"data\":{\"barpolar\":[{\"marker\":{\"line\":{\"color\":\"white\",\"width\":0.5},\"pattern\":{\"fillmode\":\"overlay\",\"size\":10,\"solidity\":0.2}},\"type\":\"barpolar\"}],\"bar\":[{\"error_x\":{\"color\":\"rgb(36,36,36)\"},\"error_y\":{\"color\":\"rgb(36,36,36)\"},\"marker\":{\"line\":{\"color\":\"white\",\"width\":0.5},\"pattern\":{\"fillmode\":\"overlay\",\"size\":10,\"solidity\":0.2}},\"type\":\"bar\"}],\"carpet\":[{\"aaxis\":{\"endlinecolor\":\"rgb(36,36,36)\",\"gridcolor\":\"white\",\"linecolor\":\"white\",\"minorgridcolor\":\"white\",\"startlinecolor\":\"rgb(36,36,36)\"},\"baxis\":{\"endlinecolor\":\"rgb(36,36,36)\",\"gridcolor\":\"white\",\"linecolor\":\"white\",\"minorgridcolor\":\"white\",\"startlinecolor\":\"rgb(36,36,36)\"},\"type\":\"carpet\"}],\"choropleth\":[{\"colorbar\":{\"outlinewidth\":1,\"tickcolor\":\"rgb(36,36,36)\",\"ticks\":\"outside\"},\"type\":\"choropleth\"}],\"contourcarpet\":[{\"colorbar\":{\"outlinewidth\":1,\"tickcolor\":\"rgb(36,36,36)\",\"ticks\":\"outside\"},\"type\":\"contourcarpet\"}],\"contour\":[{\"colorbar\":{\"outlinewidth\":1,\"tickcolor\":\"rgb(36,36,36)\",\"ticks\":\"outside\"},\"colorscale\":[[0.0,\"#440154\"],[0.1111111111111111,\"#482878\"],[0.2222222222222222,\"#3e4989\"],[0.3333333333333333,\"#31688e\"],[0.4444444444444444,\"#26828e\"],[0.5555555555555556,\"#1f9e89\"],[0.6666666666666666,\"#35b779\"],[0.7777777777777778,\"#6ece58\"],[0.8888888888888888,\"#b5de2b\"],[1.0,\"#fde725\"]],\"type\":\"contour\"}],\"heatmapgl\":[{\"colorbar\":{\"outlinewidth\":1,\"tickcolor\":\"rgb(36,36,36)\",\"ticks\":\"outside\"},\"colorscale\":[[0.0,\"#440154\"],[0.1111111111111111,\"#482878\"],[0.2222222222222222,\"#3e4989\"],[0.3333333333333333,\"#31688e\"],[0.4444444444444444,\"#26828e\"],[0.5555555555555556,\"#1f9e89\"],[0.6666666666666666,\"#35b779\"],[0.7777777777777778,\"#6ece58\"],[0.8888888888888888,\"#b5de2b\"],[1.0,\"#fde725\"]],\"type\":\"heatmapgl\"}],\"heatmap\":[{\"colorbar\":{\"outlinewidth\":1,\"tickcolor\":\"rgb(36,36,36)\",\"ticks\":\"outside\"},\"colorscale\":[[0.0,\"#440154\"],[0.1111111111111111,\"#482878\"],[0.2222222222222222,\"#3e4989\"],[0.3333333333333333,\"#31688e\"],[0.4444444444444444,\"#26828e\"],[0.5555555555555556,\"#1f9e89\"],[0.6666666666666666,\"#35b779\"],[0.7777777777777778,\"#6ece58\"],[0.8888888888888888,\"#b5de2b\"],[1.0,\"#fde725\"]],\"type\":\"heatmap\"}],\"histogram2dcontour\":[{\"colorbar\":{\"outlinewidth\":1,\"tickcolor\":\"rgb(36,36,36)\",\"ticks\":\"outside\"},\"colorscale\":[[0.0,\"#440154\"],[0.1111111111111111,\"#482878\"],[0.2222222222222222,\"#3e4989\"],[0.3333333333333333,\"#31688e\"],[0.4444444444444444,\"#26828e\"],[0.5555555555555556,\"#1f9e89\"],[0.6666666666666666,\"#35b779\"],[0.7777777777777778,\"#6ece58\"],[0.8888888888888888,\"#b5de2b\"],[1.0,\"#fde725\"]],\"type\":\"histogram2dcontour\"}],\"histogram2d\":[{\"colorbar\":{\"outlinewidth\":1,\"tickcolor\":\"rgb(36,36,36)\",\"ticks\":\"outside\"},\"colorscale\":[[0.0,\"#440154\"],[0.1111111111111111,\"#482878\"],[0.2222222222222222,\"#3e4989\"],[0.3333333333333333,\"#31688e\"],[0.4444444444444444,\"#26828e\"],[0.5555555555555556,\"#1f9e89\"],[0.6666666666666666,\"#35b779\"],[0.7777777777777778,\"#6ece58\"],[0.8888888888888888,\"#b5de2b\"],[1.0,\"#fde725\"]],\"type\":\"histogram2d\"}],\"histogram\":[{\"marker\":{\"line\":{\"color\":\"white\",\"width\":0.6}},\"type\":\"histogram\"}],\"mesh3d\":[{\"colorbar\":{\"outlinewidth\":1,\"tickcolor\":\"rgb(36,36,36)\",\"ticks\":\"outside\"},\"type\":\"mesh3d\"}],\"parcoords\":[{\"line\":{\"colorbar\":{\"outlinewidth\":1,\"tickcolor\":\"rgb(36,36,36)\",\"ticks\":\"outside\"}},\"type\":\"parcoords\"}],\"pie\":[{\"automargin\":true,\"type\":\"pie\"}],\"scatter3d\":[{\"line\":{\"colorbar\":{\"outlinewidth\":1,\"tickcolor\":\"rgb(36,36,36)\",\"ticks\":\"outside\"}},\"marker\":{\"colorbar\":{\"outlinewidth\":1,\"tickcolor\":\"rgb(36,36,36)\",\"ticks\":\"outside\"}},\"type\":\"scatter3d\"}],\"scattercarpet\":[{\"marker\":{\"colorbar\":{\"outlinewidth\":1,\"tickcolor\":\"rgb(36,36,36)\",\"ticks\":\"outside\"}},\"type\":\"scattercarpet\"}],\"scattergeo\":[{\"marker\":{\"colorbar\":{\"outlinewidth\":1,\"tickcolor\":\"rgb(36,36,36)\",\"ticks\":\"outside\"}},\"type\":\"scattergeo\"}],\"scattergl\":[{\"marker\":{\"colorbar\":{\"outlinewidth\":1,\"tickcolor\":\"rgb(36,36,36)\",\"ticks\":\"outside\"}},\"type\":\"scattergl\"}],\"scattermapbox\":[{\"marker\":{\"colorbar\":{\"outlinewidth\":1,\"tickcolor\":\"rgb(36,36,36)\",\"ticks\":\"outside\"}},\"type\":\"scattermapbox\"}],\"scatterpolargl\":[{\"marker\":{\"colorbar\":{\"outlinewidth\":1,\"tickcolor\":\"rgb(36,36,36)\",\"ticks\":\"outside\"}},\"type\":\"scatterpolargl\"}],\"scatterpolar\":[{\"marker\":{\"colorbar\":{\"outlinewidth\":1,\"tickcolor\":\"rgb(36,36,36)\",\"ticks\":\"outside\"}},\"type\":\"scatterpolar\"}],\"scatter\":[{\"fillpattern\":{\"fillmode\":\"overlay\",\"size\":10,\"solidity\":0.2},\"type\":\"scatter\"}],\"scatterternary\":[{\"marker\":{\"colorbar\":{\"outlinewidth\":1,\"tickcolor\":\"rgb(36,36,36)\",\"ticks\":\"outside\"}},\"type\":\"scatterternary\"}],\"surface\":[{\"colorbar\":{\"outlinewidth\":1,\"tickcolor\":\"rgb(36,36,36)\",\"ticks\":\"outside\"},\"colorscale\":[[0.0,\"#440154\"],[0.1111111111111111,\"#482878\"],[0.2222222222222222,\"#3e4989\"],[0.3333333333333333,\"#31688e\"],[0.4444444444444444,\"#26828e\"],[0.5555555555555556,\"#1f9e89\"],[0.6666666666666666,\"#35b779\"],[0.7777777777777778,\"#6ece58\"],[0.8888888888888888,\"#b5de2b\"],[1.0,\"#fde725\"]],\"type\":\"surface\"}],\"table\":[{\"cells\":{\"fill\":{\"color\":\"rgb(237,237,237)\"},\"line\":{\"color\":\"white\"}},\"header\":{\"fill\":{\"color\":\"rgb(217,217,217)\"},\"line\":{\"color\":\"white\"}},\"type\":\"table\"}]},\"layout\":{\"annotationdefaults\":{\"arrowhead\":0,\"arrowwidth\":1},\"autotypenumbers\":\"strict\",\"coloraxis\":{\"colorbar\":{\"outlinewidth\":1,\"tickcolor\":\"rgb(36,36,36)\",\"ticks\":\"outside\"}},\"colorscale\":{\"diverging\":[[0.0,\"rgb(103,0,31)\"],[0.1,\"rgb(178,24,43)\"],[0.2,\"rgb(214,96,77)\"],[0.3,\"rgb(244,165,130)\"],[0.4,\"rgb(253,219,199)\"],[0.5,\"rgb(247,247,247)\"],[0.6,\"rgb(209,229,240)\"],[0.7,\"rgb(146,197,222)\"],[0.8,\"rgb(67,147,195)\"],[0.9,\"rgb(33,102,172)\"],[1.0,\"rgb(5,48,97)\"]],\"sequential\":[[0.0,\"#440154\"],[0.1111111111111111,\"#482878\"],[0.2222222222222222,\"#3e4989\"],[0.3333333333333333,\"#31688e\"],[0.4444444444444444,\"#26828e\"],[0.5555555555555556,\"#1f9e89\"],[0.6666666666666666,\"#35b779\"],[0.7777777777777778,\"#6ece58\"],[0.8888888888888888,\"#b5de2b\"],[1.0,\"#fde725\"]],\"sequentialminus\":[[0.0,\"#440154\"],[0.1111111111111111,\"#482878\"],[0.2222222222222222,\"#3e4989\"],[0.3333333333333333,\"#31688e\"],[0.4444444444444444,\"#26828e\"],[0.5555555555555556,\"#1f9e89\"],[0.6666666666666666,\"#35b779\"],[0.7777777777777778,\"#6ece58\"],[0.8888888888888888,\"#b5de2b\"],[1.0,\"#fde725\"]]},\"colorway\":[\"#1F77B4\",\"#FF7F0E\",\"#2CA02C\",\"#D62728\",\"#9467BD\",\"#8C564B\",\"#E377C2\",\"#7F7F7F\",\"#BCBD22\",\"#17BECF\"],\"font\":{\"color\":\"rgb(36,36,36)\"},\"geo\":{\"bgcolor\":\"white\",\"lakecolor\":\"white\",\"landcolor\":\"white\",\"showlakes\":true,\"showland\":true,\"subunitcolor\":\"white\"},\"hoverlabel\":{\"align\":\"left\"},\"hovermode\":\"closest\",\"mapbox\":{\"style\":\"light\"},\"paper_bgcolor\":\"white\",\"plot_bgcolor\":\"white\",\"polar\":{\"angularaxis\":{\"gridcolor\":\"rgb(232,232,232)\",\"linecolor\":\"rgb(36,36,36)\",\"showgrid\":false,\"showline\":true,\"ticks\":\"outside\"},\"bgcolor\":\"white\",\"radialaxis\":{\"gridcolor\":\"rgb(232,232,232)\",\"linecolor\":\"rgb(36,36,36)\",\"showgrid\":false,\"showline\":true,\"ticks\":\"outside\"}},\"scene\":{\"xaxis\":{\"backgroundcolor\":\"white\",\"gridcolor\":\"rgb(232,232,232)\",\"gridwidth\":2,\"linecolor\":\"rgb(36,36,36)\",\"showbackground\":true,\"showgrid\":false,\"showline\":true,\"ticks\":\"outside\",\"zeroline\":false,\"zerolinecolor\":\"rgb(36,36,36)\"},\"yaxis\":{\"backgroundcolor\":\"white\",\"gridcolor\":\"rgb(232,232,232)\",\"gridwidth\":2,\"linecolor\":\"rgb(36,36,36)\",\"showbackground\":true,\"showgrid\":false,\"showline\":true,\"ticks\":\"outside\",\"zeroline\":false,\"zerolinecolor\":\"rgb(36,36,36)\"},\"zaxis\":{\"backgroundcolor\":\"white\",\"gridcolor\":\"rgb(232,232,232)\",\"gridwidth\":2,\"linecolor\":\"rgb(36,36,36)\",\"showbackground\":true,\"showgrid\":false,\"showline\":true,\"ticks\":\"outside\",\"zeroline\":false,\"zerolinecolor\":\"rgb(36,36,36)\"}},\"shapedefaults\":{\"fillcolor\":\"black\",\"line\":{\"width\":0},\"opacity\":0.3},\"ternary\":{\"aaxis\":{\"gridcolor\":\"rgb(232,232,232)\",\"linecolor\":\"rgb(36,36,36)\",\"showgrid\":false,\"showline\":true,\"ticks\":\"outside\"},\"baxis\":{\"gridcolor\":\"rgb(232,232,232)\",\"linecolor\":\"rgb(36,36,36)\",\"showgrid\":false,\"showline\":true,\"ticks\":\"outside\"},\"bgcolor\":\"white\",\"caxis\":{\"gridcolor\":\"rgb(232,232,232)\",\"linecolor\":\"rgb(36,36,36)\",\"showgrid\":false,\"showline\":true,\"ticks\":\"outside\"}},\"title\":{\"x\":0.5,\"xanchor\":\"center\"},\"xaxis\":{\"automargin\":true,\"gridcolor\":\"rgb(232,232,232)\",\"linecolor\":\"rgb(36,36,36)\",\"showgrid\":true,\"showline\":true,\"ticks\":\"outside\",\"title\":{\"standoff\":15},\"zeroline\":false,\"zerolinecolor\":\"rgb(36,36,36)\"},\"yaxis\":{\"automargin\":true,\"gridcolor\":\"rgb(232,232,232)\",\"linecolor\":\"rgb(36,36,36)\",\"showgrid\":true,\"showline\":true,\"ticks\":\"outside\",\"title\":{\"standoff\":15},\"zeroline\":false,\"zerolinecolor\":\"rgb(36,36,36)\"},\"autosize\":true,\"height\":400,\"margin\":{\"b\":30,\"l\":30,\"r\":30,\"t\":30},\"width\":600}},\"xaxis\":{\"anchor\":\"y\",\"domain\":[0.0,1.0],\"title\":{\"text\":\"Champion\"}},\"yaxis\":{\"anchor\":\"x\",\"domain\":[0.0,1.0],\"title\":{\"text\":\"Count\"}},\"legend\":{\"title\":{\"text\":\"Type\"},\"tracegroupgap\":0},\"barmode\":\"stack\"},                        {\"responsive\": true}                    ).then(function(){\n",
       "                            \n",
       "var gd = document.getElementById('44eaa5fb-2ba0-4684-9432-1aa111679e49');\n",
       "var x = new MutationObserver(function (mutations, observer) {{\n",
       "        var display = window.getComputedStyle(gd).display;\n",
       "        if (!display || display === 'none') {{\n",
       "            console.log([gd, 'removed!']);\n",
       "            Plotly.purge(gd);\n",
       "            observer.disconnect();\n",
       "        }}\n",
       "}});\n",
       "\n",
       "// Listen for the removal of the full notebook cells\n",
       "var notebookContainer = gd.closest('#notebook-container');\n",
       "if (notebookContainer) {{\n",
       "    x.observe(notebookContainer, {childList: true});\n",
       "}}\n",
       "\n",
       "// Listen for the clearing of the current output cell\n",
       "var outputEl = gd.closest('.output');\n",
       "if (outputEl) {{\n",
       "    x.observe(outputEl, {childList: true});\n",
       "}}\n",
       "\n",
       "                        })                };                });            </script>        </div>"
      ]
     },
     "metadata": {},
     "output_type": "display_data"
    }
   ],
   "source": [
    "# graph\n",
    "# games w/ jinx or vi and games w/o, one for each\n",
    "\n",
    "#jinx\n",
    "# graph\n",
    "# games w/ jinx or vi and games w/o, one for each\n",
    "\n",
    "# fig = go.Figure()\n",
    "# fig.add_trace(go.Bar(x=[\"Total Games\", \"Jinx Games\"], y=[games.shape[0], games['jinx'].sum()], barmode='stack'))\n",
    "# fig.update_layout(barmode='stack')\n",
    "# fig.show()\n",
    "\n",
    "games['jinx'] = games.eq(\"Jinx\").any(axis=1)\n",
    "\n",
    "games['vi'] = games.eq(\"Vi\").any(axis=1)\n",
    "\n",
    "summary = pd.DataFrame({\n",
    "    'Champion': ['Jinx', 'Vi'],\n",
    "    'Games without Vi or Jinx': [len(games) - games['jinx'].sum(), len(games) - games['vi'].sum()] ,\n",
    "    'Games with Vi or Jinx': [games['jinx'].sum(), games['vi'].sum()]\n",
    "})\n",
    "\n",
    "# Convert to long format for Plotly Express\n",
    "df_long = summary.melt(id_vars='Champion', var_name='Type', value_name='Count')\n",
    "df_long['Type'] = pd.Categorical(df_long['Type'], categories=['Games with Vi or Jinx', 'Games without Vi or Jinx'], ordered=True)\n",
    "fig = px.bar(df_long, x='Champion', y='Count', color='Type', barmode='stack')\n",
    "# fig = px.bar(df_long, x='Champion', y='Count', color='Type', barmode='stack')\n",
    "# fig = px.bar(games, x=[\"Total Games\", \"Jinx Games\"], y=[games.shape[0], games['jinx'].sum()], color=[\"Total Games\", \"Jinx Games\"], barmode='stack')\n",
    "# fig.update_layout(barmode='stack')\n",
    "fig.show()"
   ]
  },
  {
   "cell_type": "code",
   "execution_count": 29,
   "metadata": {
    "ExecuteTime": {
     "end_time": "2019-10-31T23:36:28.662099Z",
     "start_time": "2019-10-31T23:36:28.660016Z"
    }
   },
   "outputs": [],
   "source": [
    "# TODO: Analysis, univariate/bivariate\n",
    "#Jinx Win rate\n",
    "games[['teamname','pick1', 'pick2','pick3','pick4','pick5', 'result']]\n",
    "jinxwins = games.copy()\n",
    "filtered_jinxwins = jinxwins[jinxwins[['pick1', 'pick2', 'pick3', 'pick4', 'pick5']].notna().all(axis=1)]\n",
    "filtered_jinxwins = filtered_jinxwins[['teamname','pick1', 'pick2','pick3','pick4','pick5', 'result']]"
   ]
  },
  {
   "cell_type": "code",
   "execution_count": 48,
   "metadata": {},
   "outputs": [
    {
     "data": {
      "application/vnd.plotly.v1+json": {
       "config": {
        "plotlyServerURL": "https://plot.ly"
       },
       "data": [
        {
         "alignmentgroup": "True",
         "bingroup": "x",
         "hovertemplate": "jinxwinrate=%{x}<br>count=%{y}<extra></extra>",
         "legendgroup": "",
         "marker": {
          "color": "#1F77B4",
          "pattern": {
           "shape": ""
          }
         },
         "name": "",
         "nbinsx": 15,
         "offsetgroup": "",
         "orientation": "v",
         "showlegend": false,
         "type": "histogram",
         "x": [
          0.7777777777777778,
          0.5,
          null,
          0.6666666666666666,
          0.6,
          0.5,
          null,
          1,
          null,
          0.2727272727272727,
          0.42857142857142855,
          0.3333333333333333,
          null,
          0.25,
          null,
          0.2857142857142857,
          0.47368421052631576,
          0.4,
          0.7142857142857143,
          null,
          0.16666666666666666,
          0.2857142857142857,
          0.75,
          0.4166666666666667,
          0.5,
          0.2,
          0.4,
          null,
          0.5555555555555556,
          0.2,
          0.45454545454545453,
          0.42857142857142855,
          0.3333333333333333,
          0.6666666666666666,
          0.4,
          0.6,
          0.8571428571428571,
          0.6,
          0.2,
          0.7692307692307693,
          0.5714285714285714,
          0.782608695652174,
          null,
          1,
          0.25,
          0.6666666666666666,
          0.5,
          0.625,
          0.42857142857142855,
          0.6842105263157895,
          0.375,
          0.7692307692307693,
          null,
          1,
          null,
          0.6363636363636364,
          0.6666666666666666,
          0.42857142857142855,
          0.38461538461538464,
          0.5555555555555556,
          null,
          0.375,
          0.5454545454545454,
          0.3333333333333333,
          0.5,
          0.5,
          0.5,
          0.125,
          0.5882352941176471,
          0.5714285714285714,
          1,
          0.6,
          0.8,
          0.25,
          0.5833333333333334,
          0.2857142857142857,
          0.6,
          0.8571428571428571,
          null,
          0.5555555555555556,
          0.5,
          0.3333333333333333,
          0.6666666666666666,
          0.5454545454545454,
          0.6875,
          0.6153846153846154,
          0.5833333333333334,
          0.6666666666666666,
          null,
          0.6666666666666666,
          0.5416666666666666,
          0.8666666666666667,
          0.6,
          0.2,
          0.3333333333333333,
          0.5454545454545454,
          0.7,
          0.6666666666666666,
          0.6666666666666666,
          0.75,
          0.5,
          0.5,
          0.14285714285714285,
          0.8,
          0.625,
          0.6666666666666666,
          1,
          0.3333333333333333,
          0.2857142857142857,
          0.7272727272727273,
          0.5,
          0.5,
          0.8333333333333334,
          0.42857142857142855,
          0.75,
          0.7,
          0.6666666666666666,
          0.16666666666666666,
          0.2,
          0.5714285714285714,
          0.4444444444444444,
          0.6153846153846154,
          0.7777777777777778,
          0.375,
          0.8888888888888888,
          0.7647058823529411,
          0.1111111111111111,
          0.5,
          0.14285714285714285,
          1,
          0.375,
          0.5,
          0.4,
          0.2,
          null,
          0.3333333333333333,
          0.7222222222222222,
          0.3333333333333333,
          0.2,
          0.25,
          0.4,
          0.25,
          null,
          0.42857142857142855,
          0.5555555555555556,
          0.5357142857142857,
          0.45454545454545453,
          0.25,
          0.25,
          0.23529411764705882,
          0.21428571428571427,
          0.75,
          0.2,
          null,
          null,
          0.42857142857142855,
          0.2857142857142857,
          1,
          0.5714285714285714,
          0.25,
          0.3333333333333333,
          0.6,
          0.5,
          0.4166666666666667,
          0.5,
          null,
          0.5,
          0.45454545454545453,
          0.5,
          0.75,
          0.8333333333333334,
          0.375,
          0.9,
          0.6666666666666666,
          1,
          0.8,
          0.7142857142857143,
          0.5,
          0.5,
          0.8571428571428571,
          0.3333333333333333,
          0.3076923076923077,
          0.4,
          0.2,
          0.25,
          0.3333333333333333,
          0.42857142857142855,
          0.2,
          0.6153846153846154,
          0.5,
          0.75,
          0.5,
          0.6363636363636364,
          0.48,
          0.2,
          0.3684210526315789,
          0.4444444444444444,
          0.4,
          1,
          0.6666666666666666,
          0.4444444444444444,
          1,
          0.4444444444444444,
          0.5,
          1,
          0.5,
          0.2,
          0.7,
          0.42857142857142855,
          0.5,
          0.68,
          null,
          0.5,
          0.6,
          0.3333333333333333,
          null,
          0.25,
          0.5,
          0.5,
          0.625,
          0.8,
          0.4,
          0.5714285714285714,
          0.25,
          0.5454545454545454,
          0.3333333333333333,
          0.6666666666666666,
          0.5714285714285714,
          0.5,
          0.7,
          0.4,
          0.45454545454545453,
          0.4,
          0.6666666666666666,
          0.5,
          0.4,
          0.3333333333333333,
          1,
          0.375,
          null,
          0.42857142857142855,
          0.47368421052631576,
          0.45454545454545453,
          0.4,
          1,
          null,
          null,
          0.4444444444444444,
          0.5555555555555556,
          0.4,
          0.5,
          0.5714285714285714,
          0.3076923076923077,
          1,
          0.4,
          0.5,
          null,
          1,
          0.6,
          0.5,
          1,
          0.4074074074074074,
          0.125,
          0.5333333333333333,
          1,
          0.5454545454545454,
          0.2,
          0.08333333333333333,
          0.375,
          0.16666666666666666,
          null,
          0.5714285714285714,
          0.4444444444444444,
          0.5833333333333334,
          0.5454545454545454,
          0.3076923076923077,
          null,
          0.4444444444444444,
          0.4,
          0.3333333333333333,
          0.3333333333333333,
          0.65,
          null,
          0.2,
          1,
          0.4444444444444444,
          0.7857142857142857,
          0.21739130434782608,
          0.8571428571428571,
          0.6,
          0.6,
          0.5,
          0.6,
          0.36363636363636365,
          0.4,
          null,
          0.3333333333333333,
          0.7083333333333334,
          0.5333333333333333,
          0.8571428571428571,
          null,
          0.5909090909090909,
          0.3333333333333333,
          0.2608695652173913,
          0.1111111111111111,
          1,
          0.3333333333333333,
          0.4,
          0.5,
          0.4,
          0.5384615384615384,
          0.45454545454545453,
          null,
          0.36363636363636365,
          0.875,
          0.7894736842105263,
          0.6153846153846154,
          0.7777777777777778,
          0.18181818181818182,
          0.25,
          0.42857142857142855,
          0.25,
          0.5714285714285714,
          null,
          0.5,
          0.25,
          0.5,
          0.5,
          null,
          null,
          0.7777777777777778,
          0.5483870967741935,
          0.47058823529411764,
          0.5714285714285714,
          0.4444444444444444,
          0.7,
          0.35714285714285715,
          null,
          0.3181818181818182,
          0.6666666666666666,
          0.3333333333333333,
          0.6666666666666666,
          null,
          0.6818181818181818,
          0.3333333333333333,
          null,
          0.7777777777777778,
          null,
          null,
          0.625,
          0.6363636363636364,
          0.2222222222222222,
          0.3076923076923077,
          0.5833333333333334,
          0.4,
          0.47058823529411764,
          0.5714285714285714,
          0.4444444444444444,
          null,
          0.5,
          null,
          0.7692307692307693,
          0.5,
          0.6363636363636364,
          0.7777777777777778,
          null,
          0.7142857142857143,
          0.25,
          0.375,
          0.25,
          0.3333333333333333,
          0.2,
          0.25,
          0.5714285714285714,
          0.5714285714285714,
          0.4166666666666667,
          0.75
         ],
         "xaxis": "x",
         "yaxis": "y"
        }
       ],
       "layout": {
        "barmode": "relative",
        "legend": {
         "tracegroupgap": 0
        },
        "template": {
         "data": {
          "bar": [
           {
            "error_x": {
             "color": "rgb(36,36,36)"
            },
            "error_y": {
             "color": "rgb(36,36,36)"
            },
            "marker": {
             "line": {
              "color": "white",
              "width": 0.5
             },
             "pattern": {
              "fillmode": "overlay",
              "size": 10,
              "solidity": 0.2
             }
            },
            "type": "bar"
           }
          ],
          "barpolar": [
           {
            "marker": {
             "line": {
              "color": "white",
              "width": 0.5
             },
             "pattern": {
              "fillmode": "overlay",
              "size": 10,
              "solidity": 0.2
             }
            },
            "type": "barpolar"
           }
          ],
          "carpet": [
           {
            "aaxis": {
             "endlinecolor": "rgb(36,36,36)",
             "gridcolor": "white",
             "linecolor": "white",
             "minorgridcolor": "white",
             "startlinecolor": "rgb(36,36,36)"
            },
            "baxis": {
             "endlinecolor": "rgb(36,36,36)",
             "gridcolor": "white",
             "linecolor": "white",
             "minorgridcolor": "white",
             "startlinecolor": "rgb(36,36,36)"
            },
            "type": "carpet"
           }
          ],
          "choropleth": [
           {
            "colorbar": {
             "outlinewidth": 1,
             "tickcolor": "rgb(36,36,36)",
             "ticks": "outside"
            },
            "type": "choropleth"
           }
          ],
          "contour": [
           {
            "colorbar": {
             "outlinewidth": 1,
             "tickcolor": "rgb(36,36,36)",
             "ticks": "outside"
            },
            "colorscale": [
             [
              0,
              "#440154"
             ],
             [
              0.1111111111111111,
              "#482878"
             ],
             [
              0.2222222222222222,
              "#3e4989"
             ],
             [
              0.3333333333333333,
              "#31688e"
             ],
             [
              0.4444444444444444,
              "#26828e"
             ],
             [
              0.5555555555555556,
              "#1f9e89"
             ],
             [
              0.6666666666666666,
              "#35b779"
             ],
             [
              0.7777777777777778,
              "#6ece58"
             ],
             [
              0.8888888888888888,
              "#b5de2b"
             ],
             [
              1,
              "#fde725"
             ]
            ],
            "type": "contour"
           }
          ],
          "contourcarpet": [
           {
            "colorbar": {
             "outlinewidth": 1,
             "tickcolor": "rgb(36,36,36)",
             "ticks": "outside"
            },
            "type": "contourcarpet"
           }
          ],
          "heatmap": [
           {
            "colorbar": {
             "outlinewidth": 1,
             "tickcolor": "rgb(36,36,36)",
             "ticks": "outside"
            },
            "colorscale": [
             [
              0,
              "#440154"
             ],
             [
              0.1111111111111111,
              "#482878"
             ],
             [
              0.2222222222222222,
              "#3e4989"
             ],
             [
              0.3333333333333333,
              "#31688e"
             ],
             [
              0.4444444444444444,
              "#26828e"
             ],
             [
              0.5555555555555556,
              "#1f9e89"
             ],
             [
              0.6666666666666666,
              "#35b779"
             ],
             [
              0.7777777777777778,
              "#6ece58"
             ],
             [
              0.8888888888888888,
              "#b5de2b"
             ],
             [
              1,
              "#fde725"
             ]
            ],
            "type": "heatmap"
           }
          ],
          "heatmapgl": [
           {
            "colorbar": {
             "outlinewidth": 1,
             "tickcolor": "rgb(36,36,36)",
             "ticks": "outside"
            },
            "colorscale": [
             [
              0,
              "#440154"
             ],
             [
              0.1111111111111111,
              "#482878"
             ],
             [
              0.2222222222222222,
              "#3e4989"
             ],
             [
              0.3333333333333333,
              "#31688e"
             ],
             [
              0.4444444444444444,
              "#26828e"
             ],
             [
              0.5555555555555556,
              "#1f9e89"
             ],
             [
              0.6666666666666666,
              "#35b779"
             ],
             [
              0.7777777777777778,
              "#6ece58"
             ],
             [
              0.8888888888888888,
              "#b5de2b"
             ],
             [
              1,
              "#fde725"
             ]
            ],
            "type": "heatmapgl"
           }
          ],
          "histogram": [
           {
            "marker": {
             "line": {
              "color": "white",
              "width": 0.6
             }
            },
            "type": "histogram"
           }
          ],
          "histogram2d": [
           {
            "colorbar": {
             "outlinewidth": 1,
             "tickcolor": "rgb(36,36,36)",
             "ticks": "outside"
            },
            "colorscale": [
             [
              0,
              "#440154"
             ],
             [
              0.1111111111111111,
              "#482878"
             ],
             [
              0.2222222222222222,
              "#3e4989"
             ],
             [
              0.3333333333333333,
              "#31688e"
             ],
             [
              0.4444444444444444,
              "#26828e"
             ],
             [
              0.5555555555555556,
              "#1f9e89"
             ],
             [
              0.6666666666666666,
              "#35b779"
             ],
             [
              0.7777777777777778,
              "#6ece58"
             ],
             [
              0.8888888888888888,
              "#b5de2b"
             ],
             [
              1,
              "#fde725"
             ]
            ],
            "type": "histogram2d"
           }
          ],
          "histogram2dcontour": [
           {
            "colorbar": {
             "outlinewidth": 1,
             "tickcolor": "rgb(36,36,36)",
             "ticks": "outside"
            },
            "colorscale": [
             [
              0,
              "#440154"
             ],
             [
              0.1111111111111111,
              "#482878"
             ],
             [
              0.2222222222222222,
              "#3e4989"
             ],
             [
              0.3333333333333333,
              "#31688e"
             ],
             [
              0.4444444444444444,
              "#26828e"
             ],
             [
              0.5555555555555556,
              "#1f9e89"
             ],
             [
              0.6666666666666666,
              "#35b779"
             ],
             [
              0.7777777777777778,
              "#6ece58"
             ],
             [
              0.8888888888888888,
              "#b5de2b"
             ],
             [
              1,
              "#fde725"
             ]
            ],
            "type": "histogram2dcontour"
           }
          ],
          "mesh3d": [
           {
            "colorbar": {
             "outlinewidth": 1,
             "tickcolor": "rgb(36,36,36)",
             "ticks": "outside"
            },
            "type": "mesh3d"
           }
          ],
          "parcoords": [
           {
            "line": {
             "colorbar": {
              "outlinewidth": 1,
              "tickcolor": "rgb(36,36,36)",
              "ticks": "outside"
             }
            },
            "type": "parcoords"
           }
          ],
          "pie": [
           {
            "automargin": true,
            "type": "pie"
           }
          ],
          "scatter": [
           {
            "fillpattern": {
             "fillmode": "overlay",
             "size": 10,
             "solidity": 0.2
            },
            "type": "scatter"
           }
          ],
          "scatter3d": [
           {
            "line": {
             "colorbar": {
              "outlinewidth": 1,
              "tickcolor": "rgb(36,36,36)",
              "ticks": "outside"
             }
            },
            "marker": {
             "colorbar": {
              "outlinewidth": 1,
              "tickcolor": "rgb(36,36,36)",
              "ticks": "outside"
             }
            },
            "type": "scatter3d"
           }
          ],
          "scattercarpet": [
           {
            "marker": {
             "colorbar": {
              "outlinewidth": 1,
              "tickcolor": "rgb(36,36,36)",
              "ticks": "outside"
             }
            },
            "type": "scattercarpet"
           }
          ],
          "scattergeo": [
           {
            "marker": {
             "colorbar": {
              "outlinewidth": 1,
              "tickcolor": "rgb(36,36,36)",
              "ticks": "outside"
             }
            },
            "type": "scattergeo"
           }
          ],
          "scattergl": [
           {
            "marker": {
             "colorbar": {
              "outlinewidth": 1,
              "tickcolor": "rgb(36,36,36)",
              "ticks": "outside"
             }
            },
            "type": "scattergl"
           }
          ],
          "scattermapbox": [
           {
            "marker": {
             "colorbar": {
              "outlinewidth": 1,
              "tickcolor": "rgb(36,36,36)",
              "ticks": "outside"
             }
            },
            "type": "scattermapbox"
           }
          ],
          "scatterpolar": [
           {
            "marker": {
             "colorbar": {
              "outlinewidth": 1,
              "tickcolor": "rgb(36,36,36)",
              "ticks": "outside"
             }
            },
            "type": "scatterpolar"
           }
          ],
          "scatterpolargl": [
           {
            "marker": {
             "colorbar": {
              "outlinewidth": 1,
              "tickcolor": "rgb(36,36,36)",
              "ticks": "outside"
             }
            },
            "type": "scatterpolargl"
           }
          ],
          "scatterternary": [
           {
            "marker": {
             "colorbar": {
              "outlinewidth": 1,
              "tickcolor": "rgb(36,36,36)",
              "ticks": "outside"
             }
            },
            "type": "scatterternary"
           }
          ],
          "surface": [
           {
            "colorbar": {
             "outlinewidth": 1,
             "tickcolor": "rgb(36,36,36)",
             "ticks": "outside"
            },
            "colorscale": [
             [
              0,
              "#440154"
             ],
             [
              0.1111111111111111,
              "#482878"
             ],
             [
              0.2222222222222222,
              "#3e4989"
             ],
             [
              0.3333333333333333,
              "#31688e"
             ],
             [
              0.4444444444444444,
              "#26828e"
             ],
             [
              0.5555555555555556,
              "#1f9e89"
             ],
             [
              0.6666666666666666,
              "#35b779"
             ],
             [
              0.7777777777777778,
              "#6ece58"
             ],
             [
              0.8888888888888888,
              "#b5de2b"
             ],
             [
              1,
              "#fde725"
             ]
            ],
            "type": "surface"
           }
          ],
          "table": [
           {
            "cells": {
             "fill": {
              "color": "rgb(237,237,237)"
             },
             "line": {
              "color": "white"
             }
            },
            "header": {
             "fill": {
              "color": "rgb(217,217,217)"
             },
             "line": {
              "color": "white"
             }
            },
            "type": "table"
           }
          ]
         },
         "layout": {
          "annotationdefaults": {
           "arrowhead": 0,
           "arrowwidth": 1
          },
          "autosize": true,
          "autotypenumbers": "strict",
          "coloraxis": {
           "colorbar": {
            "outlinewidth": 1,
            "tickcolor": "rgb(36,36,36)",
            "ticks": "outside"
           }
          },
          "colorscale": {
           "diverging": [
            [
             0,
             "rgb(103,0,31)"
            ],
            [
             0.1,
             "rgb(178,24,43)"
            ],
            [
             0.2,
             "rgb(214,96,77)"
            ],
            [
             0.3,
             "rgb(244,165,130)"
            ],
            [
             0.4,
             "rgb(253,219,199)"
            ],
            [
             0.5,
             "rgb(247,247,247)"
            ],
            [
             0.6,
             "rgb(209,229,240)"
            ],
            [
             0.7,
             "rgb(146,197,222)"
            ],
            [
             0.8,
             "rgb(67,147,195)"
            ],
            [
             0.9,
             "rgb(33,102,172)"
            ],
            [
             1,
             "rgb(5,48,97)"
            ]
           ],
           "sequential": [
            [
             0,
             "#440154"
            ],
            [
             0.1111111111111111,
             "#482878"
            ],
            [
             0.2222222222222222,
             "#3e4989"
            ],
            [
             0.3333333333333333,
             "#31688e"
            ],
            [
             0.4444444444444444,
             "#26828e"
            ],
            [
             0.5555555555555556,
             "#1f9e89"
            ],
            [
             0.6666666666666666,
             "#35b779"
            ],
            [
             0.7777777777777778,
             "#6ece58"
            ],
            [
             0.8888888888888888,
             "#b5de2b"
            ],
            [
             1,
             "#fde725"
            ]
           ],
           "sequentialminus": [
            [
             0,
             "#440154"
            ],
            [
             0.1111111111111111,
             "#482878"
            ],
            [
             0.2222222222222222,
             "#3e4989"
            ],
            [
             0.3333333333333333,
             "#31688e"
            ],
            [
             0.4444444444444444,
             "#26828e"
            ],
            [
             0.5555555555555556,
             "#1f9e89"
            ],
            [
             0.6666666666666666,
             "#35b779"
            ],
            [
             0.7777777777777778,
             "#6ece58"
            ],
            [
             0.8888888888888888,
             "#b5de2b"
            ],
            [
             1,
             "#fde725"
            ]
           ]
          },
          "colorway": [
           "#1F77B4",
           "#FF7F0E",
           "#2CA02C",
           "#D62728",
           "#9467BD",
           "#8C564B",
           "#E377C2",
           "#7F7F7F",
           "#BCBD22",
           "#17BECF"
          ],
          "font": {
           "color": "rgb(36,36,36)"
          },
          "geo": {
           "bgcolor": "white",
           "lakecolor": "white",
           "landcolor": "white",
           "showlakes": true,
           "showland": true,
           "subunitcolor": "white"
          },
          "height": 400,
          "hoverlabel": {
           "align": "left"
          },
          "hovermode": "closest",
          "mapbox": {
           "style": "light"
          },
          "margin": {
           "b": 30,
           "l": 30,
           "r": 30,
           "t": 30
          },
          "paper_bgcolor": "white",
          "plot_bgcolor": "white",
          "polar": {
           "angularaxis": {
            "gridcolor": "rgb(232,232,232)",
            "linecolor": "rgb(36,36,36)",
            "showgrid": false,
            "showline": true,
            "ticks": "outside"
           },
           "bgcolor": "white",
           "radialaxis": {
            "gridcolor": "rgb(232,232,232)",
            "linecolor": "rgb(36,36,36)",
            "showgrid": false,
            "showline": true,
            "ticks": "outside"
           }
          },
          "scene": {
           "xaxis": {
            "backgroundcolor": "white",
            "gridcolor": "rgb(232,232,232)",
            "gridwidth": 2,
            "linecolor": "rgb(36,36,36)",
            "showbackground": true,
            "showgrid": false,
            "showline": true,
            "ticks": "outside",
            "zeroline": false,
            "zerolinecolor": "rgb(36,36,36)"
           },
           "yaxis": {
            "backgroundcolor": "white",
            "gridcolor": "rgb(232,232,232)",
            "gridwidth": 2,
            "linecolor": "rgb(36,36,36)",
            "showbackground": true,
            "showgrid": false,
            "showline": true,
            "ticks": "outside",
            "zeroline": false,
            "zerolinecolor": "rgb(36,36,36)"
           },
           "zaxis": {
            "backgroundcolor": "white",
            "gridcolor": "rgb(232,232,232)",
            "gridwidth": 2,
            "linecolor": "rgb(36,36,36)",
            "showbackground": true,
            "showgrid": false,
            "showline": true,
            "ticks": "outside",
            "zeroline": false,
            "zerolinecolor": "rgb(36,36,36)"
           }
          },
          "shapedefaults": {
           "fillcolor": "black",
           "line": {
            "width": 0
           },
           "opacity": 0.3
          },
          "ternary": {
           "aaxis": {
            "gridcolor": "rgb(232,232,232)",
            "linecolor": "rgb(36,36,36)",
            "showgrid": false,
            "showline": true,
            "ticks": "outside"
           },
           "baxis": {
            "gridcolor": "rgb(232,232,232)",
            "linecolor": "rgb(36,36,36)",
            "showgrid": false,
            "showline": true,
            "ticks": "outside"
           },
           "bgcolor": "white",
           "caxis": {
            "gridcolor": "rgb(232,232,232)",
            "linecolor": "rgb(36,36,36)",
            "showgrid": false,
            "showline": true,
            "ticks": "outside"
           }
          },
          "title": {
           "x": 0.5,
           "xanchor": "center"
          },
          "width": 600,
          "xaxis": {
           "automargin": true,
           "gridcolor": "rgb(232,232,232)",
           "linecolor": "rgb(36,36,36)",
           "showgrid": true,
           "showline": true,
           "ticks": "outside",
           "title": {
            "standoff": 15
           },
           "zeroline": false,
           "zerolinecolor": "rgb(36,36,36)"
          },
          "yaxis": {
           "automargin": true,
           "gridcolor": "rgb(232,232,232)",
           "linecolor": "rgb(36,36,36)",
           "showgrid": true,
           "showline": true,
           "ticks": "outside",
           "title": {
            "standoff": 15
           },
           "zeroline": false,
           "zerolinecolor": "rgb(36,36,36)"
          }
         }
        },
        "xaxis": {
         "anchor": "y",
         "domain": [
          0,
          1
         ],
         "title": {
          "text": "jinxwinrate"
         }
        },
        "yaxis": {
         "anchor": "x",
         "domain": [
          0,
          1
         ],
         "title": {
          "text": "count"
         }
        }
       }
      },
      "text/html": [
       "<div>                            <div id=\"dbc488c8-7d85-4d22-9af5-448e11d9a928\" class=\"plotly-graph-div\" style=\"height:400px; width:600px;\"></div>            <script type=\"text/javascript\">                require([\"plotly\"], function(Plotly) {                    window.PLOTLYENV=window.PLOTLYENV || {};                                    if (document.getElementById(\"dbc488c8-7d85-4d22-9af5-448e11d9a928\")) {                    Plotly.newPlot(                        \"dbc488c8-7d85-4d22-9af5-448e11d9a928\",                        [{\"alignmentgroup\":\"True\",\"bingroup\":\"x\",\"hovertemplate\":\"jinxwinrate=%{x}\\u003cbr\\u003ecount=%{y}\\u003cextra\\u003e\\u003c\\u002fextra\\u003e\",\"legendgroup\":\"\",\"marker\":{\"color\":\"#1F77B4\",\"pattern\":{\"shape\":\"\"}},\"name\":\"\",\"nbinsx\":15,\"offsetgroup\":\"\",\"orientation\":\"v\",\"showlegend\":false,\"x\":[0.7777777777777778,0.5,null,0.6666666666666666,0.6,0.5,null,1.0,null,0.2727272727272727,0.42857142857142855,0.3333333333333333,null,0.25,null,0.2857142857142857,0.47368421052631576,0.4,0.7142857142857143,null,0.16666666666666666,0.2857142857142857,0.75,0.4166666666666667,0.5,0.2,0.4,null,0.5555555555555556,0.2,0.45454545454545453,0.42857142857142855,0.3333333333333333,0.6666666666666666,0.4,0.6,0.8571428571428571,0.6,0.2,0.7692307692307693,0.5714285714285714,0.782608695652174,null,1.0,0.25,0.6666666666666666,0.5,0.625,0.42857142857142855,0.6842105263157895,0.375,0.7692307692307693,null,1.0,null,0.6363636363636364,0.6666666666666666,0.42857142857142855,0.38461538461538464,0.5555555555555556,null,0.375,0.5454545454545454,0.3333333333333333,0.5,0.5,0.5,0.125,0.5882352941176471,0.5714285714285714,1.0,0.6,0.8,0.25,0.5833333333333334,0.2857142857142857,0.6,0.8571428571428571,null,0.5555555555555556,0.5,0.3333333333333333,0.6666666666666666,0.5454545454545454,0.6875,0.6153846153846154,0.5833333333333334,0.6666666666666666,null,0.6666666666666666,0.5416666666666666,0.8666666666666667,0.6,0.2,0.3333333333333333,0.5454545454545454,0.7,0.6666666666666666,0.6666666666666666,0.75,0.5,0.5,0.14285714285714285,0.8,0.625,0.6666666666666666,1.0,0.3333333333333333,0.2857142857142857,0.7272727272727273,0.5,0.5,0.8333333333333334,0.42857142857142855,0.75,0.7,0.6666666666666666,0.16666666666666666,0.2,0.5714285714285714,0.4444444444444444,0.6153846153846154,0.7777777777777778,0.375,0.8888888888888888,0.7647058823529411,0.1111111111111111,0.5,0.14285714285714285,1.0,0.375,0.5,0.4,0.2,null,0.3333333333333333,0.7222222222222222,0.3333333333333333,0.2,0.25,0.4,0.25,null,0.42857142857142855,0.5555555555555556,0.5357142857142857,0.45454545454545453,0.25,0.25,0.23529411764705882,0.21428571428571427,0.75,0.2,null,null,0.42857142857142855,0.2857142857142857,1.0,0.5714285714285714,0.25,0.3333333333333333,0.6,0.5,0.4166666666666667,0.5,null,0.5,0.45454545454545453,0.5,0.75,0.8333333333333334,0.375,0.9,0.6666666666666666,1.0,0.8,0.7142857142857143,0.5,0.5,0.8571428571428571,0.3333333333333333,0.3076923076923077,0.4,0.2,0.25,0.3333333333333333,0.42857142857142855,0.2,0.6153846153846154,0.5,0.75,0.5,0.6363636363636364,0.48,0.2,0.3684210526315789,0.4444444444444444,0.4,1.0,0.6666666666666666,0.4444444444444444,1.0,0.4444444444444444,0.5,1.0,0.5,0.2,0.7,0.42857142857142855,0.5,0.68,null,0.5,0.6,0.3333333333333333,null,0.25,0.5,0.5,0.625,0.8,0.4,0.5714285714285714,0.25,0.5454545454545454,0.3333333333333333,0.6666666666666666,0.5714285714285714,0.5,0.7,0.4,0.45454545454545453,0.4,0.6666666666666666,0.5,0.4,0.3333333333333333,1.0,0.375,null,0.42857142857142855,0.47368421052631576,0.45454545454545453,0.4,1.0,null,null,0.4444444444444444,0.5555555555555556,0.4,0.5,0.5714285714285714,0.3076923076923077,1.0,0.4,0.5,null,1.0,0.6,0.5,1.0,0.4074074074074074,0.125,0.5333333333333333,1.0,0.5454545454545454,0.2,0.08333333333333333,0.375,0.16666666666666666,null,0.5714285714285714,0.4444444444444444,0.5833333333333334,0.5454545454545454,0.3076923076923077,null,0.4444444444444444,0.4,0.3333333333333333,0.3333333333333333,0.65,null,0.2,1.0,0.4444444444444444,0.7857142857142857,0.21739130434782608,0.8571428571428571,0.6,0.6,0.5,0.6,0.36363636363636365,0.4,null,0.3333333333333333,0.7083333333333334,0.5333333333333333,0.8571428571428571,null,0.5909090909090909,0.3333333333333333,0.2608695652173913,0.1111111111111111,1.0,0.3333333333333333,0.4,0.5,0.4,0.5384615384615384,0.45454545454545453,null,0.36363636363636365,0.875,0.7894736842105263,0.6153846153846154,0.7777777777777778,0.18181818181818182,0.25,0.42857142857142855,0.25,0.5714285714285714,null,0.5,0.25,0.5,0.5,null,null,0.7777777777777778,0.5483870967741935,0.47058823529411764,0.5714285714285714,0.4444444444444444,0.7,0.35714285714285715,null,0.3181818181818182,0.6666666666666666,0.3333333333333333,0.6666666666666666,null,0.6818181818181818,0.3333333333333333,null,0.7777777777777778,null,null,0.625,0.6363636363636364,0.2222222222222222,0.3076923076923077,0.5833333333333334,0.4,0.47058823529411764,0.5714285714285714,0.4444444444444444,null,0.5,null,0.7692307692307693,0.5,0.6363636363636364,0.7777777777777778,null,0.7142857142857143,0.25,0.375,0.25,0.3333333333333333,0.2,0.25,0.5714285714285714,0.5714285714285714,0.4166666666666667,0.75],\"xaxis\":\"x\",\"yaxis\":\"y\",\"type\":\"histogram\"}],                        {\"template\":{\"data\":{\"barpolar\":[{\"marker\":{\"line\":{\"color\":\"white\",\"width\":0.5},\"pattern\":{\"fillmode\":\"overlay\",\"size\":10,\"solidity\":0.2}},\"type\":\"barpolar\"}],\"bar\":[{\"error_x\":{\"color\":\"rgb(36,36,36)\"},\"error_y\":{\"color\":\"rgb(36,36,36)\"},\"marker\":{\"line\":{\"color\":\"white\",\"width\":0.5},\"pattern\":{\"fillmode\":\"overlay\",\"size\":10,\"solidity\":0.2}},\"type\":\"bar\"}],\"carpet\":[{\"aaxis\":{\"endlinecolor\":\"rgb(36,36,36)\",\"gridcolor\":\"white\",\"linecolor\":\"white\",\"minorgridcolor\":\"white\",\"startlinecolor\":\"rgb(36,36,36)\"},\"baxis\":{\"endlinecolor\":\"rgb(36,36,36)\",\"gridcolor\":\"white\",\"linecolor\":\"white\",\"minorgridcolor\":\"white\",\"startlinecolor\":\"rgb(36,36,36)\"},\"type\":\"carpet\"}],\"choropleth\":[{\"colorbar\":{\"outlinewidth\":1,\"tickcolor\":\"rgb(36,36,36)\",\"ticks\":\"outside\"},\"type\":\"choropleth\"}],\"contourcarpet\":[{\"colorbar\":{\"outlinewidth\":1,\"tickcolor\":\"rgb(36,36,36)\",\"ticks\":\"outside\"},\"type\":\"contourcarpet\"}],\"contour\":[{\"colorbar\":{\"outlinewidth\":1,\"tickcolor\":\"rgb(36,36,36)\",\"ticks\":\"outside\"},\"colorscale\":[[0.0,\"#440154\"],[0.1111111111111111,\"#482878\"],[0.2222222222222222,\"#3e4989\"],[0.3333333333333333,\"#31688e\"],[0.4444444444444444,\"#26828e\"],[0.5555555555555556,\"#1f9e89\"],[0.6666666666666666,\"#35b779\"],[0.7777777777777778,\"#6ece58\"],[0.8888888888888888,\"#b5de2b\"],[1.0,\"#fde725\"]],\"type\":\"contour\"}],\"heatmapgl\":[{\"colorbar\":{\"outlinewidth\":1,\"tickcolor\":\"rgb(36,36,36)\",\"ticks\":\"outside\"},\"colorscale\":[[0.0,\"#440154\"],[0.1111111111111111,\"#482878\"],[0.2222222222222222,\"#3e4989\"],[0.3333333333333333,\"#31688e\"],[0.4444444444444444,\"#26828e\"],[0.5555555555555556,\"#1f9e89\"],[0.6666666666666666,\"#35b779\"],[0.7777777777777778,\"#6ece58\"],[0.8888888888888888,\"#b5de2b\"],[1.0,\"#fde725\"]],\"type\":\"heatmapgl\"}],\"heatmap\":[{\"colorbar\":{\"outlinewidth\":1,\"tickcolor\":\"rgb(36,36,36)\",\"ticks\":\"outside\"},\"colorscale\":[[0.0,\"#440154\"],[0.1111111111111111,\"#482878\"],[0.2222222222222222,\"#3e4989\"],[0.3333333333333333,\"#31688e\"],[0.4444444444444444,\"#26828e\"],[0.5555555555555556,\"#1f9e89\"],[0.6666666666666666,\"#35b779\"],[0.7777777777777778,\"#6ece58\"],[0.8888888888888888,\"#b5de2b\"],[1.0,\"#fde725\"]],\"type\":\"heatmap\"}],\"histogram2dcontour\":[{\"colorbar\":{\"outlinewidth\":1,\"tickcolor\":\"rgb(36,36,36)\",\"ticks\":\"outside\"},\"colorscale\":[[0.0,\"#440154\"],[0.1111111111111111,\"#482878\"],[0.2222222222222222,\"#3e4989\"],[0.3333333333333333,\"#31688e\"],[0.4444444444444444,\"#26828e\"],[0.5555555555555556,\"#1f9e89\"],[0.6666666666666666,\"#35b779\"],[0.7777777777777778,\"#6ece58\"],[0.8888888888888888,\"#b5de2b\"],[1.0,\"#fde725\"]],\"type\":\"histogram2dcontour\"}],\"histogram2d\":[{\"colorbar\":{\"outlinewidth\":1,\"tickcolor\":\"rgb(36,36,36)\",\"ticks\":\"outside\"},\"colorscale\":[[0.0,\"#440154\"],[0.1111111111111111,\"#482878\"],[0.2222222222222222,\"#3e4989\"],[0.3333333333333333,\"#31688e\"],[0.4444444444444444,\"#26828e\"],[0.5555555555555556,\"#1f9e89\"],[0.6666666666666666,\"#35b779\"],[0.7777777777777778,\"#6ece58\"],[0.8888888888888888,\"#b5de2b\"],[1.0,\"#fde725\"]],\"type\":\"histogram2d\"}],\"histogram\":[{\"marker\":{\"line\":{\"color\":\"white\",\"width\":0.6}},\"type\":\"histogram\"}],\"mesh3d\":[{\"colorbar\":{\"outlinewidth\":1,\"tickcolor\":\"rgb(36,36,36)\",\"ticks\":\"outside\"},\"type\":\"mesh3d\"}],\"parcoords\":[{\"line\":{\"colorbar\":{\"outlinewidth\":1,\"tickcolor\":\"rgb(36,36,36)\",\"ticks\":\"outside\"}},\"type\":\"parcoords\"}],\"pie\":[{\"automargin\":true,\"type\":\"pie\"}],\"scatter3d\":[{\"line\":{\"colorbar\":{\"outlinewidth\":1,\"tickcolor\":\"rgb(36,36,36)\",\"ticks\":\"outside\"}},\"marker\":{\"colorbar\":{\"outlinewidth\":1,\"tickcolor\":\"rgb(36,36,36)\",\"ticks\":\"outside\"}},\"type\":\"scatter3d\"}],\"scattercarpet\":[{\"marker\":{\"colorbar\":{\"outlinewidth\":1,\"tickcolor\":\"rgb(36,36,36)\",\"ticks\":\"outside\"}},\"type\":\"scattercarpet\"}],\"scattergeo\":[{\"marker\":{\"colorbar\":{\"outlinewidth\":1,\"tickcolor\":\"rgb(36,36,36)\",\"ticks\":\"outside\"}},\"type\":\"scattergeo\"}],\"scattergl\":[{\"marker\":{\"colorbar\":{\"outlinewidth\":1,\"tickcolor\":\"rgb(36,36,36)\",\"ticks\":\"outside\"}},\"type\":\"scattergl\"}],\"scattermapbox\":[{\"marker\":{\"colorbar\":{\"outlinewidth\":1,\"tickcolor\":\"rgb(36,36,36)\",\"ticks\":\"outside\"}},\"type\":\"scattermapbox\"}],\"scatterpolargl\":[{\"marker\":{\"colorbar\":{\"outlinewidth\":1,\"tickcolor\":\"rgb(36,36,36)\",\"ticks\":\"outside\"}},\"type\":\"scatterpolargl\"}],\"scatterpolar\":[{\"marker\":{\"colorbar\":{\"outlinewidth\":1,\"tickcolor\":\"rgb(36,36,36)\",\"ticks\":\"outside\"}},\"type\":\"scatterpolar\"}],\"scatter\":[{\"fillpattern\":{\"fillmode\":\"overlay\",\"size\":10,\"solidity\":0.2},\"type\":\"scatter\"}],\"scatterternary\":[{\"marker\":{\"colorbar\":{\"outlinewidth\":1,\"tickcolor\":\"rgb(36,36,36)\",\"ticks\":\"outside\"}},\"type\":\"scatterternary\"}],\"surface\":[{\"colorbar\":{\"outlinewidth\":1,\"tickcolor\":\"rgb(36,36,36)\",\"ticks\":\"outside\"},\"colorscale\":[[0.0,\"#440154\"],[0.1111111111111111,\"#482878\"],[0.2222222222222222,\"#3e4989\"],[0.3333333333333333,\"#31688e\"],[0.4444444444444444,\"#26828e\"],[0.5555555555555556,\"#1f9e89\"],[0.6666666666666666,\"#35b779\"],[0.7777777777777778,\"#6ece58\"],[0.8888888888888888,\"#b5de2b\"],[1.0,\"#fde725\"]],\"type\":\"surface\"}],\"table\":[{\"cells\":{\"fill\":{\"color\":\"rgb(237,237,237)\"},\"line\":{\"color\":\"white\"}},\"header\":{\"fill\":{\"color\":\"rgb(217,217,217)\"},\"line\":{\"color\":\"white\"}},\"type\":\"table\"}]},\"layout\":{\"annotationdefaults\":{\"arrowhead\":0,\"arrowwidth\":1},\"autotypenumbers\":\"strict\",\"coloraxis\":{\"colorbar\":{\"outlinewidth\":1,\"tickcolor\":\"rgb(36,36,36)\",\"ticks\":\"outside\"}},\"colorscale\":{\"diverging\":[[0.0,\"rgb(103,0,31)\"],[0.1,\"rgb(178,24,43)\"],[0.2,\"rgb(214,96,77)\"],[0.3,\"rgb(244,165,130)\"],[0.4,\"rgb(253,219,199)\"],[0.5,\"rgb(247,247,247)\"],[0.6,\"rgb(209,229,240)\"],[0.7,\"rgb(146,197,222)\"],[0.8,\"rgb(67,147,195)\"],[0.9,\"rgb(33,102,172)\"],[1.0,\"rgb(5,48,97)\"]],\"sequential\":[[0.0,\"#440154\"],[0.1111111111111111,\"#482878\"],[0.2222222222222222,\"#3e4989\"],[0.3333333333333333,\"#31688e\"],[0.4444444444444444,\"#26828e\"],[0.5555555555555556,\"#1f9e89\"],[0.6666666666666666,\"#35b779\"],[0.7777777777777778,\"#6ece58\"],[0.8888888888888888,\"#b5de2b\"],[1.0,\"#fde725\"]],\"sequentialminus\":[[0.0,\"#440154\"],[0.1111111111111111,\"#482878\"],[0.2222222222222222,\"#3e4989\"],[0.3333333333333333,\"#31688e\"],[0.4444444444444444,\"#26828e\"],[0.5555555555555556,\"#1f9e89\"],[0.6666666666666666,\"#35b779\"],[0.7777777777777778,\"#6ece58\"],[0.8888888888888888,\"#b5de2b\"],[1.0,\"#fde725\"]]},\"colorway\":[\"#1F77B4\",\"#FF7F0E\",\"#2CA02C\",\"#D62728\",\"#9467BD\",\"#8C564B\",\"#E377C2\",\"#7F7F7F\",\"#BCBD22\",\"#17BECF\"],\"font\":{\"color\":\"rgb(36,36,36)\"},\"geo\":{\"bgcolor\":\"white\",\"lakecolor\":\"white\",\"landcolor\":\"white\",\"showlakes\":true,\"showland\":true,\"subunitcolor\":\"white\"},\"hoverlabel\":{\"align\":\"left\"},\"hovermode\":\"closest\",\"mapbox\":{\"style\":\"light\"},\"paper_bgcolor\":\"white\",\"plot_bgcolor\":\"white\",\"polar\":{\"angularaxis\":{\"gridcolor\":\"rgb(232,232,232)\",\"linecolor\":\"rgb(36,36,36)\",\"showgrid\":false,\"showline\":true,\"ticks\":\"outside\"},\"bgcolor\":\"white\",\"radialaxis\":{\"gridcolor\":\"rgb(232,232,232)\",\"linecolor\":\"rgb(36,36,36)\",\"showgrid\":false,\"showline\":true,\"ticks\":\"outside\"}},\"scene\":{\"xaxis\":{\"backgroundcolor\":\"white\",\"gridcolor\":\"rgb(232,232,232)\",\"gridwidth\":2,\"linecolor\":\"rgb(36,36,36)\",\"showbackground\":true,\"showgrid\":false,\"showline\":true,\"ticks\":\"outside\",\"zeroline\":false,\"zerolinecolor\":\"rgb(36,36,36)\"},\"yaxis\":{\"backgroundcolor\":\"white\",\"gridcolor\":\"rgb(232,232,232)\",\"gridwidth\":2,\"linecolor\":\"rgb(36,36,36)\",\"showbackground\":true,\"showgrid\":false,\"showline\":true,\"ticks\":\"outside\",\"zeroline\":false,\"zerolinecolor\":\"rgb(36,36,36)\"},\"zaxis\":{\"backgroundcolor\":\"white\",\"gridcolor\":\"rgb(232,232,232)\",\"gridwidth\":2,\"linecolor\":\"rgb(36,36,36)\",\"showbackground\":true,\"showgrid\":false,\"showline\":true,\"ticks\":\"outside\",\"zeroline\":false,\"zerolinecolor\":\"rgb(36,36,36)\"}},\"shapedefaults\":{\"fillcolor\":\"black\",\"line\":{\"width\":0},\"opacity\":0.3},\"ternary\":{\"aaxis\":{\"gridcolor\":\"rgb(232,232,232)\",\"linecolor\":\"rgb(36,36,36)\",\"showgrid\":false,\"showline\":true,\"ticks\":\"outside\"},\"baxis\":{\"gridcolor\":\"rgb(232,232,232)\",\"linecolor\":\"rgb(36,36,36)\",\"showgrid\":false,\"showline\":true,\"ticks\":\"outside\"},\"bgcolor\":\"white\",\"caxis\":{\"gridcolor\":\"rgb(232,232,232)\",\"linecolor\":\"rgb(36,36,36)\",\"showgrid\":false,\"showline\":true,\"ticks\":\"outside\"}},\"title\":{\"x\":0.5,\"xanchor\":\"center\"},\"xaxis\":{\"automargin\":true,\"gridcolor\":\"rgb(232,232,232)\",\"linecolor\":\"rgb(36,36,36)\",\"showgrid\":true,\"showline\":true,\"ticks\":\"outside\",\"title\":{\"standoff\":15},\"zeroline\":false,\"zerolinecolor\":\"rgb(36,36,36)\"},\"yaxis\":{\"automargin\":true,\"gridcolor\":\"rgb(232,232,232)\",\"linecolor\":\"rgb(36,36,36)\",\"showgrid\":true,\"showline\":true,\"ticks\":\"outside\",\"title\":{\"standoff\":15},\"zeroline\":false,\"zerolinecolor\":\"rgb(36,36,36)\"},\"autosize\":true,\"height\":400,\"margin\":{\"b\":30,\"l\":30,\"r\":30,\"t\":30},\"width\":600}},\"xaxis\":{\"anchor\":\"y\",\"domain\":[0.0,1.0],\"title\":{\"text\":\"jinxwinrate\"}},\"yaxis\":{\"anchor\":\"x\",\"domain\":[0.0,1.0],\"title\":{\"text\":\"count\"}},\"legend\":{\"tracegroupgap\":0},\"barmode\":\"relative\"},                        {\"responsive\": true}                    ).then(function(){\n",
       "                            \n",
       "var gd = document.getElementById('dbc488c8-7d85-4d22-9af5-448e11d9a928');\n",
       "var x = new MutationObserver(function (mutations, observer) {{\n",
       "        var display = window.getComputedStyle(gd).display;\n",
       "        if (!display || display === 'none') {{\n",
       "            console.log([gd, 'removed!']);\n",
       "            Plotly.purge(gd);\n",
       "            observer.disconnect();\n",
       "        }}\n",
       "}});\n",
       "\n",
       "// Listen for the removal of the full notebook cells\n",
       "var notebookContainer = gd.closest('#notebook-container');\n",
       "if (notebookContainer) {{\n",
       "    x.observe(notebookContainer, {childList: true});\n",
       "}}\n",
       "\n",
       "// Listen for the clearing of the current output cell\n",
       "var outputEl = gd.closest('.output');\n",
       "if (outputEl) {{\n",
       "    x.observe(outputEl, {childList: true});\n",
       "}}\n",
       "\n",
       "                        })                };                });            </script>        </div>"
      ]
     },
     "metadata": {},
     "output_type": "display_data"
    }
   ],
   "source": [
    "def hasJinx(row):\n",
    "    return any(row[['pick1', 'pick2', 'pick3', 'pick4', 'pick5']] == 'Jinx')\n",
    "\n",
    "filtered_jinxwins = filtered_jinxwins[filtered_jinxwins.apply(hasJinx, axis=1)]\n",
    "team_jinx_games = filtered_jinxwins.groupby('teamname').size()\n",
    "team_jinx_wins = filtered_jinxwins[filtered_jinxwins['result'] == 1].groupby('teamname').size()\n",
    "\n",
    "jinxwinrate = (team_jinx_wins / team_jinx_games).reset_index().rename(columns={0 : \"jinxwinrate\"})\n",
    "fig = px.histogram(jinxwinrate, x=\"jinxwinrate\",nbins=15)\n",
    "fig.show()"
   ]
  },
  {
   "cell_type": "code",
   "execution_count": 36,
   "metadata": {},
   "outputs": [],
   "source": [
    "viwins = games.copy()\n",
    "filtered_viwins = viwins[viwins[['pick1', 'pick2', 'pick3', 'pick4', 'pick5']].notna().all(axis=1)]\n",
    "filtered_viwins = filtered_viwins[['teamname','pick1', 'pick2','pick3','pick4','pick5', 'result']]"
   ]
  },
  {
   "cell_type": "code",
   "execution_count": null,
   "metadata": {},
   "outputs": [
    {
     "name": "stdout",
     "output_type": "stream",
     "text": [
      "(197, 2)\n"
     ]
    },
    {
     "data": {
      "application/vnd.plotly.v1+json": {
       "config": {
        "plotlyServerURL": "https://plot.ly"
       },
       "data": [
        {
         "alignmentgroup": "True",
         "bingroup": "x",
         "hovertemplate": "viwinrate=%{x}<br>count=%{y}<extra></extra>",
         "legendgroup": "",
         "marker": {
          "color": "#870146",
          "pattern": {
           "shape": ""
          }
         },
         "name": "",
         "nbinsx": 15,
         "offsetgroup": "",
         "orientation": "v",
         "showlegend": false,
         "type": "histogram",
         "x": [
          0.5,
          1,
          null,
          0.5,
          null,
          null,
          null,
          0.5,
          0.5,
          null,
          0.5,
          null,
          0.75,
          null,
          0.5,
          1,
          null,
          null,
          null,
          1,
          1,
          1,
          null,
          0.2857142857142857,
          0.5,
          null,
          0.8,
          null,
          null,
          null,
          0.5,
          0.5,
          1,
          null,
          null,
          null,
          null,
          null,
          null,
          0.4,
          null,
          0.5714285714285714,
          0.6666666666666666,
          0.5,
          0.5,
          0.25,
          null,
          null,
          0.6,
          null,
          0.6,
          0.6153846153846154,
          null,
          null,
          null,
          0.5,
          1,
          0.5,
          null,
          null,
          0.5,
          1,
          0.8,
          null,
          0.6666666666666666,
          1,
          0.8333333333333334,
          1,
          0.8,
          null,
          0.75,
          null,
          null,
          1,
          0.5,
          1,
          0.5,
          null,
          0.5714285714285714,
          0.25,
          null,
          null,
          null,
          null,
          0.4,
          null,
          1,
          0.5,
          null,
          null,
          null,
          0.25,
          0.5,
          0.5,
          0.3333333333333333,
          0.5,
          0.7,
          0.6666666666666666,
          1,
          null,
          null,
          0.3333333333333333,
          0.5,
          0.5,
          0.3333333333333333,
          null,
          null,
          0.6666666666666666,
          1,
          1,
          0.5,
          0.5,
          null,
          0.3333333333333333,
          null,
          0.6666666666666666,
          0.25,
          0.5,
          null,
          0.5,
          null,
          null,
          1,
          null,
          0.5,
          0.6666666666666666,
          null,
          null,
          0.5,
          0.4,
          null,
          null,
          null,
          0.5,
          null,
          0.5,
          null,
          1,
          0.3333333333333333,
          null,
          null,
          0.16666666666666666,
          null,
          0.75,
          0.2,
          0.5,
          0.25,
          1,
          0.5,
          0.3333333333333333,
          null,
          1,
          0.5,
          0.5,
          1,
          0.5,
          0.5,
          null,
          0.5,
          0.7142857142857143,
          1,
          null,
          0.5,
          0.6666666666666666,
          0.5,
          0.6,
          0.3333333333333333,
          null,
          null,
          0.625,
          0.5,
          0.5,
          0.5,
          1,
          null,
          null,
          0.8,
          null,
          0.3333333333333333,
          1,
          1,
          null,
          null,
          0.5,
          1,
          1,
          1,
          null,
          null,
          null,
          0.5,
          null,
          0.5,
          0.5,
          1,
          0.3,
          1
         ],
         "xaxis": "x",
         "yaxis": "y"
        }
       ],
       "layout": {
        "barmode": "relative",
        "legend": {
         "tracegroupgap": 0
        },
        "template": {
         "data": {
          "bar": [
           {
            "error_x": {
             "color": "rgb(36,36,36)"
            },
            "error_y": {
             "color": "rgb(36,36,36)"
            },
            "marker": {
             "line": {
              "color": "white",
              "width": 0.5
             },
             "pattern": {
              "fillmode": "overlay",
              "size": 10,
              "solidity": 0.2
             }
            },
            "type": "bar"
           }
          ],
          "barpolar": [
           {
            "marker": {
             "line": {
              "color": "white",
              "width": 0.5
             },
             "pattern": {
              "fillmode": "overlay",
              "size": 10,
              "solidity": 0.2
             }
            },
            "type": "barpolar"
           }
          ],
          "carpet": [
           {
            "aaxis": {
             "endlinecolor": "rgb(36,36,36)",
             "gridcolor": "white",
             "linecolor": "white",
             "minorgridcolor": "white",
             "startlinecolor": "rgb(36,36,36)"
            },
            "baxis": {
             "endlinecolor": "rgb(36,36,36)",
             "gridcolor": "white",
             "linecolor": "white",
             "minorgridcolor": "white",
             "startlinecolor": "rgb(36,36,36)"
            },
            "type": "carpet"
           }
          ],
          "choropleth": [
           {
            "colorbar": {
             "outlinewidth": 1,
             "tickcolor": "rgb(36,36,36)",
             "ticks": "outside"
            },
            "type": "choropleth"
           }
          ],
          "contour": [
           {
            "colorbar": {
             "outlinewidth": 1,
             "tickcolor": "rgb(36,36,36)",
             "ticks": "outside"
            },
            "colorscale": [
             [
              0,
              "#440154"
             ],
             [
              0.1111111111111111,
              "#482878"
             ],
             [
              0.2222222222222222,
              "#3e4989"
             ],
             [
              0.3333333333333333,
              "#31688e"
             ],
             [
              0.4444444444444444,
              "#26828e"
             ],
             [
              0.5555555555555556,
              "#1f9e89"
             ],
             [
              0.6666666666666666,
              "#35b779"
             ],
             [
              0.7777777777777778,
              "#6ece58"
             ],
             [
              0.8888888888888888,
              "#b5de2b"
             ],
             [
              1,
              "#fde725"
             ]
            ],
            "type": "contour"
           }
          ],
          "contourcarpet": [
           {
            "colorbar": {
             "outlinewidth": 1,
             "tickcolor": "rgb(36,36,36)",
             "ticks": "outside"
            },
            "type": "contourcarpet"
           }
          ],
          "heatmap": [
           {
            "colorbar": {
             "outlinewidth": 1,
             "tickcolor": "rgb(36,36,36)",
             "ticks": "outside"
            },
            "colorscale": [
             [
              0,
              "#440154"
             ],
             [
              0.1111111111111111,
              "#482878"
             ],
             [
              0.2222222222222222,
              "#3e4989"
             ],
             [
              0.3333333333333333,
              "#31688e"
             ],
             [
              0.4444444444444444,
              "#26828e"
             ],
             [
              0.5555555555555556,
              "#1f9e89"
             ],
             [
              0.6666666666666666,
              "#35b779"
             ],
             [
              0.7777777777777778,
              "#6ece58"
             ],
             [
              0.8888888888888888,
              "#b5de2b"
             ],
             [
              1,
              "#fde725"
             ]
            ],
            "type": "heatmap"
           }
          ],
          "heatmapgl": [
           {
            "colorbar": {
             "outlinewidth": 1,
             "tickcolor": "rgb(36,36,36)",
             "ticks": "outside"
            },
            "colorscale": [
             [
              0,
              "#440154"
             ],
             [
              0.1111111111111111,
              "#482878"
             ],
             [
              0.2222222222222222,
              "#3e4989"
             ],
             [
              0.3333333333333333,
              "#31688e"
             ],
             [
              0.4444444444444444,
              "#26828e"
             ],
             [
              0.5555555555555556,
              "#1f9e89"
             ],
             [
              0.6666666666666666,
              "#35b779"
             ],
             [
              0.7777777777777778,
              "#6ece58"
             ],
             [
              0.8888888888888888,
              "#b5de2b"
             ],
             [
              1,
              "#fde725"
             ]
            ],
            "type": "heatmapgl"
           }
          ],
          "histogram": [
           {
            "marker": {
             "line": {
              "color": "white",
              "width": 0.6
             }
            },
            "type": "histogram"
           }
          ],
          "histogram2d": [
           {
            "colorbar": {
             "outlinewidth": 1,
             "tickcolor": "rgb(36,36,36)",
             "ticks": "outside"
            },
            "colorscale": [
             [
              0,
              "#440154"
             ],
             [
              0.1111111111111111,
              "#482878"
             ],
             [
              0.2222222222222222,
              "#3e4989"
             ],
             [
              0.3333333333333333,
              "#31688e"
             ],
             [
              0.4444444444444444,
              "#26828e"
             ],
             [
              0.5555555555555556,
              "#1f9e89"
             ],
             [
              0.6666666666666666,
              "#35b779"
             ],
             [
              0.7777777777777778,
              "#6ece58"
             ],
             [
              0.8888888888888888,
              "#b5de2b"
             ],
             [
              1,
              "#fde725"
             ]
            ],
            "type": "histogram2d"
           }
          ],
          "histogram2dcontour": [
           {
            "colorbar": {
             "outlinewidth": 1,
             "tickcolor": "rgb(36,36,36)",
             "ticks": "outside"
            },
            "colorscale": [
             [
              0,
              "#440154"
             ],
             [
              0.1111111111111111,
              "#482878"
             ],
             [
              0.2222222222222222,
              "#3e4989"
             ],
             [
              0.3333333333333333,
              "#31688e"
             ],
             [
              0.4444444444444444,
              "#26828e"
             ],
             [
              0.5555555555555556,
              "#1f9e89"
             ],
             [
              0.6666666666666666,
              "#35b779"
             ],
             [
              0.7777777777777778,
              "#6ece58"
             ],
             [
              0.8888888888888888,
              "#b5de2b"
             ],
             [
              1,
              "#fde725"
             ]
            ],
            "type": "histogram2dcontour"
           }
          ],
          "mesh3d": [
           {
            "colorbar": {
             "outlinewidth": 1,
             "tickcolor": "rgb(36,36,36)",
             "ticks": "outside"
            },
            "type": "mesh3d"
           }
          ],
          "parcoords": [
           {
            "line": {
             "colorbar": {
              "outlinewidth": 1,
              "tickcolor": "rgb(36,36,36)",
              "ticks": "outside"
             }
            },
            "type": "parcoords"
           }
          ],
          "pie": [
           {
            "automargin": true,
            "type": "pie"
           }
          ],
          "scatter": [
           {
            "fillpattern": {
             "fillmode": "overlay",
             "size": 10,
             "solidity": 0.2
            },
            "type": "scatter"
           }
          ],
          "scatter3d": [
           {
            "line": {
             "colorbar": {
              "outlinewidth": 1,
              "tickcolor": "rgb(36,36,36)",
              "ticks": "outside"
             }
            },
            "marker": {
             "colorbar": {
              "outlinewidth": 1,
              "tickcolor": "rgb(36,36,36)",
              "ticks": "outside"
             }
            },
            "type": "scatter3d"
           }
          ],
          "scattercarpet": [
           {
            "marker": {
             "colorbar": {
              "outlinewidth": 1,
              "tickcolor": "rgb(36,36,36)",
              "ticks": "outside"
             }
            },
            "type": "scattercarpet"
           }
          ],
          "scattergeo": [
           {
            "marker": {
             "colorbar": {
              "outlinewidth": 1,
              "tickcolor": "rgb(36,36,36)",
              "ticks": "outside"
             }
            },
            "type": "scattergeo"
           }
          ],
          "scattergl": [
           {
            "marker": {
             "colorbar": {
              "outlinewidth": 1,
              "tickcolor": "rgb(36,36,36)",
              "ticks": "outside"
             }
            },
            "type": "scattergl"
           }
          ],
          "scattermapbox": [
           {
            "marker": {
             "colorbar": {
              "outlinewidth": 1,
              "tickcolor": "rgb(36,36,36)",
              "ticks": "outside"
             }
            },
            "type": "scattermapbox"
           }
          ],
          "scatterpolar": [
           {
            "marker": {
             "colorbar": {
              "outlinewidth": 1,
              "tickcolor": "rgb(36,36,36)",
              "ticks": "outside"
             }
            },
            "type": "scatterpolar"
           }
          ],
          "scatterpolargl": [
           {
            "marker": {
             "colorbar": {
              "outlinewidth": 1,
              "tickcolor": "rgb(36,36,36)",
              "ticks": "outside"
             }
            },
            "type": "scatterpolargl"
           }
          ],
          "scatterternary": [
           {
            "marker": {
             "colorbar": {
              "outlinewidth": 1,
              "tickcolor": "rgb(36,36,36)",
              "ticks": "outside"
             }
            },
            "type": "scatterternary"
           }
          ],
          "surface": [
           {
            "colorbar": {
             "outlinewidth": 1,
             "tickcolor": "rgb(36,36,36)",
             "ticks": "outside"
            },
            "colorscale": [
             [
              0,
              "#440154"
             ],
             [
              0.1111111111111111,
              "#482878"
             ],
             [
              0.2222222222222222,
              "#3e4989"
             ],
             [
              0.3333333333333333,
              "#31688e"
             ],
             [
              0.4444444444444444,
              "#26828e"
             ],
             [
              0.5555555555555556,
              "#1f9e89"
             ],
             [
              0.6666666666666666,
              "#35b779"
             ],
             [
              0.7777777777777778,
              "#6ece58"
             ],
             [
              0.8888888888888888,
              "#b5de2b"
             ],
             [
              1,
              "#fde725"
             ]
            ],
            "type": "surface"
           }
          ],
          "table": [
           {
            "cells": {
             "fill": {
              "color": "rgb(237,237,237)"
             },
             "line": {
              "color": "white"
             }
            },
            "header": {
             "fill": {
              "color": "rgb(217,217,217)"
             },
             "line": {
              "color": "white"
             }
            },
            "type": "table"
           }
          ]
         },
         "layout": {
          "annotationdefaults": {
           "arrowhead": 0,
           "arrowwidth": 1
          },
          "autosize": true,
          "autotypenumbers": "strict",
          "coloraxis": {
           "colorbar": {
            "outlinewidth": 1,
            "tickcolor": "rgb(36,36,36)",
            "ticks": "outside"
           }
          },
          "colorscale": {
           "diverging": [
            [
             0,
             "rgb(103,0,31)"
            ],
            [
             0.1,
             "rgb(178,24,43)"
            ],
            [
             0.2,
             "rgb(214,96,77)"
            ],
            [
             0.3,
             "rgb(244,165,130)"
            ],
            [
             0.4,
             "rgb(253,219,199)"
            ],
            [
             0.5,
             "rgb(247,247,247)"
            ],
            [
             0.6,
             "rgb(209,229,240)"
            ],
            [
             0.7,
             "rgb(146,197,222)"
            ],
            [
             0.8,
             "rgb(67,147,195)"
            ],
            [
             0.9,
             "rgb(33,102,172)"
            ],
            [
             1,
             "rgb(5,48,97)"
            ]
           ],
           "sequential": [
            [
             0,
             "#440154"
            ],
            [
             0.1111111111111111,
             "#482878"
            ],
            [
             0.2222222222222222,
             "#3e4989"
            ],
            [
             0.3333333333333333,
             "#31688e"
            ],
            [
             0.4444444444444444,
             "#26828e"
            ],
            [
             0.5555555555555556,
             "#1f9e89"
            ],
            [
             0.6666666666666666,
             "#35b779"
            ],
            [
             0.7777777777777778,
             "#6ece58"
            ],
            [
             0.8888888888888888,
             "#b5de2b"
            ],
            [
             1,
             "#fde725"
            ]
           ],
           "sequentialminus": [
            [
             0,
             "#440154"
            ],
            [
             0.1111111111111111,
             "#482878"
            ],
            [
             0.2222222222222222,
             "#3e4989"
            ],
            [
             0.3333333333333333,
             "#31688e"
            ],
            [
             0.4444444444444444,
             "#26828e"
            ],
            [
             0.5555555555555556,
             "#1f9e89"
            ],
            [
             0.6666666666666666,
             "#35b779"
            ],
            [
             0.7777777777777778,
             "#6ece58"
            ],
            [
             0.8888888888888888,
             "#b5de2b"
            ],
            [
             1,
             "#fde725"
            ]
           ]
          },
          "colorway": [
           "#1F77B4",
           "#FF7F0E",
           "#2CA02C",
           "#D62728",
           "#9467BD",
           "#8C564B",
           "#E377C2",
           "#7F7F7F",
           "#BCBD22",
           "#17BECF"
          ],
          "font": {
           "color": "rgb(36,36,36)"
          },
          "geo": {
           "bgcolor": "white",
           "lakecolor": "white",
           "landcolor": "white",
           "showlakes": true,
           "showland": true,
           "subunitcolor": "white"
          },
          "height": 400,
          "hoverlabel": {
           "align": "left"
          },
          "hovermode": "closest",
          "mapbox": {
           "style": "light"
          },
          "margin": {
           "b": 30,
           "l": 30,
           "r": 30,
           "t": 30
          },
          "paper_bgcolor": "white",
          "plot_bgcolor": "white",
          "polar": {
           "angularaxis": {
            "gridcolor": "rgb(232,232,232)",
            "linecolor": "rgb(36,36,36)",
            "showgrid": false,
            "showline": true,
            "ticks": "outside"
           },
           "bgcolor": "white",
           "radialaxis": {
            "gridcolor": "rgb(232,232,232)",
            "linecolor": "rgb(36,36,36)",
            "showgrid": false,
            "showline": true,
            "ticks": "outside"
           }
          },
          "scene": {
           "xaxis": {
            "backgroundcolor": "white",
            "gridcolor": "rgb(232,232,232)",
            "gridwidth": 2,
            "linecolor": "rgb(36,36,36)",
            "showbackground": true,
            "showgrid": false,
            "showline": true,
            "ticks": "outside",
            "zeroline": false,
            "zerolinecolor": "rgb(36,36,36)"
           },
           "yaxis": {
            "backgroundcolor": "white",
            "gridcolor": "rgb(232,232,232)",
            "gridwidth": 2,
            "linecolor": "rgb(36,36,36)",
            "showbackground": true,
            "showgrid": false,
            "showline": true,
            "ticks": "outside",
            "zeroline": false,
            "zerolinecolor": "rgb(36,36,36)"
           },
           "zaxis": {
            "backgroundcolor": "white",
            "gridcolor": "rgb(232,232,232)",
            "gridwidth": 2,
            "linecolor": "rgb(36,36,36)",
            "showbackground": true,
            "showgrid": false,
            "showline": true,
            "ticks": "outside",
            "zeroline": false,
            "zerolinecolor": "rgb(36,36,36)"
           }
          },
          "shapedefaults": {
           "fillcolor": "black",
           "line": {
            "width": 0
           },
           "opacity": 0.3
          },
          "ternary": {
           "aaxis": {
            "gridcolor": "rgb(232,232,232)",
            "linecolor": "rgb(36,36,36)",
            "showgrid": false,
            "showline": true,
            "ticks": "outside"
           },
           "baxis": {
            "gridcolor": "rgb(232,232,232)",
            "linecolor": "rgb(36,36,36)",
            "showgrid": false,
            "showline": true,
            "ticks": "outside"
           },
           "bgcolor": "white",
           "caxis": {
            "gridcolor": "rgb(232,232,232)",
            "linecolor": "rgb(36,36,36)",
            "showgrid": false,
            "showline": true,
            "ticks": "outside"
           }
          },
          "title": {
           "x": 0.5,
           "xanchor": "center"
          },
          "width": 600,
          "xaxis": {
           "automargin": true,
           "gridcolor": "rgb(232,232,232)",
           "linecolor": "rgb(36,36,36)",
           "showgrid": true,
           "showline": true,
           "ticks": "outside",
           "title": {
            "standoff": 15
           },
           "zeroline": false,
           "zerolinecolor": "rgb(36,36,36)"
          },
          "yaxis": {
           "automargin": true,
           "gridcolor": "rgb(232,232,232)",
           "linecolor": "rgb(36,36,36)",
           "showgrid": true,
           "showline": true,
           "ticks": "outside",
           "title": {
            "standoff": 15
           },
           "zeroline": false,
           "zerolinecolor": "rgb(36,36,36)"
          }
         }
        },
        "xaxis": {
         "anchor": "y",
         "domain": [
          0,
          1
         ],
         "title": {
          "text": "viwinrate"
         }
        },
        "yaxis": {
         "anchor": "x",
         "domain": [
          0,
          1
         ],
         "title": {
          "text": "count"
         }
        }
       }
      },
      "text/html": [
       "<div>                            <div id=\"e9c9d0a3-5e82-4e52-9c39-beec7b777572\" class=\"plotly-graph-div\" style=\"height:400px; width:600px;\"></div>            <script type=\"text/javascript\">                require([\"plotly\"], function(Plotly) {                    window.PLOTLYENV=window.PLOTLYENV || {};                                    if (document.getElementById(\"e9c9d0a3-5e82-4e52-9c39-beec7b777572\")) {                    Plotly.newPlot(                        \"e9c9d0a3-5e82-4e52-9c39-beec7b777572\",                        [{\"alignmentgroup\":\"True\",\"bingroup\":\"x\",\"hovertemplate\":\"viwinrate=%{x}\\u003cbr\\u003ecount=%{y}\\u003cextra\\u003e\\u003c\\u002fextra\\u003e\",\"legendgroup\":\"\",\"marker\":{\"color\":\"#870146\",\"pattern\":{\"shape\":\"\"}},\"name\":\"\",\"nbinsx\":15,\"offsetgroup\":\"\",\"orientation\":\"v\",\"showlegend\":false,\"x\":[0.5,1.0,null,0.5,null,null,null,0.5,0.5,null,0.5,null,0.75,null,0.5,1.0,null,null,null,1.0,1.0,1.0,null,0.2857142857142857,0.5,null,0.8,null,null,null,0.5,0.5,1.0,null,null,null,null,null,null,0.4,null,0.5714285714285714,0.6666666666666666,0.5,0.5,0.25,null,null,0.6,null,0.6,0.6153846153846154,null,null,null,0.5,1.0,0.5,null,null,0.5,1.0,0.8,null,0.6666666666666666,1.0,0.8333333333333334,1.0,0.8,null,0.75,null,null,1.0,0.5,1.0,0.5,null,0.5714285714285714,0.25,null,null,null,null,0.4,null,1.0,0.5,null,null,null,0.25,0.5,0.5,0.3333333333333333,0.5,0.7,0.6666666666666666,1.0,null,null,0.3333333333333333,0.5,0.5,0.3333333333333333,null,null,0.6666666666666666,1.0,1.0,0.5,0.5,null,0.3333333333333333,null,0.6666666666666666,0.25,0.5,null,0.5,null,null,1.0,null,0.5,0.6666666666666666,null,null,0.5,0.4,null,null,null,0.5,null,0.5,null,1.0,0.3333333333333333,null,null,0.16666666666666666,null,0.75,0.2,0.5,0.25,1.0,0.5,0.3333333333333333,null,1.0,0.5,0.5,1.0,0.5,0.5,null,0.5,0.7142857142857143,1.0,null,0.5,0.6666666666666666,0.5,0.6,0.3333333333333333,null,null,0.625,0.5,0.5,0.5,1.0,null,null,0.8,null,0.3333333333333333,1.0,1.0,null,null,0.5,1.0,1.0,1.0,null,null,null,0.5,null,0.5,0.5,1.0,0.3,1.0],\"xaxis\":\"x\",\"yaxis\":\"y\",\"type\":\"histogram\"}],                        {\"template\":{\"data\":{\"barpolar\":[{\"marker\":{\"line\":{\"color\":\"white\",\"width\":0.5},\"pattern\":{\"fillmode\":\"overlay\",\"size\":10,\"solidity\":0.2}},\"type\":\"barpolar\"}],\"bar\":[{\"error_x\":{\"color\":\"rgb(36,36,36)\"},\"error_y\":{\"color\":\"rgb(36,36,36)\"},\"marker\":{\"line\":{\"color\":\"white\",\"width\":0.5},\"pattern\":{\"fillmode\":\"overlay\",\"size\":10,\"solidity\":0.2}},\"type\":\"bar\"}],\"carpet\":[{\"aaxis\":{\"endlinecolor\":\"rgb(36,36,36)\",\"gridcolor\":\"white\",\"linecolor\":\"white\",\"minorgridcolor\":\"white\",\"startlinecolor\":\"rgb(36,36,36)\"},\"baxis\":{\"endlinecolor\":\"rgb(36,36,36)\",\"gridcolor\":\"white\",\"linecolor\":\"white\",\"minorgridcolor\":\"white\",\"startlinecolor\":\"rgb(36,36,36)\"},\"type\":\"carpet\"}],\"choropleth\":[{\"colorbar\":{\"outlinewidth\":1,\"tickcolor\":\"rgb(36,36,36)\",\"ticks\":\"outside\"},\"type\":\"choropleth\"}],\"contourcarpet\":[{\"colorbar\":{\"outlinewidth\":1,\"tickcolor\":\"rgb(36,36,36)\",\"ticks\":\"outside\"},\"type\":\"contourcarpet\"}],\"contour\":[{\"colorbar\":{\"outlinewidth\":1,\"tickcolor\":\"rgb(36,36,36)\",\"ticks\":\"outside\"},\"colorscale\":[[0.0,\"#440154\"],[0.1111111111111111,\"#482878\"],[0.2222222222222222,\"#3e4989\"],[0.3333333333333333,\"#31688e\"],[0.4444444444444444,\"#26828e\"],[0.5555555555555556,\"#1f9e89\"],[0.6666666666666666,\"#35b779\"],[0.7777777777777778,\"#6ece58\"],[0.8888888888888888,\"#b5de2b\"],[1.0,\"#fde725\"]],\"type\":\"contour\"}],\"heatmapgl\":[{\"colorbar\":{\"outlinewidth\":1,\"tickcolor\":\"rgb(36,36,36)\",\"ticks\":\"outside\"},\"colorscale\":[[0.0,\"#440154\"],[0.1111111111111111,\"#482878\"],[0.2222222222222222,\"#3e4989\"],[0.3333333333333333,\"#31688e\"],[0.4444444444444444,\"#26828e\"],[0.5555555555555556,\"#1f9e89\"],[0.6666666666666666,\"#35b779\"],[0.7777777777777778,\"#6ece58\"],[0.8888888888888888,\"#b5de2b\"],[1.0,\"#fde725\"]],\"type\":\"heatmapgl\"}],\"heatmap\":[{\"colorbar\":{\"outlinewidth\":1,\"tickcolor\":\"rgb(36,36,36)\",\"ticks\":\"outside\"},\"colorscale\":[[0.0,\"#440154\"],[0.1111111111111111,\"#482878\"],[0.2222222222222222,\"#3e4989\"],[0.3333333333333333,\"#31688e\"],[0.4444444444444444,\"#26828e\"],[0.5555555555555556,\"#1f9e89\"],[0.6666666666666666,\"#35b779\"],[0.7777777777777778,\"#6ece58\"],[0.8888888888888888,\"#b5de2b\"],[1.0,\"#fde725\"]],\"type\":\"heatmap\"}],\"histogram2dcontour\":[{\"colorbar\":{\"outlinewidth\":1,\"tickcolor\":\"rgb(36,36,36)\",\"ticks\":\"outside\"},\"colorscale\":[[0.0,\"#440154\"],[0.1111111111111111,\"#482878\"],[0.2222222222222222,\"#3e4989\"],[0.3333333333333333,\"#31688e\"],[0.4444444444444444,\"#26828e\"],[0.5555555555555556,\"#1f9e89\"],[0.6666666666666666,\"#35b779\"],[0.7777777777777778,\"#6ece58\"],[0.8888888888888888,\"#b5de2b\"],[1.0,\"#fde725\"]],\"type\":\"histogram2dcontour\"}],\"histogram2d\":[{\"colorbar\":{\"outlinewidth\":1,\"tickcolor\":\"rgb(36,36,36)\",\"ticks\":\"outside\"},\"colorscale\":[[0.0,\"#440154\"],[0.1111111111111111,\"#482878\"],[0.2222222222222222,\"#3e4989\"],[0.3333333333333333,\"#31688e\"],[0.4444444444444444,\"#26828e\"],[0.5555555555555556,\"#1f9e89\"],[0.6666666666666666,\"#35b779\"],[0.7777777777777778,\"#6ece58\"],[0.8888888888888888,\"#b5de2b\"],[1.0,\"#fde725\"]],\"type\":\"histogram2d\"}],\"histogram\":[{\"marker\":{\"line\":{\"color\":\"white\",\"width\":0.6}},\"type\":\"histogram\"}],\"mesh3d\":[{\"colorbar\":{\"outlinewidth\":1,\"tickcolor\":\"rgb(36,36,36)\",\"ticks\":\"outside\"},\"type\":\"mesh3d\"}],\"parcoords\":[{\"line\":{\"colorbar\":{\"outlinewidth\":1,\"tickcolor\":\"rgb(36,36,36)\",\"ticks\":\"outside\"}},\"type\":\"parcoords\"}],\"pie\":[{\"automargin\":true,\"type\":\"pie\"}],\"scatter3d\":[{\"line\":{\"colorbar\":{\"outlinewidth\":1,\"tickcolor\":\"rgb(36,36,36)\",\"ticks\":\"outside\"}},\"marker\":{\"colorbar\":{\"outlinewidth\":1,\"tickcolor\":\"rgb(36,36,36)\",\"ticks\":\"outside\"}},\"type\":\"scatter3d\"}],\"scattercarpet\":[{\"marker\":{\"colorbar\":{\"outlinewidth\":1,\"tickcolor\":\"rgb(36,36,36)\",\"ticks\":\"outside\"}},\"type\":\"scattercarpet\"}],\"scattergeo\":[{\"marker\":{\"colorbar\":{\"outlinewidth\":1,\"tickcolor\":\"rgb(36,36,36)\",\"ticks\":\"outside\"}},\"type\":\"scattergeo\"}],\"scattergl\":[{\"marker\":{\"colorbar\":{\"outlinewidth\":1,\"tickcolor\":\"rgb(36,36,36)\",\"ticks\":\"outside\"}},\"type\":\"scattergl\"}],\"scattermapbox\":[{\"marker\":{\"colorbar\":{\"outlinewidth\":1,\"tickcolor\":\"rgb(36,36,36)\",\"ticks\":\"outside\"}},\"type\":\"scattermapbox\"}],\"scatterpolargl\":[{\"marker\":{\"colorbar\":{\"outlinewidth\":1,\"tickcolor\":\"rgb(36,36,36)\",\"ticks\":\"outside\"}},\"type\":\"scatterpolargl\"}],\"scatterpolar\":[{\"marker\":{\"colorbar\":{\"outlinewidth\":1,\"tickcolor\":\"rgb(36,36,36)\",\"ticks\":\"outside\"}},\"type\":\"scatterpolar\"}],\"scatter\":[{\"fillpattern\":{\"fillmode\":\"overlay\",\"size\":10,\"solidity\":0.2},\"type\":\"scatter\"}],\"scatterternary\":[{\"marker\":{\"colorbar\":{\"outlinewidth\":1,\"tickcolor\":\"rgb(36,36,36)\",\"ticks\":\"outside\"}},\"type\":\"scatterternary\"}],\"surface\":[{\"colorbar\":{\"outlinewidth\":1,\"tickcolor\":\"rgb(36,36,36)\",\"ticks\":\"outside\"},\"colorscale\":[[0.0,\"#440154\"],[0.1111111111111111,\"#482878\"],[0.2222222222222222,\"#3e4989\"],[0.3333333333333333,\"#31688e\"],[0.4444444444444444,\"#26828e\"],[0.5555555555555556,\"#1f9e89\"],[0.6666666666666666,\"#35b779\"],[0.7777777777777778,\"#6ece58\"],[0.8888888888888888,\"#b5de2b\"],[1.0,\"#fde725\"]],\"type\":\"surface\"}],\"table\":[{\"cells\":{\"fill\":{\"color\":\"rgb(237,237,237)\"},\"line\":{\"color\":\"white\"}},\"header\":{\"fill\":{\"color\":\"rgb(217,217,217)\"},\"line\":{\"color\":\"white\"}},\"type\":\"table\"}]},\"layout\":{\"annotationdefaults\":{\"arrowhead\":0,\"arrowwidth\":1},\"autotypenumbers\":\"strict\",\"coloraxis\":{\"colorbar\":{\"outlinewidth\":1,\"tickcolor\":\"rgb(36,36,36)\",\"ticks\":\"outside\"}},\"colorscale\":{\"diverging\":[[0.0,\"rgb(103,0,31)\"],[0.1,\"rgb(178,24,43)\"],[0.2,\"rgb(214,96,77)\"],[0.3,\"rgb(244,165,130)\"],[0.4,\"rgb(253,219,199)\"],[0.5,\"rgb(247,247,247)\"],[0.6,\"rgb(209,229,240)\"],[0.7,\"rgb(146,197,222)\"],[0.8,\"rgb(67,147,195)\"],[0.9,\"rgb(33,102,172)\"],[1.0,\"rgb(5,48,97)\"]],\"sequential\":[[0.0,\"#440154\"],[0.1111111111111111,\"#482878\"],[0.2222222222222222,\"#3e4989\"],[0.3333333333333333,\"#31688e\"],[0.4444444444444444,\"#26828e\"],[0.5555555555555556,\"#1f9e89\"],[0.6666666666666666,\"#35b779\"],[0.7777777777777778,\"#6ece58\"],[0.8888888888888888,\"#b5de2b\"],[1.0,\"#fde725\"]],\"sequentialminus\":[[0.0,\"#440154\"],[0.1111111111111111,\"#482878\"],[0.2222222222222222,\"#3e4989\"],[0.3333333333333333,\"#31688e\"],[0.4444444444444444,\"#26828e\"],[0.5555555555555556,\"#1f9e89\"],[0.6666666666666666,\"#35b779\"],[0.7777777777777778,\"#6ece58\"],[0.8888888888888888,\"#b5de2b\"],[1.0,\"#fde725\"]]},\"colorway\":[\"#1F77B4\",\"#FF7F0E\",\"#2CA02C\",\"#D62728\",\"#9467BD\",\"#8C564B\",\"#E377C2\",\"#7F7F7F\",\"#BCBD22\",\"#17BECF\"],\"font\":{\"color\":\"rgb(36,36,36)\"},\"geo\":{\"bgcolor\":\"white\",\"lakecolor\":\"white\",\"landcolor\":\"white\",\"showlakes\":true,\"showland\":true,\"subunitcolor\":\"white\"},\"hoverlabel\":{\"align\":\"left\"},\"hovermode\":\"closest\",\"mapbox\":{\"style\":\"light\"},\"paper_bgcolor\":\"white\",\"plot_bgcolor\":\"white\",\"polar\":{\"angularaxis\":{\"gridcolor\":\"rgb(232,232,232)\",\"linecolor\":\"rgb(36,36,36)\",\"showgrid\":false,\"showline\":true,\"ticks\":\"outside\"},\"bgcolor\":\"white\",\"radialaxis\":{\"gridcolor\":\"rgb(232,232,232)\",\"linecolor\":\"rgb(36,36,36)\",\"showgrid\":false,\"showline\":true,\"ticks\":\"outside\"}},\"scene\":{\"xaxis\":{\"backgroundcolor\":\"white\",\"gridcolor\":\"rgb(232,232,232)\",\"gridwidth\":2,\"linecolor\":\"rgb(36,36,36)\",\"showbackground\":true,\"showgrid\":false,\"showline\":true,\"ticks\":\"outside\",\"zeroline\":false,\"zerolinecolor\":\"rgb(36,36,36)\"},\"yaxis\":{\"backgroundcolor\":\"white\",\"gridcolor\":\"rgb(232,232,232)\",\"gridwidth\":2,\"linecolor\":\"rgb(36,36,36)\",\"showbackground\":true,\"showgrid\":false,\"showline\":true,\"ticks\":\"outside\",\"zeroline\":false,\"zerolinecolor\":\"rgb(36,36,36)\"},\"zaxis\":{\"backgroundcolor\":\"white\",\"gridcolor\":\"rgb(232,232,232)\",\"gridwidth\":2,\"linecolor\":\"rgb(36,36,36)\",\"showbackground\":true,\"showgrid\":false,\"showline\":true,\"ticks\":\"outside\",\"zeroline\":false,\"zerolinecolor\":\"rgb(36,36,36)\"}},\"shapedefaults\":{\"fillcolor\":\"black\",\"line\":{\"width\":0},\"opacity\":0.3},\"ternary\":{\"aaxis\":{\"gridcolor\":\"rgb(232,232,232)\",\"linecolor\":\"rgb(36,36,36)\",\"showgrid\":false,\"showline\":true,\"ticks\":\"outside\"},\"baxis\":{\"gridcolor\":\"rgb(232,232,232)\",\"linecolor\":\"rgb(36,36,36)\",\"showgrid\":false,\"showline\":true,\"ticks\":\"outside\"},\"bgcolor\":\"white\",\"caxis\":{\"gridcolor\":\"rgb(232,232,232)\",\"linecolor\":\"rgb(36,36,36)\",\"showgrid\":false,\"showline\":true,\"ticks\":\"outside\"}},\"title\":{\"x\":0.5,\"xanchor\":\"center\"},\"xaxis\":{\"automargin\":true,\"gridcolor\":\"rgb(232,232,232)\",\"linecolor\":\"rgb(36,36,36)\",\"showgrid\":true,\"showline\":true,\"ticks\":\"outside\",\"title\":{\"standoff\":15},\"zeroline\":false,\"zerolinecolor\":\"rgb(36,36,36)\"},\"yaxis\":{\"automargin\":true,\"gridcolor\":\"rgb(232,232,232)\",\"linecolor\":\"rgb(36,36,36)\",\"showgrid\":true,\"showline\":true,\"ticks\":\"outside\",\"title\":{\"standoff\":15},\"zeroline\":false,\"zerolinecolor\":\"rgb(36,36,36)\"},\"autosize\":true,\"height\":400,\"margin\":{\"b\":30,\"l\":30,\"r\":30,\"t\":30},\"width\":600}},\"xaxis\":{\"anchor\":\"y\",\"domain\":[0.0,1.0],\"title\":{\"text\":\"viwinrate\"}},\"yaxis\":{\"anchor\":\"x\",\"domain\":[0.0,1.0],\"title\":{\"text\":\"count\"}},\"legend\":{\"tracegroupgap\":0},\"barmode\":\"relative\"},                        {\"responsive\": true}                    ).then(function(){\n",
       "                            \n",
       "var gd = document.getElementById('e9c9d0a3-5e82-4e52-9c39-beec7b777572');\n",
       "var x = new MutationObserver(function (mutations, observer) {{\n",
       "        var display = window.getComputedStyle(gd).display;\n",
       "        if (!display || display === 'none') {{\n",
       "            console.log([gd, 'removed!']);\n",
       "            Plotly.purge(gd);\n",
       "            observer.disconnect();\n",
       "        }}\n",
       "}});\n",
       "\n",
       "// Listen for the removal of the full notebook cells\n",
       "var notebookContainer = gd.closest('#notebook-container');\n",
       "if (notebookContainer) {{\n",
       "    x.observe(notebookContainer, {childList: true});\n",
       "}}\n",
       "\n",
       "// Listen for the clearing of the current output cell\n",
       "var outputEl = gd.closest('.output');\n",
       "if (outputEl) {{\n",
       "    x.observe(outputEl, {childList: true});\n",
       "}}\n",
       "\n",
       "                        })                };                });            </script>        </div>"
      ]
     },
     "metadata": {},
     "output_type": "display_data"
    }
   ],
   "source": [
    "def hasVi(row):\n",
    "    return any(row[['pick1', 'pick2', 'pick3', 'pick4', 'pick5']] == 'Vi')\n",
    "\n",
    "filtered_viwins = filtered_viwins[filtered_viwins.apply(hasVi, axis=1)]\n",
    "team_vi_games = filtered_viwins.groupby('teamname').size()\n",
    "team_vi_wins = filtered_viwins[filtered_viwins['result'] == 1].groupby('teamname').size()\n",
    "\n",
    "viwinrate = (team_vi_wins / team_vi_games).reset_index().rename(columns={0 : \"viwinrate\"})\n",
    "fig = px.histogram(viwinrate, x=\"viwinrate\",nbins=15, color_discrete_sequence=[\"#870146\"])\n",
    "fig.show()"
   ]
  },
  {
   "cell_type": "code",
   "execution_count": 59,
   "metadata": {},
   "outputs": [
    {
     "data": {
      "application/vnd.plotly.v1+json": {
       "config": {
        "plotlyServerURL": "https://plot.ly"
       },
       "data": [
        {
         "alignmentgroup": "True",
         "hovertemplate": "category=%{x}<br>winrate=%{y}<extra></extra>",
         "legendgroup": "Jinx",
         "marker": {
          "color": "#324AB2"
         },
         "name": "Jinx",
         "notched": false,
         "offsetgroup": "Jinx",
         "orientation": "v",
         "showlegend": true,
         "type": "box",
         "x": [
          "Jinx",
          "Jinx",
          "Jinx",
          "Jinx",
          "Jinx",
          "Jinx",
          "Jinx",
          "Jinx",
          "Jinx",
          "Jinx",
          "Jinx",
          "Jinx",
          "Jinx",
          "Jinx",
          "Jinx",
          "Jinx",
          "Jinx",
          "Jinx",
          "Jinx",
          "Jinx",
          "Jinx",
          "Jinx",
          "Jinx",
          "Jinx",
          "Jinx",
          "Jinx",
          "Jinx",
          "Jinx",
          "Jinx",
          "Jinx",
          "Jinx",
          "Jinx",
          "Jinx",
          "Jinx",
          "Jinx",
          "Jinx",
          "Jinx",
          "Jinx",
          "Jinx",
          "Jinx",
          "Jinx",
          "Jinx",
          "Jinx",
          "Jinx",
          "Jinx",
          "Jinx",
          "Jinx",
          "Jinx",
          "Jinx",
          "Jinx",
          "Jinx",
          "Jinx",
          "Jinx",
          "Jinx",
          "Jinx",
          "Jinx",
          "Jinx",
          "Jinx",
          "Jinx",
          "Jinx",
          "Jinx",
          "Jinx",
          "Jinx",
          "Jinx",
          "Jinx",
          "Jinx",
          "Jinx",
          "Jinx",
          "Jinx",
          "Jinx",
          "Jinx",
          "Jinx",
          "Jinx",
          "Jinx",
          "Jinx",
          "Jinx",
          "Jinx",
          "Jinx",
          "Jinx",
          "Jinx",
          "Jinx",
          "Jinx",
          "Jinx",
          "Jinx",
          "Jinx",
          "Jinx",
          "Jinx",
          "Jinx",
          "Jinx",
          "Jinx",
          "Jinx",
          "Jinx",
          "Jinx",
          "Jinx",
          "Jinx",
          "Jinx",
          "Jinx",
          "Jinx",
          "Jinx",
          "Jinx",
          "Jinx",
          "Jinx",
          "Jinx",
          "Jinx",
          "Jinx",
          "Jinx",
          "Jinx",
          "Jinx",
          "Jinx",
          "Jinx",
          "Jinx",
          "Jinx",
          "Jinx",
          "Jinx",
          "Jinx",
          "Jinx",
          "Jinx",
          "Jinx",
          "Jinx",
          "Jinx",
          "Jinx",
          "Jinx",
          "Jinx",
          "Jinx",
          "Jinx",
          "Jinx",
          "Jinx",
          "Jinx",
          "Jinx",
          "Jinx",
          "Jinx",
          "Jinx",
          "Jinx",
          "Jinx",
          "Jinx",
          "Jinx",
          "Jinx",
          "Jinx",
          "Jinx",
          "Jinx",
          "Jinx",
          "Jinx",
          "Jinx",
          "Jinx",
          "Jinx",
          "Jinx",
          "Jinx",
          "Jinx",
          "Jinx",
          "Jinx",
          "Jinx",
          "Jinx",
          "Jinx",
          "Jinx",
          "Jinx",
          "Jinx",
          "Jinx",
          "Jinx",
          "Jinx",
          "Jinx",
          "Jinx",
          "Jinx",
          "Jinx",
          "Jinx",
          "Jinx",
          "Jinx",
          "Jinx",
          "Jinx",
          "Jinx",
          "Jinx",
          "Jinx",
          "Jinx",
          "Jinx",
          "Jinx",
          "Jinx",
          "Jinx",
          "Jinx",
          "Jinx",
          "Jinx",
          "Jinx",
          "Jinx",
          "Jinx",
          "Jinx",
          "Jinx",
          "Jinx",
          "Jinx",
          "Jinx",
          "Jinx",
          "Jinx",
          "Jinx",
          "Jinx",
          "Jinx",
          "Jinx",
          "Jinx",
          "Jinx",
          "Jinx",
          "Jinx",
          "Jinx",
          "Jinx",
          "Jinx",
          "Jinx",
          "Jinx",
          "Jinx",
          "Jinx",
          "Jinx",
          "Jinx",
          "Jinx",
          "Jinx",
          "Jinx",
          "Jinx",
          "Jinx",
          "Jinx",
          "Jinx",
          "Jinx",
          "Jinx",
          "Jinx",
          "Jinx",
          "Jinx",
          "Jinx",
          "Jinx",
          "Jinx",
          "Jinx",
          "Jinx",
          "Jinx",
          "Jinx",
          "Jinx",
          "Jinx",
          "Jinx",
          "Jinx",
          "Jinx",
          "Jinx",
          "Jinx",
          "Jinx",
          "Jinx",
          "Jinx",
          "Jinx",
          "Jinx",
          "Jinx",
          "Jinx",
          "Jinx",
          "Jinx",
          "Jinx",
          "Jinx",
          "Jinx",
          "Jinx",
          "Jinx",
          "Jinx",
          "Jinx",
          "Jinx",
          "Jinx",
          "Jinx",
          "Jinx",
          "Jinx",
          "Jinx",
          "Jinx",
          "Jinx",
          "Jinx",
          "Jinx",
          "Jinx",
          "Jinx",
          "Jinx",
          "Jinx",
          "Jinx",
          "Jinx",
          "Jinx",
          "Jinx",
          "Jinx",
          "Jinx",
          "Jinx",
          "Jinx",
          "Jinx",
          "Jinx",
          "Jinx",
          "Jinx",
          "Jinx",
          "Jinx",
          "Jinx",
          "Jinx",
          "Jinx",
          "Jinx",
          "Jinx",
          "Jinx",
          "Jinx",
          "Jinx",
          "Jinx",
          "Jinx",
          "Jinx",
          "Jinx",
          "Jinx",
          "Jinx",
          "Jinx",
          "Jinx",
          "Jinx",
          "Jinx",
          "Jinx",
          "Jinx",
          "Jinx",
          "Jinx",
          "Jinx",
          "Jinx",
          "Jinx",
          "Jinx",
          "Jinx",
          "Jinx",
          "Jinx",
          "Jinx",
          "Jinx",
          "Jinx",
          "Jinx",
          "Jinx",
          "Jinx",
          "Jinx",
          "Jinx",
          "Jinx",
          "Jinx",
          "Jinx",
          "Jinx",
          "Jinx",
          "Jinx",
          "Jinx",
          "Jinx",
          "Jinx",
          "Jinx",
          "Jinx",
          "Jinx",
          "Jinx",
          "Jinx",
          "Jinx",
          "Jinx",
          "Jinx",
          "Jinx",
          "Jinx",
          "Jinx",
          "Jinx",
          "Jinx",
          "Jinx",
          "Jinx",
          "Jinx",
          "Jinx",
          "Jinx",
          "Jinx",
          "Jinx",
          "Jinx",
          "Jinx",
          "Jinx",
          "Jinx",
          "Jinx",
          "Jinx",
          "Jinx",
          "Jinx",
          "Jinx",
          "Jinx",
          "Jinx",
          "Jinx",
          "Jinx",
          "Jinx",
          "Jinx",
          "Jinx",
          "Jinx",
          "Jinx",
          "Jinx",
          "Jinx",
          "Jinx",
          "Jinx",
          "Jinx",
          "Jinx",
          "Jinx",
          "Jinx",
          "Jinx",
          "Jinx",
          "Jinx",
          "Jinx",
          "Jinx",
          "Jinx",
          "Jinx",
          "Jinx",
          "Jinx"
         ],
         "x0": " ",
         "xaxis": "x",
         "y": [
          0.7777777777777778,
          0.5,
          null,
          0.6666666666666666,
          0.6,
          0.5,
          null,
          1,
          null,
          0.2727272727272727,
          0.42857142857142855,
          0.3333333333333333,
          null,
          0.25,
          null,
          0.2857142857142857,
          0.47368421052631576,
          0.4,
          0.7142857142857143,
          null,
          0.16666666666666666,
          0.2857142857142857,
          0.75,
          0.4166666666666667,
          0.5,
          0.2,
          0.4,
          null,
          0.5555555555555556,
          0.2,
          0.45454545454545453,
          0.42857142857142855,
          0.3333333333333333,
          0.6666666666666666,
          0.4,
          0.6,
          0.8571428571428571,
          0.6,
          0.2,
          0.7692307692307693,
          0.5714285714285714,
          0.782608695652174,
          null,
          1,
          0.25,
          0.6666666666666666,
          0.5,
          0.625,
          0.42857142857142855,
          0.6842105263157895,
          0.375,
          0.7692307692307693,
          null,
          1,
          null,
          0.6363636363636364,
          0.6666666666666666,
          0.42857142857142855,
          0.38461538461538464,
          0.5555555555555556,
          null,
          0.375,
          0.5454545454545454,
          0.3333333333333333,
          0.5,
          0.5,
          0.5,
          0.125,
          0.5882352941176471,
          0.5714285714285714,
          1,
          0.6,
          0.8,
          0.25,
          0.5833333333333334,
          0.2857142857142857,
          0.6,
          0.8571428571428571,
          null,
          0.5555555555555556,
          0.5,
          0.3333333333333333,
          0.6666666666666666,
          0.5454545454545454,
          0.6875,
          0.6153846153846154,
          0.5833333333333334,
          0.6666666666666666,
          null,
          0.6666666666666666,
          0.5416666666666666,
          0.8666666666666667,
          0.6,
          0.2,
          0.3333333333333333,
          0.5454545454545454,
          0.7,
          0.6666666666666666,
          0.6666666666666666,
          0.75,
          0.5,
          0.5,
          0.14285714285714285,
          0.8,
          0.625,
          0.6666666666666666,
          1,
          0.3333333333333333,
          0.2857142857142857,
          0.7272727272727273,
          0.5,
          0.5,
          0.8333333333333334,
          0.42857142857142855,
          0.75,
          0.7,
          0.6666666666666666,
          0.16666666666666666,
          0.2,
          0.5714285714285714,
          0.4444444444444444,
          0.6153846153846154,
          0.7777777777777778,
          0.375,
          0.8888888888888888,
          0.7647058823529411,
          0.1111111111111111,
          0.5,
          0.14285714285714285,
          1,
          0.375,
          0.5,
          0.4,
          0.2,
          null,
          0.3333333333333333,
          0.7222222222222222,
          0.3333333333333333,
          0.2,
          0.25,
          0.4,
          0.25,
          null,
          0.42857142857142855,
          0.5555555555555556,
          0.5357142857142857,
          0.45454545454545453,
          0.25,
          0.25,
          0.23529411764705882,
          0.21428571428571427,
          0.75,
          0.2,
          null,
          null,
          0.42857142857142855,
          0.2857142857142857,
          1,
          0.5714285714285714,
          0.25,
          0.3333333333333333,
          0.6,
          0.5,
          0.4166666666666667,
          0.5,
          null,
          0.5,
          0.45454545454545453,
          0.5,
          0.75,
          0.8333333333333334,
          0.375,
          0.9,
          0.6666666666666666,
          1,
          0.8,
          0.7142857142857143,
          0.5,
          0.5,
          0.8571428571428571,
          0.3333333333333333,
          0.3076923076923077,
          0.4,
          0.2,
          0.25,
          0.3333333333333333,
          0.42857142857142855,
          0.2,
          0.6153846153846154,
          0.5,
          0.75,
          0.5,
          0.6363636363636364,
          0.48,
          0.2,
          0.3684210526315789,
          0.4444444444444444,
          0.4,
          1,
          0.6666666666666666,
          0.4444444444444444,
          1,
          0.4444444444444444,
          0.5,
          1,
          0.5,
          0.2,
          0.7,
          0.42857142857142855,
          0.5,
          0.68,
          null,
          0.5,
          0.6,
          0.3333333333333333,
          null,
          0.25,
          0.5,
          0.5,
          0.625,
          0.8,
          0.4,
          0.5714285714285714,
          0.25,
          0.5454545454545454,
          0.3333333333333333,
          0.6666666666666666,
          0.5714285714285714,
          0.5,
          0.7,
          0.4,
          0.45454545454545453,
          0.4,
          0.6666666666666666,
          0.5,
          0.4,
          0.3333333333333333,
          1,
          0.375,
          null,
          0.42857142857142855,
          0.47368421052631576,
          0.45454545454545453,
          0.4,
          1,
          null,
          null,
          0.4444444444444444,
          0.5555555555555556,
          0.4,
          0.5,
          0.5714285714285714,
          0.3076923076923077,
          1,
          0.4,
          0.5,
          null,
          1,
          0.6,
          0.5,
          1,
          0.4074074074074074,
          0.125,
          0.5333333333333333,
          1,
          0.5454545454545454,
          0.2,
          0.08333333333333333,
          0.375,
          0.16666666666666666,
          null,
          0.5714285714285714,
          0.4444444444444444,
          0.5833333333333334,
          0.5454545454545454,
          0.3076923076923077,
          null,
          0.4444444444444444,
          0.4,
          0.3333333333333333,
          0.3333333333333333,
          0.65,
          null,
          0.2,
          1,
          0.4444444444444444,
          0.7857142857142857,
          0.21739130434782608,
          0.8571428571428571,
          0.6,
          0.6,
          0.5,
          0.6,
          0.36363636363636365,
          0.4,
          null,
          0.3333333333333333,
          0.7083333333333334,
          0.5333333333333333,
          0.8571428571428571,
          null,
          0.5909090909090909,
          0.3333333333333333,
          0.2608695652173913,
          0.1111111111111111,
          1,
          0.3333333333333333,
          0.4,
          0.5,
          0.4,
          0.5384615384615384,
          0.45454545454545453,
          null,
          0.36363636363636365,
          0.875,
          0.7894736842105263,
          0.6153846153846154,
          0.7777777777777778,
          0.18181818181818182,
          0.25,
          0.42857142857142855,
          0.25,
          0.5714285714285714,
          null,
          0.5,
          0.25,
          0.5,
          0.5,
          null,
          null,
          0.7777777777777778,
          0.5483870967741935,
          0.47058823529411764,
          0.5714285714285714,
          0.4444444444444444,
          0.7,
          0.35714285714285715,
          null,
          0.3181818181818182,
          0.6666666666666666,
          0.3333333333333333,
          0.6666666666666666,
          null,
          0.6818181818181818,
          0.3333333333333333,
          null,
          0.7777777777777778,
          null,
          null,
          0.625,
          0.6363636363636364,
          0.2222222222222222,
          0.3076923076923077,
          0.5833333333333334,
          0.4,
          0.47058823529411764,
          0.5714285714285714,
          0.4444444444444444,
          null,
          0.5,
          null,
          0.7692307692307693,
          0.5,
          0.6363636363636364,
          0.7777777777777778,
          null,
          0.7142857142857143,
          0.25,
          0.375,
          0.25,
          0.3333333333333333,
          0.2,
          0.25,
          0.5714285714285714,
          0.5714285714285714,
          0.4166666666666667,
          0.75
         ],
         "y0": " ",
         "yaxis": "y"
        },
        {
         "alignmentgroup": "True",
         "hovertemplate": "category=%{x}<br>winrate=%{y}<extra></extra>",
         "legendgroup": "Vi",
         "marker": {
          "color": "#870146"
         },
         "name": "Vi",
         "notched": false,
         "offsetgroup": "Vi",
         "orientation": "v",
         "showlegend": true,
         "type": "box",
         "x": [
          "Vi",
          "Vi",
          "Vi",
          "Vi",
          "Vi",
          "Vi",
          "Vi",
          "Vi",
          "Vi",
          "Vi",
          "Vi",
          "Vi",
          "Vi",
          "Vi",
          "Vi",
          "Vi",
          "Vi",
          "Vi",
          "Vi",
          "Vi",
          "Vi",
          "Vi",
          "Vi",
          "Vi",
          "Vi",
          "Vi",
          "Vi",
          "Vi",
          "Vi",
          "Vi",
          "Vi",
          "Vi",
          "Vi",
          "Vi",
          "Vi",
          "Vi",
          "Vi",
          "Vi",
          "Vi",
          "Vi",
          "Vi",
          "Vi",
          "Vi",
          "Vi",
          "Vi",
          "Vi",
          "Vi",
          "Vi",
          "Vi",
          "Vi",
          "Vi",
          "Vi",
          "Vi",
          "Vi",
          "Vi",
          "Vi",
          "Vi",
          "Vi",
          "Vi",
          "Vi",
          "Vi",
          "Vi",
          "Vi",
          "Vi",
          "Vi",
          "Vi",
          "Vi",
          "Vi",
          "Vi",
          "Vi",
          "Vi",
          "Vi",
          "Vi",
          "Vi",
          "Vi",
          "Vi",
          "Vi",
          "Vi",
          "Vi",
          "Vi",
          "Vi",
          "Vi",
          "Vi",
          "Vi",
          "Vi",
          "Vi",
          "Vi",
          "Vi",
          "Vi",
          "Vi",
          "Vi",
          "Vi",
          "Vi",
          "Vi",
          "Vi",
          "Vi",
          "Vi",
          "Vi",
          "Vi",
          "Vi",
          "Vi",
          "Vi",
          "Vi",
          "Vi",
          "Vi",
          "Vi",
          "Vi",
          "Vi",
          "Vi",
          "Vi",
          "Vi",
          "Vi",
          "Vi",
          "Vi",
          "Vi",
          "Vi",
          "Vi",
          "Vi",
          "Vi",
          "Vi",
          "Vi",
          "Vi",
          "Vi",
          "Vi",
          "Vi",
          "Vi",
          "Vi",
          "Vi",
          "Vi",
          "Vi",
          "Vi",
          "Vi",
          "Vi",
          "Vi",
          "Vi",
          "Vi",
          "Vi",
          "Vi",
          "Vi",
          "Vi",
          "Vi",
          "Vi",
          "Vi",
          "Vi",
          "Vi",
          "Vi",
          "Vi",
          "Vi",
          "Vi",
          "Vi",
          "Vi",
          "Vi",
          "Vi",
          "Vi",
          "Vi",
          "Vi",
          "Vi",
          "Vi",
          "Vi",
          "Vi",
          "Vi",
          "Vi",
          "Vi",
          "Vi",
          "Vi",
          "Vi",
          "Vi",
          "Vi",
          "Vi",
          "Vi",
          "Vi",
          "Vi",
          "Vi",
          "Vi",
          "Vi",
          "Vi",
          "Vi",
          "Vi",
          "Vi",
          "Vi",
          "Vi",
          "Vi",
          "Vi",
          "Vi",
          "Vi",
          "Vi",
          "Vi",
          "Vi",
          "Vi",
          "Vi",
          "Vi",
          "Vi",
          "Vi",
          "Vi",
          "Vi",
          "Vi",
          "Vi"
         ],
         "x0": " ",
         "xaxis": "x",
         "y": [
          0.5,
          1,
          null,
          0.5,
          null,
          null,
          null,
          0.5,
          0.5,
          null,
          0.5,
          null,
          0.75,
          null,
          0.5,
          1,
          null,
          null,
          null,
          1,
          1,
          1,
          null,
          0.2857142857142857,
          0.5,
          null,
          0.8,
          null,
          null,
          null,
          0.5,
          0.5,
          1,
          null,
          null,
          null,
          null,
          null,
          null,
          0.4,
          null,
          0.5714285714285714,
          0.6666666666666666,
          0.5,
          0.5,
          0.25,
          null,
          null,
          0.6,
          null,
          0.6,
          0.6153846153846154,
          null,
          null,
          null,
          0.5,
          1,
          0.5,
          null,
          null,
          0.5,
          1,
          0.8,
          null,
          0.6666666666666666,
          1,
          0.8333333333333334,
          1,
          0.8,
          null,
          0.75,
          null,
          null,
          1,
          0.5,
          1,
          0.5,
          null,
          0.5714285714285714,
          0.25,
          null,
          null,
          null,
          null,
          0.4,
          null,
          1,
          0.5,
          null,
          null,
          null,
          0.25,
          0.5,
          0.5,
          0.3333333333333333,
          0.5,
          0.7,
          0.6666666666666666,
          1,
          null,
          null,
          0.3333333333333333,
          0.5,
          0.5,
          0.3333333333333333,
          null,
          null,
          0.6666666666666666,
          1,
          1,
          0.5,
          0.5,
          null,
          0.3333333333333333,
          null,
          0.6666666666666666,
          0.25,
          0.5,
          null,
          0.5,
          null,
          null,
          1,
          null,
          0.5,
          0.6666666666666666,
          null,
          null,
          0.5,
          0.4,
          null,
          null,
          null,
          0.5,
          null,
          0.5,
          null,
          1,
          0.3333333333333333,
          null,
          null,
          0.16666666666666666,
          null,
          0.75,
          0.2,
          0.5,
          0.25,
          1,
          0.5,
          0.3333333333333333,
          null,
          1,
          0.5,
          0.5,
          1,
          0.5,
          0.5,
          null,
          0.5,
          0.7142857142857143,
          1,
          null,
          0.5,
          0.6666666666666666,
          0.5,
          0.6,
          0.3333333333333333,
          null,
          null,
          0.625,
          0.5,
          0.5,
          0.5,
          1,
          null,
          null,
          0.8,
          null,
          0.3333333333333333,
          1,
          1,
          null,
          null,
          0.5,
          1,
          1,
          1,
          null,
          null,
          null,
          0.5,
          null,
          0.5,
          0.5,
          1,
          0.3,
          1
         ],
         "y0": " ",
         "yaxis": "y"
        }
       ],
       "layout": {
        "boxmode": "overlay",
        "legend": {
         "title": {
          "text": "category"
         },
         "tracegroupgap": 0
        },
        "template": {
         "data": {
          "bar": [
           {
            "error_x": {
             "color": "rgb(36,36,36)"
            },
            "error_y": {
             "color": "rgb(36,36,36)"
            },
            "marker": {
             "line": {
              "color": "white",
              "width": 0.5
             },
             "pattern": {
              "fillmode": "overlay",
              "size": 10,
              "solidity": 0.2
             }
            },
            "type": "bar"
           }
          ],
          "barpolar": [
           {
            "marker": {
             "line": {
              "color": "white",
              "width": 0.5
             },
             "pattern": {
              "fillmode": "overlay",
              "size": 10,
              "solidity": 0.2
             }
            },
            "type": "barpolar"
           }
          ],
          "carpet": [
           {
            "aaxis": {
             "endlinecolor": "rgb(36,36,36)",
             "gridcolor": "white",
             "linecolor": "white",
             "minorgridcolor": "white",
             "startlinecolor": "rgb(36,36,36)"
            },
            "baxis": {
             "endlinecolor": "rgb(36,36,36)",
             "gridcolor": "white",
             "linecolor": "white",
             "minorgridcolor": "white",
             "startlinecolor": "rgb(36,36,36)"
            },
            "type": "carpet"
           }
          ],
          "choropleth": [
           {
            "colorbar": {
             "outlinewidth": 1,
             "tickcolor": "rgb(36,36,36)",
             "ticks": "outside"
            },
            "type": "choropleth"
           }
          ],
          "contour": [
           {
            "colorbar": {
             "outlinewidth": 1,
             "tickcolor": "rgb(36,36,36)",
             "ticks": "outside"
            },
            "colorscale": [
             [
              0,
              "#440154"
             ],
             [
              0.1111111111111111,
              "#482878"
             ],
             [
              0.2222222222222222,
              "#3e4989"
             ],
             [
              0.3333333333333333,
              "#31688e"
             ],
             [
              0.4444444444444444,
              "#26828e"
             ],
             [
              0.5555555555555556,
              "#1f9e89"
             ],
             [
              0.6666666666666666,
              "#35b779"
             ],
             [
              0.7777777777777778,
              "#6ece58"
             ],
             [
              0.8888888888888888,
              "#b5de2b"
             ],
             [
              1,
              "#fde725"
             ]
            ],
            "type": "contour"
           }
          ],
          "contourcarpet": [
           {
            "colorbar": {
             "outlinewidth": 1,
             "tickcolor": "rgb(36,36,36)",
             "ticks": "outside"
            },
            "type": "contourcarpet"
           }
          ],
          "heatmap": [
           {
            "colorbar": {
             "outlinewidth": 1,
             "tickcolor": "rgb(36,36,36)",
             "ticks": "outside"
            },
            "colorscale": [
             [
              0,
              "#440154"
             ],
             [
              0.1111111111111111,
              "#482878"
             ],
             [
              0.2222222222222222,
              "#3e4989"
             ],
             [
              0.3333333333333333,
              "#31688e"
             ],
             [
              0.4444444444444444,
              "#26828e"
             ],
             [
              0.5555555555555556,
              "#1f9e89"
             ],
             [
              0.6666666666666666,
              "#35b779"
             ],
             [
              0.7777777777777778,
              "#6ece58"
             ],
             [
              0.8888888888888888,
              "#b5de2b"
             ],
             [
              1,
              "#fde725"
             ]
            ],
            "type": "heatmap"
           }
          ],
          "heatmapgl": [
           {
            "colorbar": {
             "outlinewidth": 1,
             "tickcolor": "rgb(36,36,36)",
             "ticks": "outside"
            },
            "colorscale": [
             [
              0,
              "#440154"
             ],
             [
              0.1111111111111111,
              "#482878"
             ],
             [
              0.2222222222222222,
              "#3e4989"
             ],
             [
              0.3333333333333333,
              "#31688e"
             ],
             [
              0.4444444444444444,
              "#26828e"
             ],
             [
              0.5555555555555556,
              "#1f9e89"
             ],
             [
              0.6666666666666666,
              "#35b779"
             ],
             [
              0.7777777777777778,
              "#6ece58"
             ],
             [
              0.8888888888888888,
              "#b5de2b"
             ],
             [
              1,
              "#fde725"
             ]
            ],
            "type": "heatmapgl"
           }
          ],
          "histogram": [
           {
            "marker": {
             "line": {
              "color": "white",
              "width": 0.6
             }
            },
            "type": "histogram"
           }
          ],
          "histogram2d": [
           {
            "colorbar": {
             "outlinewidth": 1,
             "tickcolor": "rgb(36,36,36)",
             "ticks": "outside"
            },
            "colorscale": [
             [
              0,
              "#440154"
             ],
             [
              0.1111111111111111,
              "#482878"
             ],
             [
              0.2222222222222222,
              "#3e4989"
             ],
             [
              0.3333333333333333,
              "#31688e"
             ],
             [
              0.4444444444444444,
              "#26828e"
             ],
             [
              0.5555555555555556,
              "#1f9e89"
             ],
             [
              0.6666666666666666,
              "#35b779"
             ],
             [
              0.7777777777777778,
              "#6ece58"
             ],
             [
              0.8888888888888888,
              "#b5de2b"
             ],
             [
              1,
              "#fde725"
             ]
            ],
            "type": "histogram2d"
           }
          ],
          "histogram2dcontour": [
           {
            "colorbar": {
             "outlinewidth": 1,
             "tickcolor": "rgb(36,36,36)",
             "ticks": "outside"
            },
            "colorscale": [
             [
              0,
              "#440154"
             ],
             [
              0.1111111111111111,
              "#482878"
             ],
             [
              0.2222222222222222,
              "#3e4989"
             ],
             [
              0.3333333333333333,
              "#31688e"
             ],
             [
              0.4444444444444444,
              "#26828e"
             ],
             [
              0.5555555555555556,
              "#1f9e89"
             ],
             [
              0.6666666666666666,
              "#35b779"
             ],
             [
              0.7777777777777778,
              "#6ece58"
             ],
             [
              0.8888888888888888,
              "#b5de2b"
             ],
             [
              1,
              "#fde725"
             ]
            ],
            "type": "histogram2dcontour"
           }
          ],
          "mesh3d": [
           {
            "colorbar": {
             "outlinewidth": 1,
             "tickcolor": "rgb(36,36,36)",
             "ticks": "outside"
            },
            "type": "mesh3d"
           }
          ],
          "parcoords": [
           {
            "line": {
             "colorbar": {
              "outlinewidth": 1,
              "tickcolor": "rgb(36,36,36)",
              "ticks": "outside"
             }
            },
            "type": "parcoords"
           }
          ],
          "pie": [
           {
            "automargin": true,
            "type": "pie"
           }
          ],
          "scatter": [
           {
            "fillpattern": {
             "fillmode": "overlay",
             "size": 10,
             "solidity": 0.2
            },
            "type": "scatter"
           }
          ],
          "scatter3d": [
           {
            "line": {
             "colorbar": {
              "outlinewidth": 1,
              "tickcolor": "rgb(36,36,36)",
              "ticks": "outside"
             }
            },
            "marker": {
             "colorbar": {
              "outlinewidth": 1,
              "tickcolor": "rgb(36,36,36)",
              "ticks": "outside"
             }
            },
            "type": "scatter3d"
           }
          ],
          "scattercarpet": [
           {
            "marker": {
             "colorbar": {
              "outlinewidth": 1,
              "tickcolor": "rgb(36,36,36)",
              "ticks": "outside"
             }
            },
            "type": "scattercarpet"
           }
          ],
          "scattergeo": [
           {
            "marker": {
             "colorbar": {
              "outlinewidth": 1,
              "tickcolor": "rgb(36,36,36)",
              "ticks": "outside"
             }
            },
            "type": "scattergeo"
           }
          ],
          "scattergl": [
           {
            "marker": {
             "colorbar": {
              "outlinewidth": 1,
              "tickcolor": "rgb(36,36,36)",
              "ticks": "outside"
             }
            },
            "type": "scattergl"
           }
          ],
          "scattermapbox": [
           {
            "marker": {
             "colorbar": {
              "outlinewidth": 1,
              "tickcolor": "rgb(36,36,36)",
              "ticks": "outside"
             }
            },
            "type": "scattermapbox"
           }
          ],
          "scatterpolar": [
           {
            "marker": {
             "colorbar": {
              "outlinewidth": 1,
              "tickcolor": "rgb(36,36,36)",
              "ticks": "outside"
             }
            },
            "type": "scatterpolar"
           }
          ],
          "scatterpolargl": [
           {
            "marker": {
             "colorbar": {
              "outlinewidth": 1,
              "tickcolor": "rgb(36,36,36)",
              "ticks": "outside"
             }
            },
            "type": "scatterpolargl"
           }
          ],
          "scatterternary": [
           {
            "marker": {
             "colorbar": {
              "outlinewidth": 1,
              "tickcolor": "rgb(36,36,36)",
              "ticks": "outside"
             }
            },
            "type": "scatterternary"
           }
          ],
          "surface": [
           {
            "colorbar": {
             "outlinewidth": 1,
             "tickcolor": "rgb(36,36,36)",
             "ticks": "outside"
            },
            "colorscale": [
             [
              0,
              "#440154"
             ],
             [
              0.1111111111111111,
              "#482878"
             ],
             [
              0.2222222222222222,
              "#3e4989"
             ],
             [
              0.3333333333333333,
              "#31688e"
             ],
             [
              0.4444444444444444,
              "#26828e"
             ],
             [
              0.5555555555555556,
              "#1f9e89"
             ],
             [
              0.6666666666666666,
              "#35b779"
             ],
             [
              0.7777777777777778,
              "#6ece58"
             ],
             [
              0.8888888888888888,
              "#b5de2b"
             ],
             [
              1,
              "#fde725"
             ]
            ],
            "type": "surface"
           }
          ],
          "table": [
           {
            "cells": {
             "fill": {
              "color": "rgb(237,237,237)"
             },
             "line": {
              "color": "white"
             }
            },
            "header": {
             "fill": {
              "color": "rgb(217,217,217)"
             },
             "line": {
              "color": "white"
             }
            },
            "type": "table"
           }
          ]
         },
         "layout": {
          "annotationdefaults": {
           "arrowhead": 0,
           "arrowwidth": 1
          },
          "autosize": true,
          "autotypenumbers": "strict",
          "coloraxis": {
           "colorbar": {
            "outlinewidth": 1,
            "tickcolor": "rgb(36,36,36)",
            "ticks": "outside"
           }
          },
          "colorscale": {
           "diverging": [
            [
             0,
             "rgb(103,0,31)"
            ],
            [
             0.1,
             "rgb(178,24,43)"
            ],
            [
             0.2,
             "rgb(214,96,77)"
            ],
            [
             0.3,
             "rgb(244,165,130)"
            ],
            [
             0.4,
             "rgb(253,219,199)"
            ],
            [
             0.5,
             "rgb(247,247,247)"
            ],
            [
             0.6,
             "rgb(209,229,240)"
            ],
            [
             0.7,
             "rgb(146,197,222)"
            ],
            [
             0.8,
             "rgb(67,147,195)"
            ],
            [
             0.9,
             "rgb(33,102,172)"
            ],
            [
             1,
             "rgb(5,48,97)"
            ]
           ],
           "sequential": [
            [
             0,
             "#440154"
            ],
            [
             0.1111111111111111,
             "#482878"
            ],
            [
             0.2222222222222222,
             "#3e4989"
            ],
            [
             0.3333333333333333,
             "#31688e"
            ],
            [
             0.4444444444444444,
             "#26828e"
            ],
            [
             0.5555555555555556,
             "#1f9e89"
            ],
            [
             0.6666666666666666,
             "#35b779"
            ],
            [
             0.7777777777777778,
             "#6ece58"
            ],
            [
             0.8888888888888888,
             "#b5de2b"
            ],
            [
             1,
             "#fde725"
            ]
           ],
           "sequentialminus": [
            [
             0,
             "#440154"
            ],
            [
             0.1111111111111111,
             "#482878"
            ],
            [
             0.2222222222222222,
             "#3e4989"
            ],
            [
             0.3333333333333333,
             "#31688e"
            ],
            [
             0.4444444444444444,
             "#26828e"
            ],
            [
             0.5555555555555556,
             "#1f9e89"
            ],
            [
             0.6666666666666666,
             "#35b779"
            ],
            [
             0.7777777777777778,
             "#6ece58"
            ],
            [
             0.8888888888888888,
             "#b5de2b"
            ],
            [
             1,
             "#fde725"
            ]
           ]
          },
          "colorway": [
           "#1F77B4",
           "#FF7F0E",
           "#2CA02C",
           "#D62728",
           "#9467BD",
           "#8C564B",
           "#E377C2",
           "#7F7F7F",
           "#BCBD22",
           "#17BECF"
          ],
          "font": {
           "color": "rgb(36,36,36)"
          },
          "geo": {
           "bgcolor": "white",
           "lakecolor": "white",
           "landcolor": "white",
           "showlakes": true,
           "showland": true,
           "subunitcolor": "white"
          },
          "height": 400,
          "hoverlabel": {
           "align": "left"
          },
          "hovermode": "closest",
          "mapbox": {
           "style": "light"
          },
          "margin": {
           "b": 30,
           "l": 30,
           "r": 30,
           "t": 30
          },
          "paper_bgcolor": "white",
          "plot_bgcolor": "white",
          "polar": {
           "angularaxis": {
            "gridcolor": "rgb(232,232,232)",
            "linecolor": "rgb(36,36,36)",
            "showgrid": false,
            "showline": true,
            "ticks": "outside"
           },
           "bgcolor": "white",
           "radialaxis": {
            "gridcolor": "rgb(232,232,232)",
            "linecolor": "rgb(36,36,36)",
            "showgrid": false,
            "showline": true,
            "ticks": "outside"
           }
          },
          "scene": {
           "xaxis": {
            "backgroundcolor": "white",
            "gridcolor": "rgb(232,232,232)",
            "gridwidth": 2,
            "linecolor": "rgb(36,36,36)",
            "showbackground": true,
            "showgrid": false,
            "showline": true,
            "ticks": "outside",
            "zeroline": false,
            "zerolinecolor": "rgb(36,36,36)"
           },
           "yaxis": {
            "backgroundcolor": "white",
            "gridcolor": "rgb(232,232,232)",
            "gridwidth": 2,
            "linecolor": "rgb(36,36,36)",
            "showbackground": true,
            "showgrid": false,
            "showline": true,
            "ticks": "outside",
            "zeroline": false,
            "zerolinecolor": "rgb(36,36,36)"
           },
           "zaxis": {
            "backgroundcolor": "white",
            "gridcolor": "rgb(232,232,232)",
            "gridwidth": 2,
            "linecolor": "rgb(36,36,36)",
            "showbackground": true,
            "showgrid": false,
            "showline": true,
            "ticks": "outside",
            "zeroline": false,
            "zerolinecolor": "rgb(36,36,36)"
           }
          },
          "shapedefaults": {
           "fillcolor": "black",
           "line": {
            "width": 0
           },
           "opacity": 0.3
          },
          "ternary": {
           "aaxis": {
            "gridcolor": "rgb(232,232,232)",
            "linecolor": "rgb(36,36,36)",
            "showgrid": false,
            "showline": true,
            "ticks": "outside"
           },
           "baxis": {
            "gridcolor": "rgb(232,232,232)",
            "linecolor": "rgb(36,36,36)",
            "showgrid": false,
            "showline": true,
            "ticks": "outside"
           },
           "bgcolor": "white",
           "caxis": {
            "gridcolor": "rgb(232,232,232)",
            "linecolor": "rgb(36,36,36)",
            "showgrid": false,
            "showline": true,
            "ticks": "outside"
           }
          },
          "title": {
           "x": 0.5,
           "xanchor": "center"
          },
          "width": 600,
          "xaxis": {
           "automargin": true,
           "gridcolor": "rgb(232,232,232)",
           "linecolor": "rgb(36,36,36)",
           "showgrid": true,
           "showline": true,
           "ticks": "outside",
           "title": {
            "standoff": 15
           },
           "zeroline": false,
           "zerolinecolor": "rgb(36,36,36)"
          },
          "yaxis": {
           "automargin": true,
           "gridcolor": "rgb(232,232,232)",
           "linecolor": "rgb(36,36,36)",
           "showgrid": true,
           "showline": true,
           "ticks": "outside",
           "title": {
            "standoff": 15
           },
           "zeroline": false,
           "zerolinecolor": "rgb(36,36,36)"
          }
         }
        },
        "xaxis": {
         "anchor": "y",
         "categoryarray": [
          "Jinx",
          "Vi"
         ],
         "categoryorder": "array",
         "domain": [
          0,
          1
         ],
         "title": {
          "text": "category"
         }
        },
        "yaxis": {
         "anchor": "x",
         "domain": [
          0,
          1
         ],
         "title": {
          "text": "winrate"
         }
        }
       }
      },
      "text/html": [
       "<div>                            <div id=\"7bbc09a0-63f0-4cb3-8fca-866e53521f11\" class=\"plotly-graph-div\" style=\"height:400px; width:600px;\"></div>            <script type=\"text/javascript\">                require([\"plotly\"], function(Plotly) {                    window.PLOTLYENV=window.PLOTLYENV || {};                                    if (document.getElementById(\"7bbc09a0-63f0-4cb3-8fca-866e53521f11\")) {                    Plotly.newPlot(                        \"7bbc09a0-63f0-4cb3-8fca-866e53521f11\",                        [{\"alignmentgroup\":\"True\",\"hovertemplate\":\"category=%{x}\\u003cbr\\u003ewinrate=%{y}\\u003cextra\\u003e\\u003c\\u002fextra\\u003e\",\"legendgroup\":\"Jinx\",\"marker\":{\"color\":\"#324AB2\"},\"name\":\"Jinx\",\"notched\":false,\"offsetgroup\":\"Jinx\",\"orientation\":\"v\",\"showlegend\":true,\"x\":[\"Jinx\",\"Jinx\",\"Jinx\",\"Jinx\",\"Jinx\",\"Jinx\",\"Jinx\",\"Jinx\",\"Jinx\",\"Jinx\",\"Jinx\",\"Jinx\",\"Jinx\",\"Jinx\",\"Jinx\",\"Jinx\",\"Jinx\",\"Jinx\",\"Jinx\",\"Jinx\",\"Jinx\",\"Jinx\",\"Jinx\",\"Jinx\",\"Jinx\",\"Jinx\",\"Jinx\",\"Jinx\",\"Jinx\",\"Jinx\",\"Jinx\",\"Jinx\",\"Jinx\",\"Jinx\",\"Jinx\",\"Jinx\",\"Jinx\",\"Jinx\",\"Jinx\",\"Jinx\",\"Jinx\",\"Jinx\",\"Jinx\",\"Jinx\",\"Jinx\",\"Jinx\",\"Jinx\",\"Jinx\",\"Jinx\",\"Jinx\",\"Jinx\",\"Jinx\",\"Jinx\",\"Jinx\",\"Jinx\",\"Jinx\",\"Jinx\",\"Jinx\",\"Jinx\",\"Jinx\",\"Jinx\",\"Jinx\",\"Jinx\",\"Jinx\",\"Jinx\",\"Jinx\",\"Jinx\",\"Jinx\",\"Jinx\",\"Jinx\",\"Jinx\",\"Jinx\",\"Jinx\",\"Jinx\",\"Jinx\",\"Jinx\",\"Jinx\",\"Jinx\",\"Jinx\",\"Jinx\",\"Jinx\",\"Jinx\",\"Jinx\",\"Jinx\",\"Jinx\",\"Jinx\",\"Jinx\",\"Jinx\",\"Jinx\",\"Jinx\",\"Jinx\",\"Jinx\",\"Jinx\",\"Jinx\",\"Jinx\",\"Jinx\",\"Jinx\",\"Jinx\",\"Jinx\",\"Jinx\",\"Jinx\",\"Jinx\",\"Jinx\",\"Jinx\",\"Jinx\",\"Jinx\",\"Jinx\",\"Jinx\",\"Jinx\",\"Jinx\",\"Jinx\",\"Jinx\",\"Jinx\",\"Jinx\",\"Jinx\",\"Jinx\",\"Jinx\",\"Jinx\",\"Jinx\",\"Jinx\",\"Jinx\",\"Jinx\",\"Jinx\",\"Jinx\",\"Jinx\",\"Jinx\",\"Jinx\",\"Jinx\",\"Jinx\",\"Jinx\",\"Jinx\",\"Jinx\",\"Jinx\",\"Jinx\",\"Jinx\",\"Jinx\",\"Jinx\",\"Jinx\",\"Jinx\",\"Jinx\",\"Jinx\",\"Jinx\",\"Jinx\",\"Jinx\",\"Jinx\",\"Jinx\",\"Jinx\",\"Jinx\",\"Jinx\",\"Jinx\",\"Jinx\",\"Jinx\",\"Jinx\",\"Jinx\",\"Jinx\",\"Jinx\",\"Jinx\",\"Jinx\",\"Jinx\",\"Jinx\",\"Jinx\",\"Jinx\",\"Jinx\",\"Jinx\",\"Jinx\",\"Jinx\",\"Jinx\",\"Jinx\",\"Jinx\",\"Jinx\",\"Jinx\",\"Jinx\",\"Jinx\",\"Jinx\",\"Jinx\",\"Jinx\",\"Jinx\",\"Jinx\",\"Jinx\",\"Jinx\",\"Jinx\",\"Jinx\",\"Jinx\",\"Jinx\",\"Jinx\",\"Jinx\",\"Jinx\",\"Jinx\",\"Jinx\",\"Jinx\",\"Jinx\",\"Jinx\",\"Jinx\",\"Jinx\",\"Jinx\",\"Jinx\",\"Jinx\",\"Jinx\",\"Jinx\",\"Jinx\",\"Jinx\",\"Jinx\",\"Jinx\",\"Jinx\",\"Jinx\",\"Jinx\",\"Jinx\",\"Jinx\",\"Jinx\",\"Jinx\",\"Jinx\",\"Jinx\",\"Jinx\",\"Jinx\",\"Jinx\",\"Jinx\",\"Jinx\",\"Jinx\",\"Jinx\",\"Jinx\",\"Jinx\",\"Jinx\",\"Jinx\",\"Jinx\",\"Jinx\",\"Jinx\",\"Jinx\",\"Jinx\",\"Jinx\",\"Jinx\",\"Jinx\",\"Jinx\",\"Jinx\",\"Jinx\",\"Jinx\",\"Jinx\",\"Jinx\",\"Jinx\",\"Jinx\",\"Jinx\",\"Jinx\",\"Jinx\",\"Jinx\",\"Jinx\",\"Jinx\",\"Jinx\",\"Jinx\",\"Jinx\",\"Jinx\",\"Jinx\",\"Jinx\",\"Jinx\",\"Jinx\",\"Jinx\",\"Jinx\",\"Jinx\",\"Jinx\",\"Jinx\",\"Jinx\",\"Jinx\",\"Jinx\",\"Jinx\",\"Jinx\",\"Jinx\",\"Jinx\",\"Jinx\",\"Jinx\",\"Jinx\",\"Jinx\",\"Jinx\",\"Jinx\",\"Jinx\",\"Jinx\",\"Jinx\",\"Jinx\",\"Jinx\",\"Jinx\",\"Jinx\",\"Jinx\",\"Jinx\",\"Jinx\",\"Jinx\",\"Jinx\",\"Jinx\",\"Jinx\",\"Jinx\",\"Jinx\",\"Jinx\",\"Jinx\",\"Jinx\",\"Jinx\",\"Jinx\",\"Jinx\",\"Jinx\",\"Jinx\",\"Jinx\",\"Jinx\",\"Jinx\",\"Jinx\",\"Jinx\",\"Jinx\",\"Jinx\",\"Jinx\",\"Jinx\",\"Jinx\",\"Jinx\",\"Jinx\",\"Jinx\",\"Jinx\",\"Jinx\",\"Jinx\",\"Jinx\",\"Jinx\",\"Jinx\",\"Jinx\",\"Jinx\",\"Jinx\",\"Jinx\",\"Jinx\",\"Jinx\",\"Jinx\",\"Jinx\",\"Jinx\",\"Jinx\",\"Jinx\",\"Jinx\",\"Jinx\",\"Jinx\",\"Jinx\",\"Jinx\",\"Jinx\",\"Jinx\",\"Jinx\",\"Jinx\",\"Jinx\",\"Jinx\",\"Jinx\",\"Jinx\",\"Jinx\",\"Jinx\",\"Jinx\",\"Jinx\",\"Jinx\",\"Jinx\",\"Jinx\",\"Jinx\",\"Jinx\",\"Jinx\",\"Jinx\",\"Jinx\",\"Jinx\",\"Jinx\",\"Jinx\",\"Jinx\",\"Jinx\",\"Jinx\",\"Jinx\",\"Jinx\",\"Jinx\",\"Jinx\",\"Jinx\",\"Jinx\",\"Jinx\",\"Jinx\",\"Jinx\",\"Jinx\",\"Jinx\",\"Jinx\",\"Jinx\",\"Jinx\",\"Jinx\",\"Jinx\",\"Jinx\",\"Jinx\",\"Jinx\",\"Jinx\",\"Jinx\"],\"x0\":\" \",\"xaxis\":\"x\",\"y\":[0.7777777777777778,0.5,null,0.6666666666666666,0.6,0.5,null,1.0,null,0.2727272727272727,0.42857142857142855,0.3333333333333333,null,0.25,null,0.2857142857142857,0.47368421052631576,0.4,0.7142857142857143,null,0.16666666666666666,0.2857142857142857,0.75,0.4166666666666667,0.5,0.2,0.4,null,0.5555555555555556,0.2,0.45454545454545453,0.42857142857142855,0.3333333333333333,0.6666666666666666,0.4,0.6,0.8571428571428571,0.6,0.2,0.7692307692307693,0.5714285714285714,0.782608695652174,null,1.0,0.25,0.6666666666666666,0.5,0.625,0.42857142857142855,0.6842105263157895,0.375,0.7692307692307693,null,1.0,null,0.6363636363636364,0.6666666666666666,0.42857142857142855,0.38461538461538464,0.5555555555555556,null,0.375,0.5454545454545454,0.3333333333333333,0.5,0.5,0.5,0.125,0.5882352941176471,0.5714285714285714,1.0,0.6,0.8,0.25,0.5833333333333334,0.2857142857142857,0.6,0.8571428571428571,null,0.5555555555555556,0.5,0.3333333333333333,0.6666666666666666,0.5454545454545454,0.6875,0.6153846153846154,0.5833333333333334,0.6666666666666666,null,0.6666666666666666,0.5416666666666666,0.8666666666666667,0.6,0.2,0.3333333333333333,0.5454545454545454,0.7,0.6666666666666666,0.6666666666666666,0.75,0.5,0.5,0.14285714285714285,0.8,0.625,0.6666666666666666,1.0,0.3333333333333333,0.2857142857142857,0.7272727272727273,0.5,0.5,0.8333333333333334,0.42857142857142855,0.75,0.7,0.6666666666666666,0.16666666666666666,0.2,0.5714285714285714,0.4444444444444444,0.6153846153846154,0.7777777777777778,0.375,0.8888888888888888,0.7647058823529411,0.1111111111111111,0.5,0.14285714285714285,1.0,0.375,0.5,0.4,0.2,null,0.3333333333333333,0.7222222222222222,0.3333333333333333,0.2,0.25,0.4,0.25,null,0.42857142857142855,0.5555555555555556,0.5357142857142857,0.45454545454545453,0.25,0.25,0.23529411764705882,0.21428571428571427,0.75,0.2,null,null,0.42857142857142855,0.2857142857142857,1.0,0.5714285714285714,0.25,0.3333333333333333,0.6,0.5,0.4166666666666667,0.5,null,0.5,0.45454545454545453,0.5,0.75,0.8333333333333334,0.375,0.9,0.6666666666666666,1.0,0.8,0.7142857142857143,0.5,0.5,0.8571428571428571,0.3333333333333333,0.3076923076923077,0.4,0.2,0.25,0.3333333333333333,0.42857142857142855,0.2,0.6153846153846154,0.5,0.75,0.5,0.6363636363636364,0.48,0.2,0.3684210526315789,0.4444444444444444,0.4,1.0,0.6666666666666666,0.4444444444444444,1.0,0.4444444444444444,0.5,1.0,0.5,0.2,0.7,0.42857142857142855,0.5,0.68,null,0.5,0.6,0.3333333333333333,null,0.25,0.5,0.5,0.625,0.8,0.4,0.5714285714285714,0.25,0.5454545454545454,0.3333333333333333,0.6666666666666666,0.5714285714285714,0.5,0.7,0.4,0.45454545454545453,0.4,0.6666666666666666,0.5,0.4,0.3333333333333333,1.0,0.375,null,0.42857142857142855,0.47368421052631576,0.45454545454545453,0.4,1.0,null,null,0.4444444444444444,0.5555555555555556,0.4,0.5,0.5714285714285714,0.3076923076923077,1.0,0.4,0.5,null,1.0,0.6,0.5,1.0,0.4074074074074074,0.125,0.5333333333333333,1.0,0.5454545454545454,0.2,0.08333333333333333,0.375,0.16666666666666666,null,0.5714285714285714,0.4444444444444444,0.5833333333333334,0.5454545454545454,0.3076923076923077,null,0.4444444444444444,0.4,0.3333333333333333,0.3333333333333333,0.65,null,0.2,1.0,0.4444444444444444,0.7857142857142857,0.21739130434782608,0.8571428571428571,0.6,0.6,0.5,0.6,0.36363636363636365,0.4,null,0.3333333333333333,0.7083333333333334,0.5333333333333333,0.8571428571428571,null,0.5909090909090909,0.3333333333333333,0.2608695652173913,0.1111111111111111,1.0,0.3333333333333333,0.4,0.5,0.4,0.5384615384615384,0.45454545454545453,null,0.36363636363636365,0.875,0.7894736842105263,0.6153846153846154,0.7777777777777778,0.18181818181818182,0.25,0.42857142857142855,0.25,0.5714285714285714,null,0.5,0.25,0.5,0.5,null,null,0.7777777777777778,0.5483870967741935,0.47058823529411764,0.5714285714285714,0.4444444444444444,0.7,0.35714285714285715,null,0.3181818181818182,0.6666666666666666,0.3333333333333333,0.6666666666666666,null,0.6818181818181818,0.3333333333333333,null,0.7777777777777778,null,null,0.625,0.6363636363636364,0.2222222222222222,0.3076923076923077,0.5833333333333334,0.4,0.47058823529411764,0.5714285714285714,0.4444444444444444,null,0.5,null,0.7692307692307693,0.5,0.6363636363636364,0.7777777777777778,null,0.7142857142857143,0.25,0.375,0.25,0.3333333333333333,0.2,0.25,0.5714285714285714,0.5714285714285714,0.4166666666666667,0.75],\"y0\":\" \",\"yaxis\":\"y\",\"type\":\"box\"},{\"alignmentgroup\":\"True\",\"hovertemplate\":\"category=%{x}\\u003cbr\\u003ewinrate=%{y}\\u003cextra\\u003e\\u003c\\u002fextra\\u003e\",\"legendgroup\":\"Vi\",\"marker\":{\"color\":\"#870146\"},\"name\":\"Vi\",\"notched\":false,\"offsetgroup\":\"Vi\",\"orientation\":\"v\",\"showlegend\":true,\"x\":[\"Vi\",\"Vi\",\"Vi\",\"Vi\",\"Vi\",\"Vi\",\"Vi\",\"Vi\",\"Vi\",\"Vi\",\"Vi\",\"Vi\",\"Vi\",\"Vi\",\"Vi\",\"Vi\",\"Vi\",\"Vi\",\"Vi\",\"Vi\",\"Vi\",\"Vi\",\"Vi\",\"Vi\",\"Vi\",\"Vi\",\"Vi\",\"Vi\",\"Vi\",\"Vi\",\"Vi\",\"Vi\",\"Vi\",\"Vi\",\"Vi\",\"Vi\",\"Vi\",\"Vi\",\"Vi\",\"Vi\",\"Vi\",\"Vi\",\"Vi\",\"Vi\",\"Vi\",\"Vi\",\"Vi\",\"Vi\",\"Vi\",\"Vi\",\"Vi\",\"Vi\",\"Vi\",\"Vi\",\"Vi\",\"Vi\",\"Vi\",\"Vi\",\"Vi\",\"Vi\",\"Vi\",\"Vi\",\"Vi\",\"Vi\",\"Vi\",\"Vi\",\"Vi\",\"Vi\",\"Vi\",\"Vi\",\"Vi\",\"Vi\",\"Vi\",\"Vi\",\"Vi\",\"Vi\",\"Vi\",\"Vi\",\"Vi\",\"Vi\",\"Vi\",\"Vi\",\"Vi\",\"Vi\",\"Vi\",\"Vi\",\"Vi\",\"Vi\",\"Vi\",\"Vi\",\"Vi\",\"Vi\",\"Vi\",\"Vi\",\"Vi\",\"Vi\",\"Vi\",\"Vi\",\"Vi\",\"Vi\",\"Vi\",\"Vi\",\"Vi\",\"Vi\",\"Vi\",\"Vi\",\"Vi\",\"Vi\",\"Vi\",\"Vi\",\"Vi\",\"Vi\",\"Vi\",\"Vi\",\"Vi\",\"Vi\",\"Vi\",\"Vi\",\"Vi\",\"Vi\",\"Vi\",\"Vi\",\"Vi\",\"Vi\",\"Vi\",\"Vi\",\"Vi\",\"Vi\",\"Vi\",\"Vi\",\"Vi\",\"Vi\",\"Vi\",\"Vi\",\"Vi\",\"Vi\",\"Vi\",\"Vi\",\"Vi\",\"Vi\",\"Vi\",\"Vi\",\"Vi\",\"Vi\",\"Vi\",\"Vi\",\"Vi\",\"Vi\",\"Vi\",\"Vi\",\"Vi\",\"Vi\",\"Vi\",\"Vi\",\"Vi\",\"Vi\",\"Vi\",\"Vi\",\"Vi\",\"Vi\",\"Vi\",\"Vi\",\"Vi\",\"Vi\",\"Vi\",\"Vi\",\"Vi\",\"Vi\",\"Vi\",\"Vi\",\"Vi\",\"Vi\",\"Vi\",\"Vi\",\"Vi\",\"Vi\",\"Vi\",\"Vi\",\"Vi\",\"Vi\",\"Vi\",\"Vi\",\"Vi\",\"Vi\",\"Vi\",\"Vi\",\"Vi\",\"Vi\",\"Vi\",\"Vi\",\"Vi\",\"Vi\",\"Vi\",\"Vi\",\"Vi\",\"Vi\",\"Vi\"],\"x0\":\" \",\"xaxis\":\"x\",\"y\":[0.5,1.0,null,0.5,null,null,null,0.5,0.5,null,0.5,null,0.75,null,0.5,1.0,null,null,null,1.0,1.0,1.0,null,0.2857142857142857,0.5,null,0.8,null,null,null,0.5,0.5,1.0,null,null,null,null,null,null,0.4,null,0.5714285714285714,0.6666666666666666,0.5,0.5,0.25,null,null,0.6,null,0.6,0.6153846153846154,null,null,null,0.5,1.0,0.5,null,null,0.5,1.0,0.8,null,0.6666666666666666,1.0,0.8333333333333334,1.0,0.8,null,0.75,null,null,1.0,0.5,1.0,0.5,null,0.5714285714285714,0.25,null,null,null,null,0.4,null,1.0,0.5,null,null,null,0.25,0.5,0.5,0.3333333333333333,0.5,0.7,0.6666666666666666,1.0,null,null,0.3333333333333333,0.5,0.5,0.3333333333333333,null,null,0.6666666666666666,1.0,1.0,0.5,0.5,null,0.3333333333333333,null,0.6666666666666666,0.25,0.5,null,0.5,null,null,1.0,null,0.5,0.6666666666666666,null,null,0.5,0.4,null,null,null,0.5,null,0.5,null,1.0,0.3333333333333333,null,null,0.16666666666666666,null,0.75,0.2,0.5,0.25,1.0,0.5,0.3333333333333333,null,1.0,0.5,0.5,1.0,0.5,0.5,null,0.5,0.7142857142857143,1.0,null,0.5,0.6666666666666666,0.5,0.6,0.3333333333333333,null,null,0.625,0.5,0.5,0.5,1.0,null,null,0.8,null,0.3333333333333333,1.0,1.0,null,null,0.5,1.0,1.0,1.0,null,null,null,0.5,null,0.5,0.5,1.0,0.3,1.0],\"y0\":\" \",\"yaxis\":\"y\",\"type\":\"box\"}],                        {\"template\":{\"data\":{\"barpolar\":[{\"marker\":{\"line\":{\"color\":\"white\",\"width\":0.5},\"pattern\":{\"fillmode\":\"overlay\",\"size\":10,\"solidity\":0.2}},\"type\":\"barpolar\"}],\"bar\":[{\"error_x\":{\"color\":\"rgb(36,36,36)\"},\"error_y\":{\"color\":\"rgb(36,36,36)\"},\"marker\":{\"line\":{\"color\":\"white\",\"width\":0.5},\"pattern\":{\"fillmode\":\"overlay\",\"size\":10,\"solidity\":0.2}},\"type\":\"bar\"}],\"carpet\":[{\"aaxis\":{\"endlinecolor\":\"rgb(36,36,36)\",\"gridcolor\":\"white\",\"linecolor\":\"white\",\"minorgridcolor\":\"white\",\"startlinecolor\":\"rgb(36,36,36)\"},\"baxis\":{\"endlinecolor\":\"rgb(36,36,36)\",\"gridcolor\":\"white\",\"linecolor\":\"white\",\"minorgridcolor\":\"white\",\"startlinecolor\":\"rgb(36,36,36)\"},\"type\":\"carpet\"}],\"choropleth\":[{\"colorbar\":{\"outlinewidth\":1,\"tickcolor\":\"rgb(36,36,36)\",\"ticks\":\"outside\"},\"type\":\"choropleth\"}],\"contourcarpet\":[{\"colorbar\":{\"outlinewidth\":1,\"tickcolor\":\"rgb(36,36,36)\",\"ticks\":\"outside\"},\"type\":\"contourcarpet\"}],\"contour\":[{\"colorbar\":{\"outlinewidth\":1,\"tickcolor\":\"rgb(36,36,36)\",\"ticks\":\"outside\"},\"colorscale\":[[0.0,\"#440154\"],[0.1111111111111111,\"#482878\"],[0.2222222222222222,\"#3e4989\"],[0.3333333333333333,\"#31688e\"],[0.4444444444444444,\"#26828e\"],[0.5555555555555556,\"#1f9e89\"],[0.6666666666666666,\"#35b779\"],[0.7777777777777778,\"#6ece58\"],[0.8888888888888888,\"#b5de2b\"],[1.0,\"#fde725\"]],\"type\":\"contour\"}],\"heatmapgl\":[{\"colorbar\":{\"outlinewidth\":1,\"tickcolor\":\"rgb(36,36,36)\",\"ticks\":\"outside\"},\"colorscale\":[[0.0,\"#440154\"],[0.1111111111111111,\"#482878\"],[0.2222222222222222,\"#3e4989\"],[0.3333333333333333,\"#31688e\"],[0.4444444444444444,\"#26828e\"],[0.5555555555555556,\"#1f9e89\"],[0.6666666666666666,\"#35b779\"],[0.7777777777777778,\"#6ece58\"],[0.8888888888888888,\"#b5de2b\"],[1.0,\"#fde725\"]],\"type\":\"heatmapgl\"}],\"heatmap\":[{\"colorbar\":{\"outlinewidth\":1,\"tickcolor\":\"rgb(36,36,36)\",\"ticks\":\"outside\"},\"colorscale\":[[0.0,\"#440154\"],[0.1111111111111111,\"#482878\"],[0.2222222222222222,\"#3e4989\"],[0.3333333333333333,\"#31688e\"],[0.4444444444444444,\"#26828e\"],[0.5555555555555556,\"#1f9e89\"],[0.6666666666666666,\"#35b779\"],[0.7777777777777778,\"#6ece58\"],[0.8888888888888888,\"#b5de2b\"],[1.0,\"#fde725\"]],\"type\":\"heatmap\"}],\"histogram2dcontour\":[{\"colorbar\":{\"outlinewidth\":1,\"tickcolor\":\"rgb(36,36,36)\",\"ticks\":\"outside\"},\"colorscale\":[[0.0,\"#440154\"],[0.1111111111111111,\"#482878\"],[0.2222222222222222,\"#3e4989\"],[0.3333333333333333,\"#31688e\"],[0.4444444444444444,\"#26828e\"],[0.5555555555555556,\"#1f9e89\"],[0.6666666666666666,\"#35b779\"],[0.7777777777777778,\"#6ece58\"],[0.8888888888888888,\"#b5de2b\"],[1.0,\"#fde725\"]],\"type\":\"histogram2dcontour\"}],\"histogram2d\":[{\"colorbar\":{\"outlinewidth\":1,\"tickcolor\":\"rgb(36,36,36)\",\"ticks\":\"outside\"},\"colorscale\":[[0.0,\"#440154\"],[0.1111111111111111,\"#482878\"],[0.2222222222222222,\"#3e4989\"],[0.3333333333333333,\"#31688e\"],[0.4444444444444444,\"#26828e\"],[0.5555555555555556,\"#1f9e89\"],[0.6666666666666666,\"#35b779\"],[0.7777777777777778,\"#6ece58\"],[0.8888888888888888,\"#b5de2b\"],[1.0,\"#fde725\"]],\"type\":\"histogram2d\"}],\"histogram\":[{\"marker\":{\"line\":{\"color\":\"white\",\"width\":0.6}},\"type\":\"histogram\"}],\"mesh3d\":[{\"colorbar\":{\"outlinewidth\":1,\"tickcolor\":\"rgb(36,36,36)\",\"ticks\":\"outside\"},\"type\":\"mesh3d\"}],\"parcoords\":[{\"line\":{\"colorbar\":{\"outlinewidth\":1,\"tickcolor\":\"rgb(36,36,36)\",\"ticks\":\"outside\"}},\"type\":\"parcoords\"}],\"pie\":[{\"automargin\":true,\"type\":\"pie\"}],\"scatter3d\":[{\"line\":{\"colorbar\":{\"outlinewidth\":1,\"tickcolor\":\"rgb(36,36,36)\",\"ticks\":\"outside\"}},\"marker\":{\"colorbar\":{\"outlinewidth\":1,\"tickcolor\":\"rgb(36,36,36)\",\"ticks\":\"outside\"}},\"type\":\"scatter3d\"}],\"scattercarpet\":[{\"marker\":{\"colorbar\":{\"outlinewidth\":1,\"tickcolor\":\"rgb(36,36,36)\",\"ticks\":\"outside\"}},\"type\":\"scattercarpet\"}],\"scattergeo\":[{\"marker\":{\"colorbar\":{\"outlinewidth\":1,\"tickcolor\":\"rgb(36,36,36)\",\"ticks\":\"outside\"}},\"type\":\"scattergeo\"}],\"scattergl\":[{\"marker\":{\"colorbar\":{\"outlinewidth\":1,\"tickcolor\":\"rgb(36,36,36)\",\"ticks\":\"outside\"}},\"type\":\"scattergl\"}],\"scattermapbox\":[{\"marker\":{\"colorbar\":{\"outlinewidth\":1,\"tickcolor\":\"rgb(36,36,36)\",\"ticks\":\"outside\"}},\"type\":\"scattermapbox\"}],\"scatterpolargl\":[{\"marker\":{\"colorbar\":{\"outlinewidth\":1,\"tickcolor\":\"rgb(36,36,36)\",\"ticks\":\"outside\"}},\"type\":\"scatterpolargl\"}],\"scatterpolar\":[{\"marker\":{\"colorbar\":{\"outlinewidth\":1,\"tickcolor\":\"rgb(36,36,36)\",\"ticks\":\"outside\"}},\"type\":\"scatterpolar\"}],\"scatter\":[{\"fillpattern\":{\"fillmode\":\"overlay\",\"size\":10,\"solidity\":0.2},\"type\":\"scatter\"}],\"scatterternary\":[{\"marker\":{\"colorbar\":{\"outlinewidth\":1,\"tickcolor\":\"rgb(36,36,36)\",\"ticks\":\"outside\"}},\"type\":\"scatterternary\"}],\"surface\":[{\"colorbar\":{\"outlinewidth\":1,\"tickcolor\":\"rgb(36,36,36)\",\"ticks\":\"outside\"},\"colorscale\":[[0.0,\"#440154\"],[0.1111111111111111,\"#482878\"],[0.2222222222222222,\"#3e4989\"],[0.3333333333333333,\"#31688e\"],[0.4444444444444444,\"#26828e\"],[0.5555555555555556,\"#1f9e89\"],[0.6666666666666666,\"#35b779\"],[0.7777777777777778,\"#6ece58\"],[0.8888888888888888,\"#b5de2b\"],[1.0,\"#fde725\"]],\"type\":\"surface\"}],\"table\":[{\"cells\":{\"fill\":{\"color\":\"rgb(237,237,237)\"},\"line\":{\"color\":\"white\"}},\"header\":{\"fill\":{\"color\":\"rgb(217,217,217)\"},\"line\":{\"color\":\"white\"}},\"type\":\"table\"}]},\"layout\":{\"annotationdefaults\":{\"arrowhead\":0,\"arrowwidth\":1},\"autotypenumbers\":\"strict\",\"coloraxis\":{\"colorbar\":{\"outlinewidth\":1,\"tickcolor\":\"rgb(36,36,36)\",\"ticks\":\"outside\"}},\"colorscale\":{\"diverging\":[[0.0,\"rgb(103,0,31)\"],[0.1,\"rgb(178,24,43)\"],[0.2,\"rgb(214,96,77)\"],[0.3,\"rgb(244,165,130)\"],[0.4,\"rgb(253,219,199)\"],[0.5,\"rgb(247,247,247)\"],[0.6,\"rgb(209,229,240)\"],[0.7,\"rgb(146,197,222)\"],[0.8,\"rgb(67,147,195)\"],[0.9,\"rgb(33,102,172)\"],[1.0,\"rgb(5,48,97)\"]],\"sequential\":[[0.0,\"#440154\"],[0.1111111111111111,\"#482878\"],[0.2222222222222222,\"#3e4989\"],[0.3333333333333333,\"#31688e\"],[0.4444444444444444,\"#26828e\"],[0.5555555555555556,\"#1f9e89\"],[0.6666666666666666,\"#35b779\"],[0.7777777777777778,\"#6ece58\"],[0.8888888888888888,\"#b5de2b\"],[1.0,\"#fde725\"]],\"sequentialminus\":[[0.0,\"#440154\"],[0.1111111111111111,\"#482878\"],[0.2222222222222222,\"#3e4989\"],[0.3333333333333333,\"#31688e\"],[0.4444444444444444,\"#26828e\"],[0.5555555555555556,\"#1f9e89\"],[0.6666666666666666,\"#35b779\"],[0.7777777777777778,\"#6ece58\"],[0.8888888888888888,\"#b5de2b\"],[1.0,\"#fde725\"]]},\"colorway\":[\"#1F77B4\",\"#FF7F0E\",\"#2CA02C\",\"#D62728\",\"#9467BD\",\"#8C564B\",\"#E377C2\",\"#7F7F7F\",\"#BCBD22\",\"#17BECF\"],\"font\":{\"color\":\"rgb(36,36,36)\"},\"geo\":{\"bgcolor\":\"white\",\"lakecolor\":\"white\",\"landcolor\":\"white\",\"showlakes\":true,\"showland\":true,\"subunitcolor\":\"white\"},\"hoverlabel\":{\"align\":\"left\"},\"hovermode\":\"closest\",\"mapbox\":{\"style\":\"light\"},\"paper_bgcolor\":\"white\",\"plot_bgcolor\":\"white\",\"polar\":{\"angularaxis\":{\"gridcolor\":\"rgb(232,232,232)\",\"linecolor\":\"rgb(36,36,36)\",\"showgrid\":false,\"showline\":true,\"ticks\":\"outside\"},\"bgcolor\":\"white\",\"radialaxis\":{\"gridcolor\":\"rgb(232,232,232)\",\"linecolor\":\"rgb(36,36,36)\",\"showgrid\":false,\"showline\":true,\"ticks\":\"outside\"}},\"scene\":{\"xaxis\":{\"backgroundcolor\":\"white\",\"gridcolor\":\"rgb(232,232,232)\",\"gridwidth\":2,\"linecolor\":\"rgb(36,36,36)\",\"showbackground\":true,\"showgrid\":false,\"showline\":true,\"ticks\":\"outside\",\"zeroline\":false,\"zerolinecolor\":\"rgb(36,36,36)\"},\"yaxis\":{\"backgroundcolor\":\"white\",\"gridcolor\":\"rgb(232,232,232)\",\"gridwidth\":2,\"linecolor\":\"rgb(36,36,36)\",\"showbackground\":true,\"showgrid\":false,\"showline\":true,\"ticks\":\"outside\",\"zeroline\":false,\"zerolinecolor\":\"rgb(36,36,36)\"},\"zaxis\":{\"backgroundcolor\":\"white\",\"gridcolor\":\"rgb(232,232,232)\",\"gridwidth\":2,\"linecolor\":\"rgb(36,36,36)\",\"showbackground\":true,\"showgrid\":false,\"showline\":true,\"ticks\":\"outside\",\"zeroline\":false,\"zerolinecolor\":\"rgb(36,36,36)\"}},\"shapedefaults\":{\"fillcolor\":\"black\",\"line\":{\"width\":0},\"opacity\":0.3},\"ternary\":{\"aaxis\":{\"gridcolor\":\"rgb(232,232,232)\",\"linecolor\":\"rgb(36,36,36)\",\"showgrid\":false,\"showline\":true,\"ticks\":\"outside\"},\"baxis\":{\"gridcolor\":\"rgb(232,232,232)\",\"linecolor\":\"rgb(36,36,36)\",\"showgrid\":false,\"showline\":true,\"ticks\":\"outside\"},\"bgcolor\":\"white\",\"caxis\":{\"gridcolor\":\"rgb(232,232,232)\",\"linecolor\":\"rgb(36,36,36)\",\"showgrid\":false,\"showline\":true,\"ticks\":\"outside\"}},\"title\":{\"x\":0.5,\"xanchor\":\"center\"},\"xaxis\":{\"automargin\":true,\"gridcolor\":\"rgb(232,232,232)\",\"linecolor\":\"rgb(36,36,36)\",\"showgrid\":true,\"showline\":true,\"ticks\":\"outside\",\"title\":{\"standoff\":15},\"zeroline\":false,\"zerolinecolor\":\"rgb(36,36,36)\"},\"yaxis\":{\"automargin\":true,\"gridcolor\":\"rgb(232,232,232)\",\"linecolor\":\"rgb(36,36,36)\",\"showgrid\":true,\"showline\":true,\"ticks\":\"outside\",\"title\":{\"standoff\":15},\"zeroline\":false,\"zerolinecolor\":\"rgb(36,36,36)\"},\"autosize\":true,\"height\":400,\"margin\":{\"b\":30,\"l\":30,\"r\":30,\"t\":30},\"width\":600}},\"xaxis\":{\"anchor\":\"y\",\"domain\":[0.0,1.0],\"title\":{\"text\":\"category\"},\"categoryorder\":\"array\",\"categoryarray\":[\"Jinx\",\"Vi\"]},\"yaxis\":{\"anchor\":\"x\",\"domain\":[0.0,1.0],\"title\":{\"text\":\"winrate\"}},\"legend\":{\"title\":{\"text\":\"category\"},\"tracegroupgap\":0},\"boxmode\":\"overlay\"},                        {\"responsive\": true}                    ).then(function(){\n",
       "                            \n",
       "var gd = document.getElementById('7bbc09a0-63f0-4cb3-8fca-866e53521f11');\n",
       "var x = new MutationObserver(function (mutations, observer) {{\n",
       "        var display = window.getComputedStyle(gd).display;\n",
       "        if (!display || display === 'none') {{\n",
       "            console.log([gd, 'removed!']);\n",
       "            Plotly.purge(gd);\n",
       "            observer.disconnect();\n",
       "        }}\n",
       "}});\n",
       "\n",
       "// Listen for the removal of the full notebook cells\n",
       "var notebookContainer = gd.closest('#notebook-container');\n",
       "if (notebookContainer) {{\n",
       "    x.observe(notebookContainer, {childList: true});\n",
       "}}\n",
       "\n",
       "// Listen for the clearing of the current output cell\n",
       "var outputEl = gd.closest('.output');\n",
       "if (outputEl) {{\n",
       "    x.observe(outputEl, {childList: true});\n",
       "}}\n",
       "\n",
       "                        })                };                });            </script>        </div>"
      ]
     },
     "metadata": {},
     "output_type": "display_data"
    }
   ],
   "source": [
    "df1 = pd.DataFrame({'winrate' : jinxwinrate['jinxwinrate'], 'category' : 'Jinx'})\n",
    "df2 = pd.DataFrame({'winrate' : viwinrate['viwinrate'], 'category' : 'Vi'})\n",
    "viandjinxwinrates = pd.concat([df1, df2])\n",
    "fig = px.box(viandjinxwinrates, x=\"category\", y=\"winrate\",color=\"category\", color_discrete_map={'Vi' : '#870146', 'Jinx' : '#324AB2'})\n",
    "fig.show()"
   ]
  },
  {
   "cell_type": "code",
   "execution_count": null,
   "metadata": {},
   "outputs": [],
   "source": [
    "# TODO: Aggregates"
   ]
  },
  {
   "cell_type": "code",
   "execution_count": null,
   "metadata": {},
   "outputs": [],
   "source": [
    "#TODO: Imputation"
   ]
  },
  {
   "cell_type": "markdown",
   "metadata": {},
   "source": [
    "## Step 3: Framing a Prediction Problem"
   ]
  },
  {
   "cell_type": "code",
   "execution_count": null,
   "metadata": {
    "ExecuteTime": {
     "end_time": "2019-10-31T23:36:28.657068Z",
     "start_time": "2019-10-31T23:36:28.654650Z"
    }
   },
   "outputs": [],
   "source": [
    "# TOD"
   ]
  },
  {
   "cell_type": "markdown",
   "metadata": {},
   "source": [
    "## Step 4: Baseline Model"
   ]
  },
  {
   "cell_type": "code",
   "execution_count": null,
   "metadata": {
    "ExecuteTime": {
     "end_time": "2019-10-31T23:36:28.662099Z",
     "start_time": "2019-10-31T23:36:28.660016Z"
    }
   },
   "outputs": [],
   "source": [
    "# TODO"
   ]
  },
  {
   "cell_type": "markdown",
   "metadata": {},
   "source": [
    "## Step 5: Final Model"
   ]
  },
  {
   "cell_type": "code",
   "execution_count": null,
   "metadata": {
    "ExecuteTime": {
     "end_time": "2019-10-31T23:36:28.662099Z",
     "start_time": "2019-10-31T23:36:28.660016Z"
    }
   },
   "outputs": [],
   "source": [
    "# TODO"
   ]
  }
 ],
 "metadata": {
  "kernelspec": {
   "display_name": "pds",
   "language": "python",
   "name": "python3"
  },
  "language_info": {
   "codemirror_mode": {
    "name": "ipython",
    "version": 3
   },
   "file_extension": ".py",
   "mimetype": "text/x-python",
   "name": "python",
   "nbconvert_exporter": "python",
   "pygments_lexer": "ipython3",
   "version": "3.10.16"
  }
 },
 "nbformat": 4,
 "nbformat_minor": 4
}
